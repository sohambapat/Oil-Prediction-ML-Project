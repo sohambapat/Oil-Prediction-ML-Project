{
 "cells": [
  {
   "cell_type": "markdown",
   "id": "61c5ea5e",
   "metadata": {
    "tags": []
   },
   "source": [
    "# Preprocessing csv files"
   ]
  },
  {
   "cell_type": "code",
   "execution_count": 2,
   "id": "7d805314",
   "metadata": {},
   "outputs": [],
   "source": [
    "import pandas as pd\n",
    "import numpy as np"
   ]
  },
  {
   "cell_type": "code",
   "execution_count": null,
   "id": "9d57a312-8eba-49c1-aeb5-116b0d7ff5ef",
   "metadata": {},
   "outputs": [],
   "source": []
  },
  {
   "cell_type": "markdown",
   "id": "d97170a0-4551-4535-b879-354bc3940887",
   "metadata": {},
   "source": [
    "# Bitcoin"
   ]
  },
  {
   "cell_type": "code",
   "execution_count": 15,
   "id": "1fd64359-ab7a-4c30-90c2-903c1400d08c",
   "metadata": {},
   "outputs": [],
   "source": [
    "bitcoin = pd.read_csv('data/bitcoin_yahoo.csv')"
   ]
  },
  {
   "cell_type": "code",
   "execution_count": 16,
   "id": "c435f1c4-c0cc-490d-a042-bdd32c9380a9",
   "metadata": {},
   "outputs": [
    {
     "data": {
      "text/html": [
       "<div>\n",
       "<style scoped>\n",
       "    .dataframe tbody tr th:only-of-type {\n",
       "        vertical-align: middle;\n",
       "    }\n",
       "\n",
       "    .dataframe tbody tr th {\n",
       "        vertical-align: top;\n",
       "    }\n",
       "\n",
       "    .dataframe thead th {\n",
       "        text-align: right;\n",
       "    }\n",
       "</style>\n",
       "<table border=\"1\" class=\"dataframe\">\n",
       "  <thead>\n",
       "    <tr style=\"text-align: right;\">\n",
       "      <th></th>\n",
       "      <th>Date</th>\n",
       "      <th>Open</th>\n",
       "      <th>High</th>\n",
       "      <th>Low</th>\n",
       "      <th>Close</th>\n",
       "      <th>Adj Close</th>\n",
       "      <th>Volume</th>\n",
       "    </tr>\n",
       "  </thead>\n",
       "  <tbody>\n",
       "    <tr>\n",
       "      <th>0</th>\n",
       "      <td>2014-09-17</td>\n",
       "      <td>465.864014</td>\n",
       "      <td>468.174011</td>\n",
       "      <td>452.421997</td>\n",
       "      <td>457.334015</td>\n",
       "      <td>457.334015</td>\n",
       "      <td>21056800</td>\n",
       "    </tr>\n",
       "    <tr>\n",
       "      <th>1</th>\n",
       "      <td>2014-09-18</td>\n",
       "      <td>456.859985</td>\n",
       "      <td>456.859985</td>\n",
       "      <td>413.104004</td>\n",
       "      <td>424.440002</td>\n",
       "      <td>424.440002</td>\n",
       "      <td>34483200</td>\n",
       "    </tr>\n",
       "    <tr>\n",
       "      <th>2</th>\n",
       "      <td>2014-09-19</td>\n",
       "      <td>424.102997</td>\n",
       "      <td>427.834991</td>\n",
       "      <td>384.532013</td>\n",
       "      <td>394.795990</td>\n",
       "      <td>394.795990</td>\n",
       "      <td>37919700</td>\n",
       "    </tr>\n",
       "    <tr>\n",
       "      <th>3</th>\n",
       "      <td>2014-09-20</td>\n",
       "      <td>394.673004</td>\n",
       "      <td>423.295990</td>\n",
       "      <td>389.882996</td>\n",
       "      <td>408.903992</td>\n",
       "      <td>408.903992</td>\n",
       "      <td>36863600</td>\n",
       "    </tr>\n",
       "    <tr>\n",
       "      <th>4</th>\n",
       "      <td>2014-09-21</td>\n",
       "      <td>408.084991</td>\n",
       "      <td>412.425995</td>\n",
       "      <td>393.181000</td>\n",
       "      <td>398.821014</td>\n",
       "      <td>398.821014</td>\n",
       "      <td>26580100</td>\n",
       "    </tr>\n",
       "  </tbody>\n",
       "</table>\n",
       "</div>"
      ],
      "text/plain": [
       "         Date        Open        High         Low       Close   Adj Close  \\\n",
       "0  2014-09-17  465.864014  468.174011  452.421997  457.334015  457.334015   \n",
       "1  2014-09-18  456.859985  456.859985  413.104004  424.440002  424.440002   \n",
       "2  2014-09-19  424.102997  427.834991  384.532013  394.795990  394.795990   \n",
       "3  2014-09-20  394.673004  423.295990  389.882996  408.903992  408.903992   \n",
       "4  2014-09-21  408.084991  412.425995  393.181000  398.821014  398.821014   \n",
       "\n",
       "     Volume  \n",
       "0  21056800  \n",
       "1  34483200  \n",
       "2  37919700  \n",
       "3  36863600  \n",
       "4  26580100  "
      ]
     },
     "execution_count": 16,
     "metadata": {},
     "output_type": "execute_result"
    }
   ],
   "source": [
    "bitcoin.head()"
   ]
  },
  {
   "cell_type": "code",
   "execution_count": 17,
   "id": "dbeb17b8-1a41-4d18-b086-bb22d556bcce",
   "metadata": {},
   "outputs": [
    {
     "name": "stderr",
     "output_type": "stream",
     "text": [
      "C:\\Users\\rajma\\AppData\\Local\\Temp\\ipykernel_11208\\3422391016.py:2: SettingWithCopyWarning: \n",
      "A value is trying to be set on a copy of a slice from a DataFrame\n",
      "\n",
      "See the caveats in the documentation: https://pandas.pydata.org/pandas-docs/stable/user_guide/indexing.html#returning-a-view-versus-a-copy\n",
      "  bit_close.rename(columns = {'Close':'bitcoin_close'}, inplace = True)\n"
     ]
    }
   ],
   "source": [
    "bit_close = bitcoin[['Date','Close']]\n",
    "bit_close.rename(columns = {'Close':'bitcoin_close'}, inplace = True)"
   ]
  },
  {
   "cell_type": "code",
   "execution_count": 18,
   "id": "506cf1d7-e684-4494-8af4-58b18af84cb0",
   "metadata": {},
   "outputs": [
    {
     "data": {
      "text/html": [
       "<div>\n",
       "<style scoped>\n",
       "    .dataframe tbody tr th:only-of-type {\n",
       "        vertical-align: middle;\n",
       "    }\n",
       "\n",
       "    .dataframe tbody tr th {\n",
       "        vertical-align: top;\n",
       "    }\n",
       "\n",
       "    .dataframe thead th {\n",
       "        text-align: right;\n",
       "    }\n",
       "</style>\n",
       "<table border=\"1\" class=\"dataframe\">\n",
       "  <thead>\n",
       "    <tr style=\"text-align: right;\">\n",
       "      <th></th>\n",
       "      <th>Date</th>\n",
       "      <th>bitcoin_close</th>\n",
       "    </tr>\n",
       "  </thead>\n",
       "  <tbody>\n",
       "    <tr>\n",
       "      <th>0</th>\n",
       "      <td>2014-09-17</td>\n",
       "      <td>457.334015</td>\n",
       "    </tr>\n",
       "    <tr>\n",
       "      <th>1</th>\n",
       "      <td>2014-09-18</td>\n",
       "      <td>424.440002</td>\n",
       "    </tr>\n",
       "    <tr>\n",
       "      <th>2</th>\n",
       "      <td>2014-09-19</td>\n",
       "      <td>394.795990</td>\n",
       "    </tr>\n",
       "    <tr>\n",
       "      <th>3</th>\n",
       "      <td>2014-09-20</td>\n",
       "      <td>408.903992</td>\n",
       "    </tr>\n",
       "    <tr>\n",
       "      <th>4</th>\n",
       "      <td>2014-09-21</td>\n",
       "      <td>398.821014</td>\n",
       "    </tr>\n",
       "    <tr>\n",
       "      <th>...</th>\n",
       "      <td>...</td>\n",
       "      <td>...</td>\n",
       "    </tr>\n",
       "    <tr>\n",
       "      <th>2736</th>\n",
       "      <td>2022-03-15</td>\n",
       "      <td>39338.785156</td>\n",
       "    </tr>\n",
       "    <tr>\n",
       "      <th>2737</th>\n",
       "      <td>2022-03-16</td>\n",
       "      <td>41143.929688</td>\n",
       "    </tr>\n",
       "    <tr>\n",
       "      <th>2738</th>\n",
       "      <td>2022-03-17</td>\n",
       "      <td>40951.378906</td>\n",
       "    </tr>\n",
       "    <tr>\n",
       "      <th>2739</th>\n",
       "      <td>2022-03-18</td>\n",
       "      <td>41801.156250</td>\n",
       "    </tr>\n",
       "    <tr>\n",
       "      <th>2740</th>\n",
       "      <td>2022-03-19</td>\n",
       "      <td>42190.652344</td>\n",
       "    </tr>\n",
       "  </tbody>\n",
       "</table>\n",
       "<p>2741 rows × 2 columns</p>\n",
       "</div>"
      ],
      "text/plain": [
       "            Date  bitcoin_close\n",
       "0     2014-09-17     457.334015\n",
       "1     2014-09-18     424.440002\n",
       "2     2014-09-19     394.795990\n",
       "3     2014-09-20     408.903992\n",
       "4     2014-09-21     398.821014\n",
       "...          ...            ...\n",
       "2736  2022-03-15   39338.785156\n",
       "2737  2022-03-16   41143.929688\n",
       "2738  2022-03-17   40951.378906\n",
       "2739  2022-03-18   41801.156250\n",
       "2740  2022-03-19   42190.652344\n",
       "\n",
       "[2741 rows x 2 columns]"
      ]
     },
     "execution_count": 18,
     "metadata": {},
     "output_type": "execute_result"
    }
   ],
   "source": [
    "bit_close"
   ]
  },
  {
   "cell_type": "code",
   "execution_count": 19,
   "id": "b31b4cb6-2ded-4233-a18b-382a8c01b552",
   "metadata": {},
   "outputs": [
    {
     "data": {
      "text/plain": [
       "str"
      ]
     },
     "execution_count": 19,
     "metadata": {},
     "output_type": "execute_result"
    }
   ],
   "source": [
    "type(bit_close['Date'][0])"
   ]
  },
  {
   "cell_type": "code",
   "execution_count": 20,
   "id": "893ae497-aca0-4e36-aecf-cf27db8017c8",
   "metadata": {},
   "outputs": [
    {
     "name": "stderr",
     "output_type": "stream",
     "text": [
      "C:\\Users\\rajma\\AppData\\Local\\Temp\\ipykernel_11208\\1684096208.py:1: SettingWithCopyWarning: \n",
      "A value is trying to be set on a copy of a slice from a DataFrame.\n",
      "Try using .loc[row_indexer,col_indexer] = value instead\n",
      "\n",
      "See the caveats in the documentation: https://pandas.pydata.org/pandas-docs/stable/user_guide/indexing.html#returning-a-view-versus-a-copy\n",
      "  bit_close['Date'] = pd.to_datetime(bit_close['Date'])\n"
     ]
    }
   ],
   "source": [
    "bit_close['Date'] = pd.to_datetime(bit_close['Date'])"
   ]
  },
  {
   "cell_type": "code",
   "execution_count": 21,
   "id": "ef00a0a5-5c1c-4282-a77b-2101a9d92194",
   "metadata": {},
   "outputs": [
    {
     "name": "stdout",
     "output_type": "stream",
     "text": [
      "<class 'pandas.core.frame.DataFrame'>\n",
      "RangeIndex: 2741 entries, 0 to 2740\n",
      "Data columns (total 2 columns):\n",
      " #   Column         Non-Null Count  Dtype         \n",
      "---  ------         --------------  -----         \n",
      " 0   Date           2741 non-null   datetime64[ns]\n",
      " 1   bitcoin_close  2741 non-null   float64       \n",
      "dtypes: datetime64[ns](1), float64(1)\n",
      "memory usage: 43.0 KB\n"
     ]
    }
   ],
   "source": [
    "bit_close.info()"
   ]
  },
  {
   "cell_type": "code",
   "execution_count": 22,
   "id": "cd910cd1-4c00-466f-af8b-66ede53354d2",
   "metadata": {},
   "outputs": [
    {
     "data": {
      "text/plain": [
       "2740"
      ]
     },
     "execution_count": 22,
     "metadata": {},
     "output_type": "execute_result"
    }
   ],
   "source": [
    "bit_close['Date'].argmax()"
   ]
  },
  {
   "cell_type": "code",
   "execution_count": 23,
   "id": "aa776ae8-bf90-4829-b78f-ebcde98bb19c",
   "metadata": {},
   "outputs": [
    {
     "data": {
      "text/plain": [
       "Timestamp('2022-03-19 00:00:00')"
      ]
     },
     "execution_count": 23,
     "metadata": {},
     "output_type": "execute_result"
    }
   ],
   "source": [
    "bit_close.Date.max()"
   ]
  },
  {
   "cell_type": "code",
   "execution_count": 24,
   "id": "5ff3bbea-d741-4ad6-b399-73e56e387253",
   "metadata": {},
   "outputs": [
    {
     "data": {
      "text/plain": [
       "Timestamp('2014-09-17 00:00:00')"
      ]
     },
     "execution_count": 24,
     "metadata": {},
     "output_type": "execute_result"
    }
   ],
   "source": [
    "bit_close.Date.min()"
   ]
  },
  {
   "cell_type": "code",
   "execution_count": null,
   "id": "d88978c7-8717-4fae-b2f5-af75c3bee0c9",
   "metadata": {},
   "outputs": [],
   "source": []
  },
  {
   "cell_type": "markdown",
   "id": "6c121b60-11af-4920-8df3-d281a514b888",
   "metadata": {},
   "source": [
    "# Wheat"
   ]
  },
  {
   "cell_type": "code",
   "execution_count": 27,
   "id": "5064af81-148f-4372-8974-299d599397cd",
   "metadata": {},
   "outputs": [
    {
     "name": "stderr",
     "output_type": "stream",
     "text": [
      "C:\\Users\\rajma\\AppData\\Local\\Temp\\ipykernel_11208\\3606270237.py:3: SettingWithCopyWarning: \n",
      "A value is trying to be set on a copy of a slice from a DataFrame\n",
      "\n",
      "See the caveats in the documentation: https://pandas.pydata.org/pandas-docs/stable/user_guide/indexing.html#returning-a-view-versus-a-copy\n",
      "  wheat_close.rename(columns = {'Close':'wheat_close'}, inplace = True)\n",
      "C:\\Users\\rajma\\AppData\\Local\\Temp\\ipykernel_11208\\3606270237.py:4: SettingWithCopyWarning: \n",
      "A value is trying to be set on a copy of a slice from a DataFrame.\n",
      "Try using .loc[row_indexer,col_indexer] = value instead\n",
      "\n",
      "See the caveats in the documentation: https://pandas.pydata.org/pandas-docs/stable/user_guide/indexing.html#returning-a-view-versus-a-copy\n",
      "  wheat_close['Date'] = pd.to_datetime(wheat_close['Date'])\n"
     ]
    }
   ],
   "source": [
    "wheat = pd.read_csv('data/wheat_yahoo.csv')\n",
    "wheat_close = wheat[['Date','Close']]\n",
    "wheat_close.rename(columns = {'Close':'wheat_close'}, inplace = True)\n",
    "wheat_close['Date'] = pd.to_datetime(wheat_close['Date'])"
   ]
  },
  {
   "cell_type": "code",
   "execution_count": 29,
   "id": "5f35774b-a7e1-46f0-b8dc-c2e99de92499",
   "metadata": {},
   "outputs": [
    {
     "data": {
      "text/html": [
       "<div>\n",
       "<style scoped>\n",
       "    .dataframe tbody tr th:only-of-type {\n",
       "        vertical-align: middle;\n",
       "    }\n",
       "\n",
       "    .dataframe tbody tr th {\n",
       "        vertical-align: top;\n",
       "    }\n",
       "\n",
       "    .dataframe thead th {\n",
       "        text-align: right;\n",
       "    }\n",
       "</style>\n",
       "<table border=\"1\" class=\"dataframe\">\n",
       "  <thead>\n",
       "    <tr style=\"text-align: right;\">\n",
       "      <th></th>\n",
       "      <th>Date</th>\n",
       "      <th>wheat_close</th>\n",
       "    </tr>\n",
       "  </thead>\n",
       "  <tbody>\n",
       "    <tr>\n",
       "      <th>0</th>\n",
       "      <td>2000-07-17</td>\n",
       "      <td>244.00</td>\n",
       "    </tr>\n",
       "    <tr>\n",
       "      <th>1</th>\n",
       "      <td>2000-07-18</td>\n",
       "      <td>241.25</td>\n",
       "    </tr>\n",
       "    <tr>\n",
       "      <th>2</th>\n",
       "      <td>2000-07-19</td>\n",
       "      <td>245.00</td>\n",
       "    </tr>\n",
       "    <tr>\n",
       "      <th>3</th>\n",
       "      <td>2000-07-20</td>\n",
       "      <td>247.00</td>\n",
       "    </tr>\n",
       "    <tr>\n",
       "      <th>4</th>\n",
       "      <td>2000-07-21</td>\n",
       "      <td>247.25</td>\n",
       "    </tr>\n",
       "  </tbody>\n",
       "</table>\n",
       "</div>"
      ],
      "text/plain": [
       "        Date  wheat_close\n",
       "0 2000-07-17       244.00\n",
       "1 2000-07-18       241.25\n",
       "2 2000-07-19       245.00\n",
       "3 2000-07-20       247.00\n",
       "4 2000-07-21       247.25"
      ]
     },
     "execution_count": 29,
     "metadata": {},
     "output_type": "execute_result"
    }
   ],
   "source": [
    "wheat_close.head()"
   ]
  },
  {
   "cell_type": "code",
   "execution_count": 30,
   "id": "ede73c29-d2fd-4216-b911-dbaee7a9f687",
   "metadata": {},
   "outputs": [
    {
     "data": {
      "text/plain": [
       "Timestamp('2022-03-18 00:00:00')"
      ]
     },
     "execution_count": 30,
     "metadata": {},
     "output_type": "execute_result"
    }
   ],
   "source": [
    "wheat_close.Date.max()"
   ]
  },
  {
   "cell_type": "code",
   "execution_count": 31,
   "id": "14839d0c-bfd8-42b0-97ba-d4710f7dda38",
   "metadata": {},
   "outputs": [
    {
     "data": {
      "text/plain": [
       "Timestamp('2000-07-17 00:00:00')"
      ]
     },
     "execution_count": 31,
     "metadata": {},
     "output_type": "execute_result"
    }
   ],
   "source": [
    "wheat_close.Date.min()"
   ]
  },
  {
   "cell_type": "code",
   "execution_count": 32,
   "id": "a37ae88a-99e8-4ffd-a027-b15348f968d5",
   "metadata": {},
   "outputs": [
    {
     "data": {
      "text/plain": [
       "5406"
      ]
     },
     "execution_count": 32,
     "metadata": {},
     "output_type": "execute_result"
    }
   ],
   "source": [
    "wheat_close['Date'].argmax()"
   ]
  },
  {
   "cell_type": "code",
   "execution_count": null,
   "id": "5f2ced37-e958-4c72-b104-7cc6a5ba5dec",
   "metadata": {},
   "outputs": [],
   "source": []
  },
  {
   "cell_type": "markdown",
   "id": "b9e04947-1e7f-4e13-bbf0-7e4311e23b2c",
   "metadata": {},
   "source": [
    "# heating oil"
   ]
  },
  {
   "cell_type": "code",
   "execution_count": 33,
   "id": "bd474cfd-634a-4389-a671-a7b1fbb07880",
   "metadata": {},
   "outputs": [],
   "source": [
    "heat = pd.read_csv('data/heating_oil_yahoo.csv')"
   ]
  },
  {
   "cell_type": "code",
   "execution_count": 34,
   "id": "9fa1c01d-418f-440a-be50-364b4aac1218",
   "metadata": {},
   "outputs": [
    {
     "data": {
      "text/html": [
       "<div>\n",
       "<style scoped>\n",
       "    .dataframe tbody tr th:only-of-type {\n",
       "        vertical-align: middle;\n",
       "    }\n",
       "\n",
       "    .dataframe tbody tr th {\n",
       "        vertical-align: top;\n",
       "    }\n",
       "\n",
       "    .dataframe thead th {\n",
       "        text-align: right;\n",
       "    }\n",
       "</style>\n",
       "<table border=\"1\" class=\"dataframe\">\n",
       "  <thead>\n",
       "    <tr style=\"text-align: right;\">\n",
       "      <th></th>\n",
       "      <th>Date</th>\n",
       "      <th>Open</th>\n",
       "      <th>High</th>\n",
       "      <th>Low</th>\n",
       "      <th>Close</th>\n",
       "      <th>Adj Close</th>\n",
       "      <th>Volume</th>\n",
       "    </tr>\n",
       "  </thead>\n",
       "  <tbody>\n",
       "    <tr>\n",
       "      <th>0</th>\n",
       "      <td>2000-09-01</td>\n",
       "      <td>0.9850</td>\n",
       "      <td>0.9910</td>\n",
       "      <td>0.9705</td>\n",
       "      <td>0.9764</td>\n",
       "      <td>0.9764</td>\n",
       "      <td>14679</td>\n",
       "    </tr>\n",
       "    <tr>\n",
       "      <th>1</th>\n",
       "      <td>2000-09-05</td>\n",
       "      <td>0.9950</td>\n",
       "      <td>0.9980</td>\n",
       "      <td>0.9750</td>\n",
       "      <td>0.9797</td>\n",
       "      <td>0.9797</td>\n",
       "      <td>17365</td>\n",
       "    </tr>\n",
       "    <tr>\n",
       "      <th>2</th>\n",
       "      <td>2000-09-06</td>\n",
       "      <td>0.9850</td>\n",
       "      <td>1.0000</td>\n",
       "      <td>0.9810</td>\n",
       "      <td>0.9966</td>\n",
       "      <td>0.9966</td>\n",
       "      <td>18879</td>\n",
       "    </tr>\n",
       "    <tr>\n",
       "      <th>3</th>\n",
       "      <td>2000-09-07</td>\n",
       "      <td>0.9900</td>\n",
       "      <td>1.0300</td>\n",
       "      <td>0.9880</td>\n",
       "      <td>1.0295</td>\n",
       "      <td>1.0295</td>\n",
       "      <td>23851</td>\n",
       "    </tr>\n",
       "    <tr>\n",
       "      <th>4</th>\n",
       "      <td>2000-09-08</td>\n",
       "      <td>1.0120</td>\n",
       "      <td>1.0200</td>\n",
       "      <td>0.9910</td>\n",
       "      <td>0.9949</td>\n",
       "      <td>0.9949</td>\n",
       "      <td>23189</td>\n",
       "    </tr>\n",
       "    <tr>\n",
       "      <th>...</th>\n",
       "      <td>...</td>\n",
       "      <td>...</td>\n",
       "      <td>...</td>\n",
       "      <td>...</td>\n",
       "      <td>...</td>\n",
       "      <td>...</td>\n",
       "      <td>...</td>\n",
       "    </tr>\n",
       "    <tr>\n",
       "      <th>5403</th>\n",
       "      <td>2022-03-14</td>\n",
       "      <td>3.4176</td>\n",
       "      <td>3.4404</td>\n",
       "      <td>3.2145</td>\n",
       "      <td>3.2763</td>\n",
       "      <td>3.2763</td>\n",
       "      <td>27327</td>\n",
       "    </tr>\n",
       "    <tr>\n",
       "      <th>5404</th>\n",
       "      <td>2022-03-15</td>\n",
       "      <td>3.2286</td>\n",
       "      <td>3.2600</td>\n",
       "      <td>2.9330</td>\n",
       "      <td>3.0297</td>\n",
       "      <td>3.0297</td>\n",
       "      <td>34778</td>\n",
       "    </tr>\n",
       "    <tr>\n",
       "      <th>5405</th>\n",
       "      <td>2022-03-16</td>\n",
       "      <td>3.0090</td>\n",
       "      <td>3.1703</td>\n",
       "      <td>2.9740</td>\n",
       "      <td>3.1001</td>\n",
       "      <td>3.1001</td>\n",
       "      <td>28751</td>\n",
       "    </tr>\n",
       "    <tr>\n",
       "      <th>5406</th>\n",
       "      <td>2022-03-17</td>\n",
       "      <td>3.1627</td>\n",
       "      <td>3.5518</td>\n",
       "      <td>3.1312</td>\n",
       "      <td>3.4874</td>\n",
       "      <td>3.4874</td>\n",
       "      <td>29451</td>\n",
       "    </tr>\n",
       "    <tr>\n",
       "      <th>5407</th>\n",
       "      <td>2022-03-18</td>\n",
       "      <td>3.4878</td>\n",
       "      <td>3.6263</td>\n",
       "      <td>3.4365</td>\n",
       "      <td>3.5981</td>\n",
       "      <td>3.5981</td>\n",
       "      <td>26141</td>\n",
       "    </tr>\n",
       "  </tbody>\n",
       "</table>\n",
       "<p>5408 rows × 7 columns</p>\n",
       "</div>"
      ],
      "text/plain": [
       "            Date    Open    High     Low   Close  Adj Close  Volume\n",
       "0     2000-09-01  0.9850  0.9910  0.9705  0.9764     0.9764   14679\n",
       "1     2000-09-05  0.9950  0.9980  0.9750  0.9797     0.9797   17365\n",
       "2     2000-09-06  0.9850  1.0000  0.9810  0.9966     0.9966   18879\n",
       "3     2000-09-07  0.9900  1.0300  0.9880  1.0295     1.0295   23851\n",
       "4     2000-09-08  1.0120  1.0200  0.9910  0.9949     0.9949   23189\n",
       "...          ...     ...     ...     ...     ...        ...     ...\n",
       "5403  2022-03-14  3.4176  3.4404  3.2145  3.2763     3.2763   27327\n",
       "5404  2022-03-15  3.2286  3.2600  2.9330  3.0297     3.0297   34778\n",
       "5405  2022-03-16  3.0090  3.1703  2.9740  3.1001     3.1001   28751\n",
       "5406  2022-03-17  3.1627  3.5518  3.1312  3.4874     3.4874   29451\n",
       "5407  2022-03-18  3.4878  3.6263  3.4365  3.5981     3.5981   26141\n",
       "\n",
       "[5408 rows x 7 columns]"
      ]
     },
     "execution_count": 34,
     "metadata": {},
     "output_type": "execute_result"
    }
   ],
   "source": [
    "heat"
   ]
  },
  {
   "cell_type": "code",
   "execution_count": 35,
   "id": "bd1a2918-18ee-46b8-ac2d-1112849e84bd",
   "metadata": {},
   "outputs": [
    {
     "name": "stderr",
     "output_type": "stream",
     "text": [
      "C:\\Users\\rajma\\AppData\\Local\\Temp\\ipykernel_11208\\482881054.py:2: SettingWithCopyWarning: \n",
      "A value is trying to be set on a copy of a slice from a DataFrame\n",
      "\n",
      "See the caveats in the documentation: https://pandas.pydata.org/pandas-docs/stable/user_guide/indexing.html#returning-a-view-versus-a-copy\n",
      "  heat_close.rename(columns = {'Close':'heat_close'}, inplace = True)\n",
      "C:\\Users\\rajma\\AppData\\Local\\Temp\\ipykernel_11208\\482881054.py:3: SettingWithCopyWarning: \n",
      "A value is trying to be set on a copy of a slice from a DataFrame.\n",
      "Try using .loc[row_indexer,col_indexer] = value instead\n",
      "\n",
      "See the caveats in the documentation: https://pandas.pydata.org/pandas-docs/stable/user_guide/indexing.html#returning-a-view-versus-a-copy\n",
      "  heat_close['Date'] = pd.to_datetime(heat_close['Date'])\n"
     ]
    }
   ],
   "source": [
    "heat_close = heat[['Date','Close']]\n",
    "heat_close.rename(columns = {'Close':'heat_close'}, inplace = True)\n",
    "heat_close['Date'] = pd.to_datetime(heat_close['Date'])"
   ]
  },
  {
   "cell_type": "code",
   "execution_count": 36,
   "id": "a91778af-1336-4a9d-ab78-604bc4455331",
   "metadata": {},
   "outputs": [
    {
     "data": {
      "text/html": [
       "<div>\n",
       "<style scoped>\n",
       "    .dataframe tbody tr th:only-of-type {\n",
       "        vertical-align: middle;\n",
       "    }\n",
       "\n",
       "    .dataframe tbody tr th {\n",
       "        vertical-align: top;\n",
       "    }\n",
       "\n",
       "    .dataframe thead th {\n",
       "        text-align: right;\n",
       "    }\n",
       "</style>\n",
       "<table border=\"1\" class=\"dataframe\">\n",
       "  <thead>\n",
       "    <tr style=\"text-align: right;\">\n",
       "      <th></th>\n",
       "      <th>Date</th>\n",
       "      <th>heat_close</th>\n",
       "    </tr>\n",
       "  </thead>\n",
       "  <tbody>\n",
       "    <tr>\n",
       "      <th>0</th>\n",
       "      <td>2000-09-01</td>\n",
       "      <td>0.9764</td>\n",
       "    </tr>\n",
       "    <tr>\n",
       "      <th>1</th>\n",
       "      <td>2000-09-05</td>\n",
       "      <td>0.9797</td>\n",
       "    </tr>\n",
       "    <tr>\n",
       "      <th>2</th>\n",
       "      <td>2000-09-06</td>\n",
       "      <td>0.9966</td>\n",
       "    </tr>\n",
       "    <tr>\n",
       "      <th>3</th>\n",
       "      <td>2000-09-07</td>\n",
       "      <td>1.0295</td>\n",
       "    </tr>\n",
       "    <tr>\n",
       "      <th>4</th>\n",
       "      <td>2000-09-08</td>\n",
       "      <td>0.9949</td>\n",
       "    </tr>\n",
       "    <tr>\n",
       "      <th>...</th>\n",
       "      <td>...</td>\n",
       "      <td>...</td>\n",
       "    </tr>\n",
       "    <tr>\n",
       "      <th>5403</th>\n",
       "      <td>2022-03-14</td>\n",
       "      <td>3.2763</td>\n",
       "    </tr>\n",
       "    <tr>\n",
       "      <th>5404</th>\n",
       "      <td>2022-03-15</td>\n",
       "      <td>3.0297</td>\n",
       "    </tr>\n",
       "    <tr>\n",
       "      <th>5405</th>\n",
       "      <td>2022-03-16</td>\n",
       "      <td>3.1001</td>\n",
       "    </tr>\n",
       "    <tr>\n",
       "      <th>5406</th>\n",
       "      <td>2022-03-17</td>\n",
       "      <td>3.4874</td>\n",
       "    </tr>\n",
       "    <tr>\n",
       "      <th>5407</th>\n",
       "      <td>2022-03-18</td>\n",
       "      <td>3.5981</td>\n",
       "    </tr>\n",
       "  </tbody>\n",
       "</table>\n",
       "<p>5408 rows × 2 columns</p>\n",
       "</div>"
      ],
      "text/plain": [
       "           Date  heat_close\n",
       "0    2000-09-01      0.9764\n",
       "1    2000-09-05      0.9797\n",
       "2    2000-09-06      0.9966\n",
       "3    2000-09-07      1.0295\n",
       "4    2000-09-08      0.9949\n",
       "...         ...         ...\n",
       "5403 2022-03-14      3.2763\n",
       "5404 2022-03-15      3.0297\n",
       "5405 2022-03-16      3.1001\n",
       "5406 2022-03-17      3.4874\n",
       "5407 2022-03-18      3.5981\n",
       "\n",
       "[5408 rows x 2 columns]"
      ]
     },
     "execution_count": 36,
     "metadata": {},
     "output_type": "execute_result"
    }
   ],
   "source": [
    "heat_close"
   ]
  },
  {
   "cell_type": "code",
   "execution_count": 40,
   "id": "4505f52f-6347-44a0-99e1-31cded7b164c",
   "metadata": {},
   "outputs": [
    {
     "data": {
      "text/plain": [
       "5407"
      ]
     },
     "execution_count": 40,
     "metadata": {},
     "output_type": "execute_result"
    }
   ],
   "source": [
    "heat_close['Date'].argmax()"
   ]
  },
  {
   "cell_type": "code",
   "execution_count": 41,
   "id": "e8c0f5f4-c4d1-4eac-8017-b827bcdc305d",
   "metadata": {},
   "outputs": [
    {
     "data": {
      "text/plain": [
       "Timestamp('2000-09-01 00:00:00')"
      ]
     },
     "execution_count": 41,
     "metadata": {},
     "output_type": "execute_result"
    }
   ],
   "source": [
    "heat_close.Date.min()"
   ]
  },
  {
   "cell_type": "code",
   "execution_count": 42,
   "id": "b49e4346-5fbd-438f-9f5a-afe5b1a7bdfd",
   "metadata": {},
   "outputs": [
    {
     "data": {
      "text/plain": [
       "Timestamp('2022-03-18 00:00:00')"
      ]
     },
     "execution_count": 42,
     "metadata": {},
     "output_type": "execute_result"
    }
   ],
   "source": [
    "heat_close.Date.max()"
   ]
  },
  {
   "cell_type": "code",
   "execution_count": null,
   "id": "8a2f10de-c33f-4b1b-8b95-8a1cef24be07",
   "metadata": {},
   "outputs": [],
   "source": []
  },
  {
   "cell_type": "markdown",
   "id": "3ae45cc3",
   "metadata": {
    "tags": []
   },
   "source": [
    "## Copper"
   ]
  },
  {
   "cell_type": "code",
   "execution_count": 43,
   "id": "fb7535be",
   "metadata": {
    "tags": []
   },
   "outputs": [],
   "source": [
    "cop = pd.read_csv('data/copper.csv')"
   ]
  },
  {
   "cell_type": "code",
   "execution_count": 44,
   "id": "68d71539",
   "metadata": {},
   "outputs": [
    {
     "data": {
      "text/html": [
       "<div>\n",
       "<style scoped>\n",
       "    .dataframe tbody tr th:only-of-type {\n",
       "        vertical-align: middle;\n",
       "    }\n",
       "\n",
       "    .dataframe tbody tr th {\n",
       "        vertical-align: top;\n",
       "    }\n",
       "\n",
       "    .dataframe thead th {\n",
       "        text-align: right;\n",
       "    }\n",
       "</style>\n",
       "<table border=\"1\" class=\"dataframe\">\n",
       "  <thead>\n",
       "    <tr style=\"text-align: right;\">\n",
       "      <th></th>\n",
       "      <th>Date</th>\n",
       "      <th>Open</th>\n",
       "      <th>High</th>\n",
       "      <th>Low</th>\n",
       "      <th>Close</th>\n",
       "      <th>Adj Close</th>\n",
       "      <th>Volume</th>\n",
       "    </tr>\n",
       "  </thead>\n",
       "  <tbody>\n",
       "    <tr>\n",
       "      <th>0</th>\n",
       "      <td>2000-08-30</td>\n",
       "      <td>0.8790</td>\n",
       "      <td>0.8870</td>\n",
       "      <td>0.8770</td>\n",
       "      <td>0.8850</td>\n",
       "      <td>0.8850</td>\n",
       "      <td>2886</td>\n",
       "    </tr>\n",
       "    <tr>\n",
       "      <th>1</th>\n",
       "      <td>2000-08-31</td>\n",
       "      <td>0.8850</td>\n",
       "      <td>0.8880</td>\n",
       "      <td>0.8800</td>\n",
       "      <td>0.8850</td>\n",
       "      <td>0.8850</td>\n",
       "      <td>1095</td>\n",
       "    </tr>\n",
       "    <tr>\n",
       "      <th>2</th>\n",
       "      <td>2000-09-01</td>\n",
       "      <td>0.8780</td>\n",
       "      <td>0.8890</td>\n",
       "      <td>0.8780</td>\n",
       "      <td>0.8890</td>\n",
       "      <td>0.8890</td>\n",
       "      <td>3449</td>\n",
       "    </tr>\n",
       "    <tr>\n",
       "      <th>3</th>\n",
       "      <td>2000-09-05</td>\n",
       "      <td>0.8960</td>\n",
       "      <td>0.9070</td>\n",
       "      <td>0.8950</td>\n",
       "      <td>0.9060</td>\n",
       "      <td>0.9060</td>\n",
       "      <td>1397</td>\n",
       "    </tr>\n",
       "    <tr>\n",
       "      <th>4</th>\n",
       "      <td>2000-09-06</td>\n",
       "      <td>0.9050</td>\n",
       "      <td>0.9060</td>\n",
       "      <td>0.8975</td>\n",
       "      <td>0.9015</td>\n",
       "      <td>0.9015</td>\n",
       "      <td>1195</td>\n",
       "    </tr>\n",
       "    <tr>\n",
       "      <th>...</th>\n",
       "      <td>...</td>\n",
       "      <td>...</td>\n",
       "      <td>...</td>\n",
       "      <td>...</td>\n",
       "      <td>...</td>\n",
       "      <td>...</td>\n",
       "      <td>...</td>\n",
       "    </tr>\n",
       "    <tr>\n",
       "      <th>4901</th>\n",
       "      <td>2020-03-13</td>\n",
       "      <td>2.4550</td>\n",
       "      <td>2.5345</td>\n",
       "      <td>2.4300</td>\n",
       "      <td>2.4740</td>\n",
       "      <td>2.4740</td>\n",
       "      <td>803</td>\n",
       "    </tr>\n",
       "    <tr>\n",
       "      <th>4902</th>\n",
       "      <td>2020-03-16</td>\n",
       "      <td>2.4550</td>\n",
       "      <td>2.4600</td>\n",
       "      <td>2.3640</td>\n",
       "      <td>2.3985</td>\n",
       "      <td>2.3985</td>\n",
       "      <td>516</td>\n",
       "    </tr>\n",
       "    <tr>\n",
       "      <th>4903</th>\n",
       "      <td>2020-03-17</td>\n",
       "      <td>2.4170</td>\n",
       "      <td>2.4170</td>\n",
       "      <td>2.3090</td>\n",
       "      <td>2.3155</td>\n",
       "      <td>2.3155</td>\n",
       "      <td>582</td>\n",
       "    </tr>\n",
       "    <tr>\n",
       "      <th>4904</th>\n",
       "      <td>2020-03-18</td>\n",
       "      <td>2.3160</td>\n",
       "      <td>2.3225</td>\n",
       "      <td>2.1220</td>\n",
       "      <td>2.1605</td>\n",
       "      <td>2.1605</td>\n",
       "      <td>480</td>\n",
       "    </tr>\n",
       "    <tr>\n",
       "      <th>4905</th>\n",
       "      <td>2020-03-19</td>\n",
       "      <td>2.1615</td>\n",
       "      <td>2.2000</td>\n",
       "      <td>2.0595</td>\n",
       "      <td>2.2000</td>\n",
       "      <td>2.2000</td>\n",
       "      <td>470</td>\n",
       "    </tr>\n",
       "  </tbody>\n",
       "</table>\n",
       "<p>4906 rows × 7 columns</p>\n",
       "</div>"
      ],
      "text/plain": [
       "            Date    Open    High     Low   Close  Adj Close  Volume\n",
       "0     2000-08-30  0.8790  0.8870  0.8770  0.8850     0.8850    2886\n",
       "1     2000-08-31  0.8850  0.8880  0.8800  0.8850     0.8850    1095\n",
       "2     2000-09-01  0.8780  0.8890  0.8780  0.8890     0.8890    3449\n",
       "3     2000-09-05  0.8960  0.9070  0.8950  0.9060     0.9060    1397\n",
       "4     2000-09-06  0.9050  0.9060  0.8975  0.9015     0.9015    1195\n",
       "...          ...     ...     ...     ...     ...        ...     ...\n",
       "4901  2020-03-13  2.4550  2.5345  2.4300  2.4740     2.4740     803\n",
       "4902  2020-03-16  2.4550  2.4600  2.3640  2.3985     2.3985     516\n",
       "4903  2020-03-17  2.4170  2.4170  2.3090  2.3155     2.3155     582\n",
       "4904  2020-03-18  2.3160  2.3225  2.1220  2.1605     2.1605     480\n",
       "4905  2020-03-19  2.1615  2.2000  2.0595  2.2000     2.2000     470\n",
       "\n",
       "[4906 rows x 7 columns]"
      ]
     },
     "execution_count": 44,
     "metadata": {},
     "output_type": "execute_result"
    }
   ],
   "source": [
    "cop"
   ]
  },
  {
   "cell_type": "code",
   "execution_count": 45,
   "id": "7c90c3ae",
   "metadata": {},
   "outputs": [
    {
     "name": "stderr",
     "output_type": "stream",
     "text": [
      "C:\\Users\\rajma\\AppData\\Local\\Temp\\ipykernel_11208\\1640135574.py:2: SettingWithCopyWarning: \n",
      "A value is trying to be set on a copy of a slice from a DataFrame\n",
      "\n",
      "See the caveats in the documentation: https://pandas.pydata.org/pandas-docs/stable/user_guide/indexing.html#returning-a-view-versus-a-copy\n",
      "  cop_close.rename(columns = {'Close':'copper_close'}, inplace = True)\n"
     ]
    },
    {
     "data": {
      "text/html": [
       "<div>\n",
       "<style scoped>\n",
       "    .dataframe tbody tr th:only-of-type {\n",
       "        vertical-align: middle;\n",
       "    }\n",
       "\n",
       "    .dataframe tbody tr th {\n",
       "        vertical-align: top;\n",
       "    }\n",
       "\n",
       "    .dataframe thead th {\n",
       "        text-align: right;\n",
       "    }\n",
       "</style>\n",
       "<table border=\"1\" class=\"dataframe\">\n",
       "  <thead>\n",
       "    <tr style=\"text-align: right;\">\n",
       "      <th></th>\n",
       "      <th>Date</th>\n",
       "      <th>copper_close</th>\n",
       "    </tr>\n",
       "  </thead>\n",
       "  <tbody>\n",
       "    <tr>\n",
       "      <th>0</th>\n",
       "      <td>2000-08-30</td>\n",
       "      <td>0.8850</td>\n",
       "    </tr>\n",
       "    <tr>\n",
       "      <th>1</th>\n",
       "      <td>2000-08-31</td>\n",
       "      <td>0.8850</td>\n",
       "    </tr>\n",
       "    <tr>\n",
       "      <th>2</th>\n",
       "      <td>2000-09-01</td>\n",
       "      <td>0.8890</td>\n",
       "    </tr>\n",
       "    <tr>\n",
       "      <th>3</th>\n",
       "      <td>2000-09-05</td>\n",
       "      <td>0.9060</td>\n",
       "    </tr>\n",
       "    <tr>\n",
       "      <th>4</th>\n",
       "      <td>2000-09-06</td>\n",
       "      <td>0.9015</td>\n",
       "    </tr>\n",
       "    <tr>\n",
       "      <th>...</th>\n",
       "      <td>...</td>\n",
       "      <td>...</td>\n",
       "    </tr>\n",
       "    <tr>\n",
       "      <th>4901</th>\n",
       "      <td>2020-03-13</td>\n",
       "      <td>2.4740</td>\n",
       "    </tr>\n",
       "    <tr>\n",
       "      <th>4902</th>\n",
       "      <td>2020-03-16</td>\n",
       "      <td>2.3985</td>\n",
       "    </tr>\n",
       "    <tr>\n",
       "      <th>4903</th>\n",
       "      <td>2020-03-17</td>\n",
       "      <td>2.3155</td>\n",
       "    </tr>\n",
       "    <tr>\n",
       "      <th>4904</th>\n",
       "      <td>2020-03-18</td>\n",
       "      <td>2.1605</td>\n",
       "    </tr>\n",
       "    <tr>\n",
       "      <th>4905</th>\n",
       "      <td>2020-03-19</td>\n",
       "      <td>2.2000</td>\n",
       "    </tr>\n",
       "  </tbody>\n",
       "</table>\n",
       "<p>4906 rows × 2 columns</p>\n",
       "</div>"
      ],
      "text/plain": [
       "            Date  copper_close\n",
       "0     2000-08-30        0.8850\n",
       "1     2000-08-31        0.8850\n",
       "2     2000-09-01        0.8890\n",
       "3     2000-09-05        0.9060\n",
       "4     2000-09-06        0.9015\n",
       "...          ...           ...\n",
       "4901  2020-03-13        2.4740\n",
       "4902  2020-03-16        2.3985\n",
       "4903  2020-03-17        2.3155\n",
       "4904  2020-03-18        2.1605\n",
       "4905  2020-03-19        2.2000\n",
       "\n",
       "[4906 rows x 2 columns]"
      ]
     },
     "execution_count": 45,
     "metadata": {},
     "output_type": "execute_result"
    }
   ],
   "source": [
    "cop_close = cop[['Date','Close']]\n",
    "cop_close.rename(columns = {'Close':'copper_close'}, inplace = True)\n",
    "cop_close"
   ]
  },
  {
   "cell_type": "code",
   "execution_count": 46,
   "id": "73b6b7f8",
   "metadata": {},
   "outputs": [
    {
     "data": {
      "text/plain": [
       "str"
      ]
     },
     "execution_count": 46,
     "metadata": {},
     "output_type": "execute_result"
    }
   ],
   "source": [
    "type(cop_close['Date'][0])"
   ]
  },
  {
   "cell_type": "code",
   "execution_count": 47,
   "id": "4217b32b",
   "metadata": {},
   "outputs": [
    {
     "name": "stderr",
     "output_type": "stream",
     "text": [
      "C:\\Users\\rajma\\AppData\\Local\\Temp\\ipykernel_11208\\4273253329.py:1: SettingWithCopyWarning: \n",
      "A value is trying to be set on a copy of a slice from a DataFrame.\n",
      "Try using .loc[row_indexer,col_indexer] = value instead\n",
      "\n",
      "See the caveats in the documentation: https://pandas.pydata.org/pandas-docs/stable/user_guide/indexing.html#returning-a-view-versus-a-copy\n",
      "  cop_close['Date'] = pd.to_datetime(cop_close['Date'])\n"
     ]
    }
   ],
   "source": [
    "cop_close['Date'] = pd.to_datetime(cop_close['Date'])"
   ]
  },
  {
   "cell_type": "code",
   "execution_count": 48,
   "id": "c7712a5e",
   "metadata": {},
   "outputs": [
    {
     "name": "stdout",
     "output_type": "stream",
     "text": [
      "<class 'pandas.core.frame.DataFrame'>\n",
      "RangeIndex: 4906 entries, 0 to 4905\n",
      "Data columns (total 2 columns):\n",
      " #   Column        Non-Null Count  Dtype         \n",
      "---  ------        --------------  -----         \n",
      " 0   Date          4906 non-null   datetime64[ns]\n",
      " 1   copper_close  4906 non-null   float64       \n",
      "dtypes: datetime64[ns](1), float64(1)\n",
      "memory usage: 76.8 KB\n"
     ]
    }
   ],
   "source": [
    "cop_close.info()"
   ]
  },
  {
   "cell_type": "code",
   "execution_count": 49,
   "id": "ea7af4b7",
   "metadata": {},
   "outputs": [
    {
     "data": {
      "text/plain": [
       "4905"
      ]
     },
     "execution_count": 49,
     "metadata": {},
     "output_type": "execute_result"
    }
   ],
   "source": [
    "cop_close['Date'].argmax()"
   ]
  },
  {
   "cell_type": "code",
   "execution_count": 50,
   "id": "0dd36332",
   "metadata": {},
   "outputs": [
    {
     "data": {
      "text/plain": [
       "Timestamp('2000-08-30 00:00:00')"
      ]
     },
     "execution_count": 50,
     "metadata": {},
     "output_type": "execute_result"
    }
   ],
   "source": [
    "cop_close.Date.min() #year month day"
   ]
  },
  {
   "cell_type": "code",
   "execution_count": 51,
   "id": "00c4a922",
   "metadata": {},
   "outputs": [
    {
     "data": {
      "text/plain": [
       "Timestamp('2020-03-19 00:00:00')"
      ]
     },
     "execution_count": 51,
     "metadata": {},
     "output_type": "execute_result"
    }
   ],
   "source": [
    "cop_close.Date.max()"
   ]
  },
  {
   "cell_type": "markdown",
   "id": "865e7225-f8b4-4040-8b12-5fd2d054d430",
   "metadata": {},
   "source": [
    "## WTI Spot price "
   ]
  },
  {
   "cell_type": "code",
   "execution_count": 52,
   "id": "08189d06",
   "metadata": {},
   "outputs": [
    {
     "data": {
      "text/html": [
       "<div>\n",
       "<style scoped>\n",
       "    .dataframe tbody tr th:only-of-type {\n",
       "        vertical-align: middle;\n",
       "    }\n",
       "\n",
       "    .dataframe tbody tr th {\n",
       "        vertical-align: top;\n",
       "    }\n",
       "\n",
       "    .dataframe thead th {\n",
       "        text-align: right;\n",
       "    }\n",
       "</style>\n",
       "<table border=\"1\" class=\"dataframe\">\n",
       "  <thead>\n",
       "    <tr style=\"text-align: right;\">\n",
       "      <th></th>\n",
       "      <th>Date</th>\n",
       "      <th>WTI_dollar_per_barrel</th>\n",
       "    </tr>\n",
       "  </thead>\n",
       "  <tbody>\n",
       "    <tr>\n",
       "      <th>0</th>\n",
       "      <td>06/6/2022</td>\n",
       "      <td>118.41</td>\n",
       "    </tr>\n",
       "    <tr>\n",
       "      <th>1</th>\n",
       "      <td>06/3/2022</td>\n",
       "      <td>118.97</td>\n",
       "    </tr>\n",
       "    <tr>\n",
       "      <th>2</th>\n",
       "      <td>06/2/2022</td>\n",
       "      <td>116.88</td>\n",
       "    </tr>\n",
       "    <tr>\n",
       "      <th>3</th>\n",
       "      <td>06/1/2022</td>\n",
       "      <td>115.26</td>\n",
       "    </tr>\n",
       "    <tr>\n",
       "      <th>4</th>\n",
       "      <td>05/31/2022</td>\n",
       "      <td>114.38</td>\n",
       "    </tr>\n",
       "    <tr>\n",
       "      <th>...</th>\n",
       "      <td>...</td>\n",
       "      <td>...</td>\n",
       "    </tr>\n",
       "    <tr>\n",
       "      <th>9174</th>\n",
       "      <td>01/8/1986</td>\n",
       "      <td>25.87</td>\n",
       "    </tr>\n",
       "    <tr>\n",
       "      <th>9175</th>\n",
       "      <td>01/7/1986</td>\n",
       "      <td>25.85</td>\n",
       "    </tr>\n",
       "    <tr>\n",
       "      <th>9176</th>\n",
       "      <td>01/6/1986</td>\n",
       "      <td>26.53</td>\n",
       "    </tr>\n",
       "    <tr>\n",
       "      <th>9177</th>\n",
       "      <td>01/3/1986</td>\n",
       "      <td>26.00</td>\n",
       "    </tr>\n",
       "    <tr>\n",
       "      <th>9178</th>\n",
       "      <td>01/2/1986</td>\n",
       "      <td>25.56</td>\n",
       "    </tr>\n",
       "  </tbody>\n",
       "</table>\n",
       "<p>9179 rows × 2 columns</p>\n",
       "</div>"
      ],
      "text/plain": [
       "            Date  WTI_dollar_per_barrel\n",
       "0      06/6/2022                 118.41\n",
       "1      06/3/2022                 118.97\n",
       "2      06/2/2022                 116.88\n",
       "3      06/1/2022                 115.26\n",
       "4     05/31/2022                 114.38\n",
       "...          ...                    ...\n",
       "9174   01/8/1986                  25.87\n",
       "9175   01/7/1986                  25.85\n",
       "9176   01/6/1986                  26.53\n",
       "9177   01/3/1986                  26.00\n",
       "9178   01/2/1986                  25.56\n",
       "\n",
       "[9179 rows x 2 columns]"
      ]
     },
     "execution_count": 52,
     "metadata": {},
     "output_type": "execute_result"
    }
   ],
   "source": [
    "wti_close = pd.read_csv('data/WTI_oil.csv')\n",
    "wti_close.rename(columns = {'Day':'Date'}, inplace = True)\n",
    "wti_close.rename(columns = {wti_close.columns[1]:'WTI_dollar_per_barrel'}, inplace = True)\n",
    "wti_close"
   ]
  },
  {
   "cell_type": "code",
   "execution_count": 53,
   "id": "49f666f5",
   "metadata": {},
   "outputs": [
    {
     "data": {
      "text/plain": [
       "'WTI_dollar_per_barrel'"
      ]
     },
     "execution_count": 53,
     "metadata": {},
     "output_type": "execute_result"
    }
   ],
   "source": [
    "wti_close.columns[1]"
   ]
  },
  {
   "cell_type": "code",
   "execution_count": 54,
   "id": "bbe1870d",
   "metadata": {},
   "outputs": [
    {
     "name": "stdout",
     "output_type": "stream",
     "text": [
      "<class 'pandas.core.frame.DataFrame'>\n",
      "RangeIndex: 9179 entries, 0 to 9178\n",
      "Data columns (total 2 columns):\n",
      " #   Column                 Non-Null Count  Dtype         \n",
      "---  ------                 --------------  -----         \n",
      " 0   Date                   9179 non-null   datetime64[ns]\n",
      " 1   WTI_dollar_per_barrel  9179 non-null   float64       \n",
      "dtypes: datetime64[ns](1), float64(1)\n",
      "memory usage: 143.6 KB\n"
     ]
    }
   ],
   "source": [
    "wti_close['Date'] = pd.to_datetime(wti_close['Date'])\n",
    "wti_close.info()"
   ]
  },
  {
   "cell_type": "code",
   "execution_count": 55,
   "id": "7e017402",
   "metadata": {},
   "outputs": [
    {
     "data": {
      "text/plain": [
       "Timestamp('1986-01-02 00:00:00')"
      ]
     },
     "execution_count": 55,
     "metadata": {},
     "output_type": "execute_result"
    }
   ],
   "source": [
    "wti_close.Date.min()"
   ]
  },
  {
   "cell_type": "code",
   "execution_count": 56,
   "id": "a1c0f122",
   "metadata": {},
   "outputs": [
    {
     "data": {
      "text/plain": [
       "Timestamp('2022-06-06 00:00:00')"
      ]
     },
     "execution_count": 56,
     "metadata": {},
     "output_type": "execute_result"
    }
   ],
   "source": [
    "wti_close.Date.max()"
   ]
  },
  {
   "cell_type": "code",
   "execution_count": 57,
   "id": "de77876c",
   "metadata": {},
   "outputs": [
    {
     "data": {
      "text/plain": [
       "0"
      ]
     },
     "execution_count": 57,
     "metadata": {},
     "output_type": "execute_result"
    }
   ],
   "source": [
    "wti_close['WTI_dollar_per_barrel'].isnull().sum()"
   ]
  },
  {
   "cell_type": "code",
   "execution_count": 58,
   "id": "25d4eb04",
   "metadata": {},
   "outputs": [
    {
     "data": {
      "text/html": [
       "<div>\n",
       "<style scoped>\n",
       "    .dataframe tbody tr th:only-of-type {\n",
       "        vertical-align: middle;\n",
       "    }\n",
       "\n",
       "    .dataframe tbody tr th {\n",
       "        vertical-align: top;\n",
       "    }\n",
       "\n",
       "    .dataframe thead th {\n",
       "        text-align: right;\n",
       "    }\n",
       "</style>\n",
       "<table border=\"1\" class=\"dataframe\">\n",
       "  <thead>\n",
       "    <tr style=\"text-align: right;\">\n",
       "      <th></th>\n",
       "      <th>Date</th>\n",
       "      <th>WTI_dollar_per_barrel</th>\n",
       "    </tr>\n",
       "  </thead>\n",
       "  <tbody>\n",
       "  </tbody>\n",
       "</table>\n",
       "</div>"
      ],
      "text/plain": [
       "Empty DataFrame\n",
       "Columns: [Date, WTI_dollar_per_barrel]\n",
       "Index: []"
      ]
     },
     "execution_count": 58,
     "metadata": {},
     "output_type": "execute_result"
    }
   ],
   "source": [
    "wti_close[wti_close['WTI_dollar_per_barrel'] == np.nan]"
   ]
  },
  {
   "cell_type": "markdown",
   "id": "6b82c5ba",
   "metadata": {},
   "source": [
    "## DJI_index"
   ]
  },
  {
   "cell_type": "code",
   "execution_count": 59,
   "id": "ab48d2bd",
   "metadata": {},
   "outputs": [
    {
     "data": {
      "text/html": [
       "<div>\n",
       "<style scoped>\n",
       "    .dataframe tbody tr th:only-of-type {\n",
       "        vertical-align: middle;\n",
       "    }\n",
       "\n",
       "    .dataframe tbody tr th {\n",
       "        vertical-align: top;\n",
       "    }\n",
       "\n",
       "    .dataframe thead th {\n",
       "        text-align: right;\n",
       "    }\n",
       "</style>\n",
       "<table border=\"1\" class=\"dataframe\">\n",
       "  <thead>\n",
       "    <tr style=\"text-align: right;\">\n",
       "      <th></th>\n",
       "      <th>Date</th>\n",
       "      <th>Open</th>\n",
       "      <th>High</th>\n",
       "      <th>Low</th>\n",
       "      <th>Close</th>\n",
       "      <th>Adj Close</th>\n",
       "      <th>Volume</th>\n",
       "    </tr>\n",
       "  </thead>\n",
       "  <tbody>\n",
       "    <tr>\n",
       "      <th>0</th>\n",
       "      <td>1985-01-31</td>\n",
       "      <td>1286.770020</td>\n",
       "      <td>1286.770020</td>\n",
       "      <td>1286.770020</td>\n",
       "      <td>1286.770020</td>\n",
       "      <td>1286.770020</td>\n",
       "      <td>0</td>\n",
       "    </tr>\n",
       "    <tr>\n",
       "      <th>1</th>\n",
       "      <td>1985-02-01</td>\n",
       "      <td>1277.719971</td>\n",
       "      <td>1277.719971</td>\n",
       "      <td>1277.719971</td>\n",
       "      <td>1277.719971</td>\n",
       "      <td>1277.719971</td>\n",
       "      <td>0</td>\n",
       "    </tr>\n",
       "    <tr>\n",
       "      <th>2</th>\n",
       "      <td>1985-02-04</td>\n",
       "      <td>1290.079956</td>\n",
       "      <td>1290.079956</td>\n",
       "      <td>1290.079956</td>\n",
       "      <td>1290.079956</td>\n",
       "      <td>1290.079956</td>\n",
       "      <td>0</td>\n",
       "    </tr>\n",
       "    <tr>\n",
       "      <th>3</th>\n",
       "      <td>1985-02-05</td>\n",
       "      <td>1285.229980</td>\n",
       "      <td>1285.229980</td>\n",
       "      <td>1285.229980</td>\n",
       "      <td>1285.229980</td>\n",
       "      <td>1285.229980</td>\n",
       "      <td>0</td>\n",
       "    </tr>\n",
       "    <tr>\n",
       "      <th>4</th>\n",
       "      <td>1985-02-06</td>\n",
       "      <td>1280.589966</td>\n",
       "      <td>1280.589966</td>\n",
       "      <td>1280.589966</td>\n",
       "      <td>1280.589966</td>\n",
       "      <td>1280.589966</td>\n",
       "      <td>0</td>\n",
       "    </tr>\n",
       "    <tr>\n",
       "      <th>...</th>\n",
       "      <td>...</td>\n",
       "      <td>...</td>\n",
       "      <td>...</td>\n",
       "      <td>...</td>\n",
       "      <td>...</td>\n",
       "      <td>...</td>\n",
       "      <td>...</td>\n",
       "    </tr>\n",
       "    <tr>\n",
       "      <th>8701</th>\n",
       "      <td>2020-03-13</td>\n",
       "      <td>23185.599609</td>\n",
       "      <td>23185.599609</td>\n",
       "      <td>23185.599609</td>\n",
       "      <td>23185.599609</td>\n",
       "      <td>23185.599609</td>\n",
       "      <td>0</td>\n",
       "    </tr>\n",
       "    <tr>\n",
       "      <th>8702</th>\n",
       "      <td>2020-03-16</td>\n",
       "      <td>20188.500000</td>\n",
       "      <td>20188.500000</td>\n",
       "      <td>20188.500000</td>\n",
       "      <td>20188.500000</td>\n",
       "      <td>20188.500000</td>\n",
       "      <td>0</td>\n",
       "    </tr>\n",
       "    <tr>\n",
       "      <th>8703</th>\n",
       "      <td>2020-03-17</td>\n",
       "      <td>21237.400391</td>\n",
       "      <td>21237.400391</td>\n",
       "      <td>21237.400391</td>\n",
       "      <td>21237.400391</td>\n",
       "      <td>21237.400391</td>\n",
       "      <td>0</td>\n",
       "    </tr>\n",
       "    <tr>\n",
       "      <th>8704</th>\n",
       "      <td>2020-03-18</td>\n",
       "      <td>19898.900391</td>\n",
       "      <td>19898.900391</td>\n",
       "      <td>19898.900391</td>\n",
       "      <td>19898.900391</td>\n",
       "      <td>19898.900391</td>\n",
       "      <td>0</td>\n",
       "    </tr>\n",
       "    <tr>\n",
       "      <th>8705</th>\n",
       "      <td>2020-03-19</td>\n",
       "      <td>20087.199219</td>\n",
       "      <td>20087.199219</td>\n",
       "      <td>20087.199219</td>\n",
       "      <td>20087.199219</td>\n",
       "      <td>20087.199219</td>\n",
       "      <td>0</td>\n",
       "    </tr>\n",
       "  </tbody>\n",
       "</table>\n",
       "<p>8706 rows × 7 columns</p>\n",
       "</div>"
      ],
      "text/plain": [
       "            Date          Open          High           Low         Close  \\\n",
       "0     1985-01-31   1286.770020   1286.770020   1286.770020   1286.770020   \n",
       "1     1985-02-01   1277.719971   1277.719971   1277.719971   1277.719971   \n",
       "2     1985-02-04   1290.079956   1290.079956   1290.079956   1290.079956   \n",
       "3     1985-02-05   1285.229980   1285.229980   1285.229980   1285.229980   \n",
       "4     1985-02-06   1280.589966   1280.589966   1280.589966   1280.589966   \n",
       "...          ...           ...           ...           ...           ...   \n",
       "8701  2020-03-13  23185.599609  23185.599609  23185.599609  23185.599609   \n",
       "8702  2020-03-16  20188.500000  20188.500000  20188.500000  20188.500000   \n",
       "8703  2020-03-17  21237.400391  21237.400391  21237.400391  21237.400391   \n",
       "8704  2020-03-18  19898.900391  19898.900391  19898.900391  19898.900391   \n",
       "8705  2020-03-19  20087.199219  20087.199219  20087.199219  20087.199219   \n",
       "\n",
       "         Adj Close  Volume  \n",
       "0      1286.770020       0  \n",
       "1      1277.719971       0  \n",
       "2      1290.079956       0  \n",
       "3      1285.229980       0  \n",
       "4      1280.589966       0  \n",
       "...            ...     ...  \n",
       "8701  23185.599609       0  \n",
       "8702  20188.500000       0  \n",
       "8703  21237.400391       0  \n",
       "8704  19898.900391       0  \n",
       "8705  20087.199219       0  \n",
       "\n",
       "[8706 rows x 7 columns]"
      ]
     },
     "execution_count": 59,
     "metadata": {},
     "output_type": "execute_result"
    }
   ],
   "source": [
    "dji = pd.read_csv('data/DJI_index.csv')\n",
    "dji"
   ]
  },
  {
   "cell_type": "code",
   "execution_count": 60,
   "id": "effcc2f6",
   "metadata": {},
   "outputs": [
    {
     "name": "stderr",
     "output_type": "stream",
     "text": [
      "C:\\Users\\rajma\\AppData\\Local\\Temp\\ipykernel_11208\\4215868839.py:2: SettingWithCopyWarning: \n",
      "A value is trying to be set on a copy of a slice from a DataFrame\n",
      "\n",
      "See the caveats in the documentation: https://pandas.pydata.org/pandas-docs/stable/user_guide/indexing.html#returning-a-view-versus-a-copy\n",
      "  dji_close.rename(columns = {'Close':'dji_index'}, inplace = True)\n"
     ]
    },
    {
     "data": {
      "text/html": [
       "<div>\n",
       "<style scoped>\n",
       "    .dataframe tbody tr th:only-of-type {\n",
       "        vertical-align: middle;\n",
       "    }\n",
       "\n",
       "    .dataframe tbody tr th {\n",
       "        vertical-align: top;\n",
       "    }\n",
       "\n",
       "    .dataframe thead th {\n",
       "        text-align: right;\n",
       "    }\n",
       "</style>\n",
       "<table border=\"1\" class=\"dataframe\">\n",
       "  <thead>\n",
       "    <tr style=\"text-align: right;\">\n",
       "      <th></th>\n",
       "      <th>Date</th>\n",
       "      <th>dji_index</th>\n",
       "    </tr>\n",
       "  </thead>\n",
       "  <tbody>\n",
       "    <tr>\n",
       "      <th>0</th>\n",
       "      <td>1985-01-31</td>\n",
       "      <td>1286.770020</td>\n",
       "    </tr>\n",
       "    <tr>\n",
       "      <th>1</th>\n",
       "      <td>1985-02-01</td>\n",
       "      <td>1277.719971</td>\n",
       "    </tr>\n",
       "    <tr>\n",
       "      <th>2</th>\n",
       "      <td>1985-02-04</td>\n",
       "      <td>1290.079956</td>\n",
       "    </tr>\n",
       "    <tr>\n",
       "      <th>3</th>\n",
       "      <td>1985-02-05</td>\n",
       "      <td>1285.229980</td>\n",
       "    </tr>\n",
       "    <tr>\n",
       "      <th>4</th>\n",
       "      <td>1985-02-06</td>\n",
       "      <td>1280.589966</td>\n",
       "    </tr>\n",
       "    <tr>\n",
       "      <th>...</th>\n",
       "      <td>...</td>\n",
       "      <td>...</td>\n",
       "    </tr>\n",
       "    <tr>\n",
       "      <th>8701</th>\n",
       "      <td>2020-03-13</td>\n",
       "      <td>23185.599609</td>\n",
       "    </tr>\n",
       "    <tr>\n",
       "      <th>8702</th>\n",
       "      <td>2020-03-16</td>\n",
       "      <td>20188.500000</td>\n",
       "    </tr>\n",
       "    <tr>\n",
       "      <th>8703</th>\n",
       "      <td>2020-03-17</td>\n",
       "      <td>21237.400391</td>\n",
       "    </tr>\n",
       "    <tr>\n",
       "      <th>8704</th>\n",
       "      <td>2020-03-18</td>\n",
       "      <td>19898.900391</td>\n",
       "    </tr>\n",
       "    <tr>\n",
       "      <th>8705</th>\n",
       "      <td>2020-03-19</td>\n",
       "      <td>20087.199219</td>\n",
       "    </tr>\n",
       "  </tbody>\n",
       "</table>\n",
       "<p>8706 rows × 2 columns</p>\n",
       "</div>"
      ],
      "text/plain": [
       "            Date     dji_index\n",
       "0     1985-01-31   1286.770020\n",
       "1     1985-02-01   1277.719971\n",
       "2     1985-02-04   1290.079956\n",
       "3     1985-02-05   1285.229980\n",
       "4     1985-02-06   1280.589966\n",
       "...          ...           ...\n",
       "8701  2020-03-13  23185.599609\n",
       "8702  2020-03-16  20188.500000\n",
       "8703  2020-03-17  21237.400391\n",
       "8704  2020-03-18  19898.900391\n",
       "8705  2020-03-19  20087.199219\n",
       "\n",
       "[8706 rows x 2 columns]"
      ]
     },
     "execution_count": 60,
     "metadata": {},
     "output_type": "execute_result"
    }
   ],
   "source": [
    "dji_close = dji[['Date','Close']]\n",
    "dji_close.rename(columns = {'Close':'dji_index'}, inplace = True)\n",
    "dji_close"
   ]
  },
  {
   "cell_type": "code",
   "execution_count": 61,
   "id": "2f25481c",
   "metadata": {},
   "outputs": [
    {
     "name": "stderr",
     "output_type": "stream",
     "text": [
      "C:\\Users\\rajma\\AppData\\Local\\Temp\\ipykernel_11208\\103630868.py:1: SettingWithCopyWarning: \n",
      "A value is trying to be set on a copy of a slice from a DataFrame.\n",
      "Try using .loc[row_indexer,col_indexer] = value instead\n",
      "\n",
      "See the caveats in the documentation: https://pandas.pydata.org/pandas-docs/stable/user_guide/indexing.html#returning-a-view-versus-a-copy\n",
      "  dji_close['Date'] = pd.to_datetime(dji_close['Date'])\n"
     ]
    }
   ],
   "source": [
    "dji_close['Date'] = pd.to_datetime(dji_close['Date'])"
   ]
  },
  {
   "cell_type": "code",
   "execution_count": 62,
   "id": "655c1e07",
   "metadata": {},
   "outputs": [
    {
     "name": "stdout",
     "output_type": "stream",
     "text": [
      "<class 'pandas.core.frame.DataFrame'>\n",
      "RangeIndex: 8706 entries, 0 to 8705\n",
      "Data columns (total 2 columns):\n",
      " #   Column     Non-Null Count  Dtype         \n",
      "---  ------     --------------  -----         \n",
      " 0   Date       8706 non-null   datetime64[ns]\n",
      " 1   dji_index  8706 non-null   float64       \n",
      "dtypes: datetime64[ns](1), float64(1)\n",
      "memory usage: 136.2 KB\n"
     ]
    }
   ],
   "source": [
    "dji_close.info()"
   ]
  },
  {
   "cell_type": "code",
   "execution_count": 63,
   "id": "37ceb9f7",
   "metadata": {},
   "outputs": [
    {
     "data": {
      "text/plain": [
       "Timestamp('2020-03-19 00:00:00')"
      ]
     },
     "execution_count": 63,
     "metadata": {},
     "output_type": "execute_result"
    }
   ],
   "source": [
    "dji_close.Date.max()"
   ]
  },
  {
   "cell_type": "code",
   "execution_count": 64,
   "id": "2b51adb3",
   "metadata": {},
   "outputs": [
    {
     "data": {
      "text/plain": [
       "Timestamp('1985-01-31 00:00:00')"
      ]
     },
     "execution_count": 64,
     "metadata": {},
     "output_type": "execute_result"
    }
   ],
   "source": [
    "dji_close.Date.min()"
   ]
  },
  {
   "cell_type": "code",
   "execution_count": 65,
   "id": "e7f1e9e8",
   "metadata": {},
   "outputs": [
    {
     "data": {
      "text/plain": [
       "0"
      ]
     },
     "execution_count": 65,
     "metadata": {},
     "output_type": "execute_result"
    }
   ],
   "source": [
    "dji_close['dji_index'].isnull().sum()"
   ]
  },
  {
   "cell_type": "markdown",
   "id": "83f1a20b",
   "metadata": {},
   "source": [
    "## FEDFUNDS.csv"
   ]
  },
  {
   "cell_type": "code",
   "execution_count": 66,
   "id": "6b6118bd",
   "metadata": {},
   "outputs": [
    {
     "data": {
      "text/html": [
       "<div>\n",
       "<style scoped>\n",
       "    .dataframe tbody tr th:only-of-type {\n",
       "        vertical-align: middle;\n",
       "    }\n",
       "\n",
       "    .dataframe tbody tr th {\n",
       "        vertical-align: top;\n",
       "    }\n",
       "\n",
       "    .dataframe thead th {\n",
       "        text-align: right;\n",
       "    }\n",
       "</style>\n",
       "<table border=\"1\" class=\"dataframe\">\n",
       "  <thead>\n",
       "    <tr style=\"text-align: right;\">\n",
       "      <th></th>\n",
       "      <th>Date</th>\n",
       "      <th>FEDFUNDS</th>\n",
       "    </tr>\n",
       "  </thead>\n",
       "  <tbody>\n",
       "    <tr>\n",
       "      <th>0</th>\n",
       "      <td>1954-07-01</td>\n",
       "      <td>0.80</td>\n",
       "    </tr>\n",
       "    <tr>\n",
       "      <th>1</th>\n",
       "      <td>1954-08-01</td>\n",
       "      <td>1.22</td>\n",
       "    </tr>\n",
       "    <tr>\n",
       "      <th>2</th>\n",
       "      <td>1954-09-01</td>\n",
       "      <td>1.07</td>\n",
       "    </tr>\n",
       "    <tr>\n",
       "      <th>3</th>\n",
       "      <td>1954-10-01</td>\n",
       "      <td>0.85</td>\n",
       "    </tr>\n",
       "    <tr>\n",
       "      <th>4</th>\n",
       "      <td>1954-11-01</td>\n",
       "      <td>0.83</td>\n",
       "    </tr>\n",
       "    <tr>\n",
       "      <th>...</th>\n",
       "      <td>...</td>\n",
       "      <td>...</td>\n",
       "    </tr>\n",
       "    <tr>\n",
       "      <th>810</th>\n",
       "      <td>2022-01-01</td>\n",
       "      <td>0.08</td>\n",
       "    </tr>\n",
       "    <tr>\n",
       "      <th>811</th>\n",
       "      <td>2022-02-01</td>\n",
       "      <td>0.08</td>\n",
       "    </tr>\n",
       "    <tr>\n",
       "      <th>812</th>\n",
       "      <td>2022-03-01</td>\n",
       "      <td>0.20</td>\n",
       "    </tr>\n",
       "    <tr>\n",
       "      <th>813</th>\n",
       "      <td>2022-04-01</td>\n",
       "      <td>0.33</td>\n",
       "    </tr>\n",
       "    <tr>\n",
       "      <th>814</th>\n",
       "      <td>2022-05-01</td>\n",
       "      <td>0.77</td>\n",
       "    </tr>\n",
       "  </tbody>\n",
       "</table>\n",
       "<p>815 rows × 2 columns</p>\n",
       "</div>"
      ],
      "text/plain": [
       "           Date  FEDFUNDS\n",
       "0    1954-07-01      0.80\n",
       "1    1954-08-01      1.22\n",
       "2    1954-09-01      1.07\n",
       "3    1954-10-01      0.85\n",
       "4    1954-11-01      0.83\n",
       "..          ...       ...\n",
       "810  2022-01-01      0.08\n",
       "811  2022-02-01      0.08\n",
       "812  2022-03-01      0.20\n",
       "813  2022-04-01      0.33\n",
       "814  2022-05-01      0.77\n",
       "\n",
       "[815 rows x 2 columns]"
      ]
     },
     "execution_count": 66,
     "metadata": {},
     "output_type": "execute_result"
    }
   ],
   "source": [
    "fed = pd.read_csv('data/FEDFUNDS.csv')\n",
    "fed.rename(columns = {'DATE':'Date'}, inplace = True)\n",
    "fed"
   ]
  },
  {
   "cell_type": "code",
   "execution_count": 67,
   "id": "28c994d2",
   "metadata": {},
   "outputs": [],
   "source": [
    "fed['Date'] = pd.to_datetime(fed['Date'])"
   ]
  },
  {
   "cell_type": "code",
   "execution_count": 68,
   "id": "24c450ad",
   "metadata": {},
   "outputs": [
    {
     "name": "stdout",
     "output_type": "stream",
     "text": [
      "<class 'pandas.core.frame.DataFrame'>\n",
      "RangeIndex: 815 entries, 0 to 814\n",
      "Data columns (total 2 columns):\n",
      " #   Column    Non-Null Count  Dtype         \n",
      "---  ------    --------------  -----         \n",
      " 0   Date      815 non-null    datetime64[ns]\n",
      " 1   FEDFUNDS  815 non-null    float64       \n",
      "dtypes: datetime64[ns](1), float64(1)\n",
      "memory usage: 12.9 KB\n"
     ]
    }
   ],
   "source": [
    "fed.info()"
   ]
  },
  {
   "cell_type": "code",
   "execution_count": 69,
   "id": "151ca873",
   "metadata": {},
   "outputs": [
    {
     "data": {
      "text/plain": [
       "Timestamp('1954-07-01 00:00:00')"
      ]
     },
     "execution_count": 69,
     "metadata": {},
     "output_type": "execute_result"
    }
   ],
   "source": [
    "fed.Date.min()"
   ]
  },
  {
   "cell_type": "code",
   "execution_count": 70,
   "id": "b8e7d016",
   "metadata": {},
   "outputs": [
    {
     "data": {
      "text/plain": [
       "Timestamp('2022-05-01 00:00:00')"
      ]
     },
     "execution_count": 70,
     "metadata": {},
     "output_type": "execute_result"
    }
   ],
   "source": [
    "fed.Date.max()"
   ]
  },
  {
   "cell_type": "code",
   "execution_count": 71,
   "id": "08ccacef",
   "metadata": {},
   "outputs": [
    {
     "data": {
      "text/plain": [
       "0"
      ]
     },
     "execution_count": 71,
     "metadata": {},
     "output_type": "execute_result"
    }
   ],
   "source": [
    "fed['FEDFUNDS'].isnull().sum()"
   ]
  },
  {
   "cell_type": "markdown",
   "id": "80c4149d",
   "metadata": {},
   "source": [
    "## gold.csv"
   ]
  },
  {
   "cell_type": "code",
   "execution_count": 72,
   "id": "41701c38",
   "metadata": {},
   "outputs": [
    {
     "data": {
      "text/html": [
       "<div>\n",
       "<style scoped>\n",
       "    .dataframe tbody tr th:only-of-type {\n",
       "        vertical-align: middle;\n",
       "    }\n",
       "\n",
       "    .dataframe tbody tr th {\n",
       "        vertical-align: top;\n",
       "    }\n",
       "\n",
       "    .dataframe thead th {\n",
       "        text-align: right;\n",
       "    }\n",
       "</style>\n",
       "<table border=\"1\" class=\"dataframe\">\n",
       "  <thead>\n",
       "    <tr style=\"text-align: right;\">\n",
       "      <th></th>\n",
       "      <th>Date</th>\n",
       "      <th>Open</th>\n",
       "      <th>High</th>\n",
       "      <th>Low</th>\n",
       "      <th>Close</th>\n",
       "      <th>Adj Close</th>\n",
       "      <th>Volume</th>\n",
       "    </tr>\n",
       "  </thead>\n",
       "  <tbody>\n",
       "    <tr>\n",
       "      <th>0</th>\n",
       "      <td>2000-08-30</td>\n",
       "      <td>273.899994</td>\n",
       "      <td>273.899994</td>\n",
       "      <td>273.899994</td>\n",
       "      <td>273.899994</td>\n",
       "      <td>273.899994</td>\n",
       "      <td>0</td>\n",
       "    </tr>\n",
       "    <tr>\n",
       "      <th>1</th>\n",
       "      <td>2000-08-31</td>\n",
       "      <td>274.799988</td>\n",
       "      <td>278.299988</td>\n",
       "      <td>274.799988</td>\n",
       "      <td>278.299988</td>\n",
       "      <td>278.299988</td>\n",
       "      <td>0</td>\n",
       "    </tr>\n",
       "    <tr>\n",
       "      <th>2</th>\n",
       "      <td>2000-09-01</td>\n",
       "      <td>277.000000</td>\n",
       "      <td>277.000000</td>\n",
       "      <td>277.000000</td>\n",
       "      <td>277.000000</td>\n",
       "      <td>277.000000</td>\n",
       "      <td>0</td>\n",
       "    </tr>\n",
       "    <tr>\n",
       "      <th>3</th>\n",
       "      <td>2000-09-05</td>\n",
       "      <td>275.799988</td>\n",
       "      <td>275.799988</td>\n",
       "      <td>275.799988</td>\n",
       "      <td>275.799988</td>\n",
       "      <td>275.799988</td>\n",
       "      <td>2</td>\n",
       "    </tr>\n",
       "    <tr>\n",
       "      <th>4</th>\n",
       "      <td>2000-09-06</td>\n",
       "      <td>274.200012</td>\n",
       "      <td>274.200012</td>\n",
       "      <td>274.200012</td>\n",
       "      <td>274.200012</td>\n",
       "      <td>274.200012</td>\n",
       "      <td>0</td>\n",
       "    </tr>\n",
       "    <tr>\n",
       "      <th>...</th>\n",
       "      <td>...</td>\n",
       "      <td>...</td>\n",
       "      <td>...</td>\n",
       "      <td>...</td>\n",
       "      <td>...</td>\n",
       "      <td>...</td>\n",
       "      <td>...</td>\n",
       "    </tr>\n",
       "    <tr>\n",
       "      <th>4897</th>\n",
       "      <td>2020-03-13</td>\n",
       "      <td>1574.900024</td>\n",
       "      <td>1589.800049</td>\n",
       "      <td>1513.800049</td>\n",
       "      <td>1515.699951</td>\n",
       "      <td>1515.699951</td>\n",
       "      <td>89</td>\n",
       "    </tr>\n",
       "    <tr>\n",
       "      <th>4898</th>\n",
       "      <td>2020-03-16</td>\n",
       "      <td>1569.099976</td>\n",
       "      <td>1569.099976</td>\n",
       "      <td>1452.099976</td>\n",
       "      <td>1485.900024</td>\n",
       "      <td>1485.900024</td>\n",
       "      <td>193</td>\n",
       "    </tr>\n",
       "    <tr>\n",
       "      <th>4899</th>\n",
       "      <td>2020-03-17</td>\n",
       "      <td>1469.300049</td>\n",
       "      <td>1537.699951</td>\n",
       "      <td>1469.300049</td>\n",
       "      <td>1524.900024</td>\n",
       "      <td>1524.900024</td>\n",
       "      <td>122</td>\n",
       "    </tr>\n",
       "    <tr>\n",
       "      <th>4900</th>\n",
       "      <td>2020-03-18</td>\n",
       "      <td>1537.500000</td>\n",
       "      <td>1542.000000</td>\n",
       "      <td>1477.300049</td>\n",
       "      <td>1477.300049</td>\n",
       "      <td>1477.300049</td>\n",
       "      <td>333</td>\n",
       "    </tr>\n",
       "    <tr>\n",
       "      <th>4901</th>\n",
       "      <td>2020-03-19</td>\n",
       "      <td>1481.500000</td>\n",
       "      <td>1491.599976</td>\n",
       "      <td>1471.000000</td>\n",
       "      <td>1478.599976</td>\n",
       "      <td>1478.599976</td>\n",
       "      <td>262</td>\n",
       "    </tr>\n",
       "  </tbody>\n",
       "</table>\n",
       "<p>4902 rows × 7 columns</p>\n",
       "</div>"
      ],
      "text/plain": [
       "            Date         Open         High          Low        Close  \\\n",
       "0     2000-08-30   273.899994   273.899994   273.899994   273.899994   \n",
       "1     2000-08-31   274.799988   278.299988   274.799988   278.299988   \n",
       "2     2000-09-01   277.000000   277.000000   277.000000   277.000000   \n",
       "3     2000-09-05   275.799988   275.799988   275.799988   275.799988   \n",
       "4     2000-09-06   274.200012   274.200012   274.200012   274.200012   \n",
       "...          ...          ...          ...          ...          ...   \n",
       "4897  2020-03-13  1574.900024  1589.800049  1513.800049  1515.699951   \n",
       "4898  2020-03-16  1569.099976  1569.099976  1452.099976  1485.900024   \n",
       "4899  2020-03-17  1469.300049  1537.699951  1469.300049  1524.900024   \n",
       "4900  2020-03-18  1537.500000  1542.000000  1477.300049  1477.300049   \n",
       "4901  2020-03-19  1481.500000  1491.599976  1471.000000  1478.599976   \n",
       "\n",
       "        Adj Close  Volume  \n",
       "0      273.899994       0  \n",
       "1      278.299988       0  \n",
       "2      277.000000       0  \n",
       "3      275.799988       2  \n",
       "4      274.200012       0  \n",
       "...           ...     ...  \n",
       "4897  1515.699951      89  \n",
       "4898  1485.900024     193  \n",
       "4899  1524.900024     122  \n",
       "4900  1477.300049     333  \n",
       "4901  1478.599976     262  \n",
       "\n",
       "[4902 rows x 7 columns]"
      ]
     },
     "execution_count": 72,
     "metadata": {},
     "output_type": "execute_result"
    }
   ],
   "source": [
    "gol = pd.read_csv('data/gold.csv')\n",
    "gol"
   ]
  },
  {
   "cell_type": "code",
   "execution_count": 73,
   "id": "486f456d",
   "metadata": {},
   "outputs": [
    {
     "name": "stderr",
     "output_type": "stream",
     "text": [
      "C:\\Users\\rajma\\AppData\\Local\\Temp\\ipykernel_11208\\3826366341.py:2: SettingWithCopyWarning: \n",
      "A value is trying to be set on a copy of a slice from a DataFrame\n",
      "\n",
      "See the caveats in the documentation: https://pandas.pydata.org/pandas-docs/stable/user_guide/indexing.html#returning-a-view-versus-a-copy\n",
      "  gold_close.rename(columns = {'Close':'gold_close'}, inplace = True)\n"
     ]
    },
    {
     "data": {
      "text/html": [
       "<div>\n",
       "<style scoped>\n",
       "    .dataframe tbody tr th:only-of-type {\n",
       "        vertical-align: middle;\n",
       "    }\n",
       "\n",
       "    .dataframe tbody tr th {\n",
       "        vertical-align: top;\n",
       "    }\n",
       "\n",
       "    .dataframe thead th {\n",
       "        text-align: right;\n",
       "    }\n",
       "</style>\n",
       "<table border=\"1\" class=\"dataframe\">\n",
       "  <thead>\n",
       "    <tr style=\"text-align: right;\">\n",
       "      <th></th>\n",
       "      <th>Date</th>\n",
       "      <th>gold_close</th>\n",
       "    </tr>\n",
       "  </thead>\n",
       "  <tbody>\n",
       "    <tr>\n",
       "      <th>0</th>\n",
       "      <td>2000-08-30</td>\n",
       "      <td>273.899994</td>\n",
       "    </tr>\n",
       "    <tr>\n",
       "      <th>1</th>\n",
       "      <td>2000-08-31</td>\n",
       "      <td>278.299988</td>\n",
       "    </tr>\n",
       "    <tr>\n",
       "      <th>2</th>\n",
       "      <td>2000-09-01</td>\n",
       "      <td>277.000000</td>\n",
       "    </tr>\n",
       "    <tr>\n",
       "      <th>3</th>\n",
       "      <td>2000-09-05</td>\n",
       "      <td>275.799988</td>\n",
       "    </tr>\n",
       "    <tr>\n",
       "      <th>4</th>\n",
       "      <td>2000-09-06</td>\n",
       "      <td>274.200012</td>\n",
       "    </tr>\n",
       "    <tr>\n",
       "      <th>...</th>\n",
       "      <td>...</td>\n",
       "      <td>...</td>\n",
       "    </tr>\n",
       "    <tr>\n",
       "      <th>4897</th>\n",
       "      <td>2020-03-13</td>\n",
       "      <td>1515.699951</td>\n",
       "    </tr>\n",
       "    <tr>\n",
       "      <th>4898</th>\n",
       "      <td>2020-03-16</td>\n",
       "      <td>1485.900024</td>\n",
       "    </tr>\n",
       "    <tr>\n",
       "      <th>4899</th>\n",
       "      <td>2020-03-17</td>\n",
       "      <td>1524.900024</td>\n",
       "    </tr>\n",
       "    <tr>\n",
       "      <th>4900</th>\n",
       "      <td>2020-03-18</td>\n",
       "      <td>1477.300049</td>\n",
       "    </tr>\n",
       "    <tr>\n",
       "      <th>4901</th>\n",
       "      <td>2020-03-19</td>\n",
       "      <td>1478.599976</td>\n",
       "    </tr>\n",
       "  </tbody>\n",
       "</table>\n",
       "<p>4902 rows × 2 columns</p>\n",
       "</div>"
      ],
      "text/plain": [
       "            Date   gold_close\n",
       "0     2000-08-30   273.899994\n",
       "1     2000-08-31   278.299988\n",
       "2     2000-09-01   277.000000\n",
       "3     2000-09-05   275.799988\n",
       "4     2000-09-06   274.200012\n",
       "...          ...          ...\n",
       "4897  2020-03-13  1515.699951\n",
       "4898  2020-03-16  1485.900024\n",
       "4899  2020-03-17  1524.900024\n",
       "4900  2020-03-18  1477.300049\n",
       "4901  2020-03-19  1478.599976\n",
       "\n",
       "[4902 rows x 2 columns]"
      ]
     },
     "execution_count": 73,
     "metadata": {},
     "output_type": "execute_result"
    }
   ],
   "source": [
    "gold_close = gol[['Date','Close']]\n",
    "gold_close.rename(columns = {'Close':'gold_close'}, inplace = True)\n",
    "gold_close"
   ]
  },
  {
   "cell_type": "code",
   "execution_count": 74,
   "id": "66b3cceb",
   "metadata": {},
   "outputs": [
    {
     "name": "stderr",
     "output_type": "stream",
     "text": [
      "C:\\Users\\rajma\\AppData\\Local\\Temp\\ipykernel_11208\\2608039323.py:1: SettingWithCopyWarning: \n",
      "A value is trying to be set on a copy of a slice from a DataFrame.\n",
      "Try using .loc[row_indexer,col_indexer] = value instead\n",
      "\n",
      "See the caveats in the documentation: https://pandas.pydata.org/pandas-docs/stable/user_guide/indexing.html#returning-a-view-versus-a-copy\n",
      "  gold_close['Date'] = pd.to_datetime(gold_close['Date'])\n"
     ]
    }
   ],
   "source": [
    "gold_close['Date'] = pd.to_datetime(gold_close['Date'])"
   ]
  },
  {
   "cell_type": "code",
   "execution_count": 75,
   "id": "fb120c2b",
   "metadata": {},
   "outputs": [
    {
     "name": "stdout",
     "output_type": "stream",
     "text": [
      "<class 'pandas.core.frame.DataFrame'>\n",
      "RangeIndex: 4902 entries, 0 to 4901\n",
      "Data columns (total 2 columns):\n",
      " #   Column      Non-Null Count  Dtype         \n",
      "---  ------      --------------  -----         \n",
      " 0   Date        4902 non-null   datetime64[ns]\n",
      " 1   gold_close  4902 non-null   float64       \n",
      "dtypes: datetime64[ns](1), float64(1)\n",
      "memory usage: 76.7 KB\n"
     ]
    }
   ],
   "source": [
    "gold_close.info()"
   ]
  },
  {
   "cell_type": "code",
   "execution_count": 76,
   "id": "94b9f708",
   "metadata": {},
   "outputs": [
    {
     "data": {
      "text/plain": [
       "Timestamp('2000-08-30 00:00:00')"
      ]
     },
     "execution_count": 76,
     "metadata": {},
     "output_type": "execute_result"
    }
   ],
   "source": [
    "gold_close.Date.min()"
   ]
  },
  {
   "cell_type": "code",
   "execution_count": 77,
   "id": "92cbd61d",
   "metadata": {},
   "outputs": [
    {
     "data": {
      "text/plain": [
       "Timestamp('2020-03-19 00:00:00')"
      ]
     },
     "execution_count": 77,
     "metadata": {},
     "output_type": "execute_result"
    }
   ],
   "source": [
    "gold_close.Date.max()"
   ]
  },
  {
   "cell_type": "code",
   "execution_count": 78,
   "id": "74ef38ad",
   "metadata": {},
   "outputs": [
    {
     "data": {
      "text/plain": [
       "0"
      ]
     },
     "execution_count": 78,
     "metadata": {},
     "output_type": "execute_result"
    }
   ],
   "source": [
    "gold_close['gold_close'].isnull().sum()"
   ]
  },
  {
   "cell_type": "markdown",
   "id": "db7cfd7e",
   "metadata": {},
   "source": [
    "## Henry_Hub_Natural_Gas_Spot_Price.csv"
   ]
  },
  {
   "cell_type": "code",
   "execution_count": 79,
   "id": "68cc236d",
   "metadata": {},
   "outputs": [
    {
     "data": {
      "text/html": [
       "<div>\n",
       "<style scoped>\n",
       "    .dataframe tbody tr th:only-of-type {\n",
       "        vertical-align: middle;\n",
       "    }\n",
       "\n",
       "    .dataframe tbody tr th {\n",
       "        vertical-align: top;\n",
       "    }\n",
       "\n",
       "    .dataframe thead th {\n",
       "        text-align: right;\n",
       "    }\n",
       "</style>\n",
       "<table border=\"1\" class=\"dataframe\">\n",
       "  <thead>\n",
       "    <tr style=\"text-align: right;\">\n",
       "      <th></th>\n",
       "      <th>Date</th>\n",
       "      <th>Henry Hub Natural Gas Spot Price Dollars per Million Btu</th>\n",
       "    </tr>\n",
       "  </thead>\n",
       "  <tbody>\n",
       "    <tr>\n",
       "      <th>0</th>\n",
       "      <td>06/7/2022</td>\n",
       "      <td>9.28</td>\n",
       "    </tr>\n",
       "    <tr>\n",
       "      <th>1</th>\n",
       "      <td>06/6/2022</td>\n",
       "      <td>9.08</td>\n",
       "    </tr>\n",
       "    <tr>\n",
       "      <th>2</th>\n",
       "      <td>06/3/2022</td>\n",
       "      <td>8.34</td>\n",
       "    </tr>\n",
       "    <tr>\n",
       "      <th>3</th>\n",
       "      <td>06/2/2022</td>\n",
       "      <td>8.90</td>\n",
       "    </tr>\n",
       "    <tr>\n",
       "      <th>4</th>\n",
       "      <td>06/1/2022</td>\n",
       "      <td>8.47</td>\n",
       "    </tr>\n",
       "    <tr>\n",
       "      <th>...</th>\n",
       "      <td>...</td>\n",
       "      <td>...</td>\n",
       "    </tr>\n",
       "    <tr>\n",
       "      <th>6384</th>\n",
       "      <td>01/13/1997</td>\n",
       "      <td>4.00</td>\n",
       "    </tr>\n",
       "    <tr>\n",
       "      <th>6385</th>\n",
       "      <td>01/10/1997</td>\n",
       "      <td>3.92</td>\n",
       "    </tr>\n",
       "    <tr>\n",
       "      <th>6386</th>\n",
       "      <td>01/9/1997</td>\n",
       "      <td>3.61</td>\n",
       "    </tr>\n",
       "    <tr>\n",
       "      <th>6387</th>\n",
       "      <td>01/8/1997</td>\n",
       "      <td>3.80</td>\n",
       "    </tr>\n",
       "    <tr>\n",
       "      <th>6388</th>\n",
       "      <td>01/7/1997</td>\n",
       "      <td>3.82</td>\n",
       "    </tr>\n",
       "  </tbody>\n",
       "</table>\n",
       "<p>6389 rows × 2 columns</p>\n",
       "</div>"
      ],
      "text/plain": [
       "            Date  Henry Hub Natural Gas Spot Price Dollars per Million Btu\n",
       "0      06/7/2022                                               9.28       \n",
       "1      06/6/2022                                               9.08       \n",
       "2      06/3/2022                                               8.34       \n",
       "3      06/2/2022                                               8.90       \n",
       "4      06/1/2022                                               8.47       \n",
       "...          ...                                                ...       \n",
       "6384  01/13/1997                                               4.00       \n",
       "6385  01/10/1997                                               3.92       \n",
       "6386   01/9/1997                                               3.61       \n",
       "6387   01/8/1997                                               3.80       \n",
       "6388   01/7/1997                                               3.82       \n",
       "\n",
       "[6389 rows x 2 columns]"
      ]
     },
     "execution_count": 79,
     "metadata": {},
     "output_type": "execute_result"
    }
   ],
   "source": [
    "hen = pd.read_csv('data/Henry_Hub_Natural_Gas_Spot_Price.csv')\n",
    "hen.rename(columns = {'Day':'Date'}, inplace = True)\n",
    "hen"
   ]
  },
  {
   "cell_type": "code",
   "execution_count": 80,
   "id": "3637767f",
   "metadata": {},
   "outputs": [],
   "source": [
    "hen['Date'] = pd.to_datetime(hen['Date'])"
   ]
  },
  {
   "cell_type": "code",
   "execution_count": 81,
   "id": "a8e9a39a",
   "metadata": {},
   "outputs": [
    {
     "data": {
      "text/plain": [
       "Timestamp('1997-01-07 00:00:00')"
      ]
     },
     "execution_count": 81,
     "metadata": {},
     "output_type": "execute_result"
    }
   ],
   "source": [
    "hen.Date.min()"
   ]
  },
  {
   "cell_type": "code",
   "execution_count": 82,
   "id": "52b4a449",
   "metadata": {},
   "outputs": [
    {
     "data": {
      "text/plain": [
       "Timestamp('2022-06-07 00:00:00')"
      ]
     },
     "execution_count": 82,
     "metadata": {},
     "output_type": "execute_result"
    }
   ],
   "source": [
    "hen.Date.max()"
   ]
  },
  {
   "cell_type": "code",
   "execution_count": 83,
   "id": "6a253a2e",
   "metadata": {},
   "outputs": [
    {
     "data": {
      "text/plain": [
       "0       False\n",
       "1       False\n",
       "2       False\n",
       "3       False\n",
       "4       False\n",
       "        ...  \n",
       "6384    False\n",
       "6385    False\n",
       "6386    False\n",
       "6387    False\n",
       "6388    False\n",
       "Name: Henry Hub Natural Gas Spot Price Dollars per Million Btu, Length: 6389, dtype: bool"
      ]
     },
     "execution_count": 83,
     "metadata": {},
     "output_type": "execute_result"
    }
   ],
   "source": [
    "hen['Henry Hub Natural Gas Spot Price Dollars per Million Btu'].isnull()"
   ]
  },
  {
   "cell_type": "code",
   "execution_count": 84,
   "id": "70485e3f",
   "metadata": {},
   "outputs": [
    {
     "data": {
      "text/html": [
       "<div>\n",
       "<style scoped>\n",
       "    .dataframe tbody tr th:only-of-type {\n",
       "        vertical-align: middle;\n",
       "    }\n",
       "\n",
       "    .dataframe tbody tr th {\n",
       "        vertical-align: top;\n",
       "    }\n",
       "\n",
       "    .dataframe thead th {\n",
       "        text-align: right;\n",
       "    }\n",
       "</style>\n",
       "<table border=\"1\" class=\"dataframe\">\n",
       "  <thead>\n",
       "    <tr style=\"text-align: right;\">\n",
       "      <th></th>\n",
       "      <th>Date</th>\n",
       "      <th>Henry Hub Natural Gas Spot Price Dollars per Million Btu</th>\n",
       "    </tr>\n",
       "  </thead>\n",
       "  <tbody>\n",
       "    <tr>\n",
       "      <th>1104</th>\n",
       "      <td>2018-01-05</td>\n",
       "      <td>NaN</td>\n",
       "    </tr>\n",
       "  </tbody>\n",
       "</table>\n",
       "</div>"
      ],
      "text/plain": [
       "           Date  Henry Hub Natural Gas Spot Price Dollars per Million Btu\n",
       "1104 2018-01-05                                                NaN       "
      ]
     },
     "execution_count": 84,
     "metadata": {},
     "output_type": "execute_result"
    }
   ],
   "source": [
    "hen[hen['Henry Hub Natural Gas Spot Price Dollars per Million Btu'].isnull() == True]"
   ]
  },
  {
   "cell_type": "code",
   "execution_count": 85,
   "id": "efa700ab",
   "metadata": {},
   "outputs": [],
   "source": [
    "hen.at[1104,'Henry Hub Natural Gas Spot Price Dollars per Million Btu']=hen.iloc[1105]['Henry Hub Natural Gas Spot Price Dollars per Million Btu']"
   ]
  },
  {
   "cell_type": "code",
   "execution_count": 86,
   "id": "48686ede",
   "metadata": {},
   "outputs": [
    {
     "data": {
      "text/html": [
       "<div>\n",
       "<style scoped>\n",
       "    .dataframe tbody tr th:only-of-type {\n",
       "        vertical-align: middle;\n",
       "    }\n",
       "\n",
       "    .dataframe tbody tr th {\n",
       "        vertical-align: top;\n",
       "    }\n",
       "\n",
       "    .dataframe thead th {\n",
       "        text-align: right;\n",
       "    }\n",
       "</style>\n",
       "<table border=\"1\" class=\"dataframe\">\n",
       "  <thead>\n",
       "    <tr style=\"text-align: right;\">\n",
       "      <th></th>\n",
       "      <th>Date</th>\n",
       "      <th>Henry Hub Natural Gas Spot Price Dollars per Million Btu</th>\n",
       "    </tr>\n",
       "  </thead>\n",
       "  <tbody>\n",
       "  </tbody>\n",
       "</table>\n",
       "</div>"
      ],
      "text/plain": [
       "Empty DataFrame\n",
       "Columns: [Date, Henry Hub Natural Gas Spot Price Dollars per Million Btu]\n",
       "Index: []"
      ]
     },
     "execution_count": 86,
     "metadata": {},
     "output_type": "execute_result"
    }
   ],
   "source": [
    "hen[hen['Henry Hub Natural Gas Spot Price Dollars per Million Btu'].isnull() == True]"
   ]
  },
  {
   "cell_type": "markdown",
   "id": "2e339125",
   "metadata": {},
   "source": [
    "## nasdaq_index.csv"
   ]
  },
  {
   "cell_type": "code",
   "execution_count": 87,
   "id": "07aa2a8d",
   "metadata": {},
   "outputs": [
    {
     "data": {
      "text/html": [
       "<div>\n",
       "<style scoped>\n",
       "    .dataframe tbody tr th:only-of-type {\n",
       "        vertical-align: middle;\n",
       "    }\n",
       "\n",
       "    .dataframe tbody tr th {\n",
       "        vertical-align: top;\n",
       "    }\n",
       "\n",
       "    .dataframe thead th {\n",
       "        text-align: right;\n",
       "    }\n",
       "</style>\n",
       "<table border=\"1\" class=\"dataframe\">\n",
       "  <thead>\n",
       "    <tr style=\"text-align: right;\">\n",
       "      <th></th>\n",
       "      <th>Date</th>\n",
       "      <th>Open</th>\n",
       "      <th>High</th>\n",
       "      <th>Low</th>\n",
       "      <th>Close</th>\n",
       "      <th>Adj Close</th>\n",
       "      <th>Volume</th>\n",
       "    </tr>\n",
       "  </thead>\n",
       "  <tbody>\n",
       "    <tr>\n",
       "      <th>0</th>\n",
       "      <td>1985-01-31</td>\n",
       "      <td>278.200012</td>\n",
       "      <td>278.899994</td>\n",
       "      <td>278.200012</td>\n",
       "      <td>278.700012</td>\n",
       "      <td>278.700012</td>\n",
       "      <td>92290000</td>\n",
       "    </tr>\n",
       "    <tr>\n",
       "      <th>1</th>\n",
       "      <td>1985-02-01</td>\n",
       "      <td>277.899994</td>\n",
       "      <td>278.500000</td>\n",
       "      <td>277.899994</td>\n",
       "      <td>278.399994</td>\n",
       "      <td>278.399994</td>\n",
       "      <td>85330000</td>\n",
       "    </tr>\n",
       "    <tr>\n",
       "      <th>2</th>\n",
       "      <td>1985-02-04</td>\n",
       "      <td>278.799988</td>\n",
       "      <td>280.799988</td>\n",
       "      <td>278.799988</td>\n",
       "      <td>280.799988</td>\n",
       "      <td>280.799988</td>\n",
       "      <td>88440000</td>\n",
       "    </tr>\n",
       "    <tr>\n",
       "      <th>3</th>\n",
       "      <td>1985-02-05</td>\n",
       "      <td>281.799988</td>\n",
       "      <td>282.700012</td>\n",
       "      <td>281.799988</td>\n",
       "      <td>282.600006</td>\n",
       "      <td>282.600006</td>\n",
       "      <td>98950000</td>\n",
       "    </tr>\n",
       "    <tr>\n",
       "      <th>4</th>\n",
       "      <td>1985-02-06</td>\n",
       "      <td>283.799988</td>\n",
       "      <td>284.700012</td>\n",
       "      <td>283.799988</td>\n",
       "      <td>284.500000</td>\n",
       "      <td>284.500000</td>\n",
       "      <td>102300000</td>\n",
       "    </tr>\n",
       "    <tr>\n",
       "      <th>...</th>\n",
       "      <td>...</td>\n",
       "      <td>...</td>\n",
       "      <td>...</td>\n",
       "      <td>...</td>\n",
       "      <td>...</td>\n",
       "      <td>...</td>\n",
       "      <td>...</td>\n",
       "    </tr>\n",
       "    <tr>\n",
       "      <th>8850</th>\n",
       "      <td>2020-03-13</td>\n",
       "      <td>7610.390137</td>\n",
       "      <td>7875.930176</td>\n",
       "      <td>7219.089844</td>\n",
       "      <td>7874.879883</td>\n",
       "      <td>7874.879883</td>\n",
       "      <td>4685890000</td>\n",
       "    </tr>\n",
       "    <tr>\n",
       "      <th>8851</th>\n",
       "      <td>2020-03-16</td>\n",
       "      <td>7392.729980</td>\n",
       "      <td>7422.200195</td>\n",
       "      <td>6882.859863</td>\n",
       "      <td>6904.589844</td>\n",
       "      <td>6904.589844</td>\n",
       "      <td>4594360000</td>\n",
       "    </tr>\n",
       "    <tr>\n",
       "      <th>8852</th>\n",
       "      <td>2020-03-17</td>\n",
       "      <td>7072.000000</td>\n",
       "      <td>7406.229980</td>\n",
       "      <td>6828.910156</td>\n",
       "      <td>7334.779785</td>\n",
       "      <td>7334.779785</td>\n",
       "      <td>4900000000</td>\n",
       "    </tr>\n",
       "    <tr>\n",
       "      <th>8853</th>\n",
       "      <td>2020-03-18</td>\n",
       "      <td>6902.319824</td>\n",
       "      <td>7182.830078</td>\n",
       "      <td>6686.359863</td>\n",
       "      <td>6989.839844</td>\n",
       "      <td>6989.839844</td>\n",
       "      <td>4890820000</td>\n",
       "    </tr>\n",
       "    <tr>\n",
       "      <th>8854</th>\n",
       "      <td>2020-03-19</td>\n",
       "      <td>6996.450195</td>\n",
       "      <td>7341.379883</td>\n",
       "      <td>6858.379883</td>\n",
       "      <td>7150.580078</td>\n",
       "      <td>7150.580078</td>\n",
       "      <td>4762170000</td>\n",
       "    </tr>\n",
       "  </tbody>\n",
       "</table>\n",
       "<p>8855 rows × 7 columns</p>\n",
       "</div>"
      ],
      "text/plain": [
       "            Date         Open         High          Low        Close  \\\n",
       "0     1985-01-31   278.200012   278.899994   278.200012   278.700012   \n",
       "1     1985-02-01   277.899994   278.500000   277.899994   278.399994   \n",
       "2     1985-02-04   278.799988   280.799988   278.799988   280.799988   \n",
       "3     1985-02-05   281.799988   282.700012   281.799988   282.600006   \n",
       "4     1985-02-06   283.799988   284.700012   283.799988   284.500000   \n",
       "...          ...          ...          ...          ...          ...   \n",
       "8850  2020-03-13  7610.390137  7875.930176  7219.089844  7874.879883   \n",
       "8851  2020-03-16  7392.729980  7422.200195  6882.859863  6904.589844   \n",
       "8852  2020-03-17  7072.000000  7406.229980  6828.910156  7334.779785   \n",
       "8853  2020-03-18  6902.319824  7182.830078  6686.359863  6989.839844   \n",
       "8854  2020-03-19  6996.450195  7341.379883  6858.379883  7150.580078   \n",
       "\n",
       "        Adj Close      Volume  \n",
       "0      278.700012    92290000  \n",
       "1      278.399994    85330000  \n",
       "2      280.799988    88440000  \n",
       "3      282.600006    98950000  \n",
       "4      284.500000   102300000  \n",
       "...           ...         ...  \n",
       "8850  7874.879883  4685890000  \n",
       "8851  6904.589844  4594360000  \n",
       "8852  7334.779785  4900000000  \n",
       "8853  6989.839844  4890820000  \n",
       "8854  7150.580078  4762170000  \n",
       "\n",
       "[8855 rows x 7 columns]"
      ]
     },
     "execution_count": 87,
     "metadata": {},
     "output_type": "execute_result"
    }
   ],
   "source": [
    "nas = pd.read_csv('data/nasdaq_index.csv')\n",
    "nas"
   ]
  },
  {
   "cell_type": "code",
   "execution_count": 88,
   "id": "19b0bba5",
   "metadata": {},
   "outputs": [
    {
     "name": "stderr",
     "output_type": "stream",
     "text": [
      "C:\\Users\\rajma\\AppData\\Local\\Temp\\ipykernel_11208\\1152762958.py:2: SettingWithCopyWarning: \n",
      "A value is trying to be set on a copy of a slice from a DataFrame\n",
      "\n",
      "See the caveats in the documentation: https://pandas.pydata.org/pandas-docs/stable/user_guide/indexing.html#returning-a-view-versus-a-copy\n",
      "  nas_close.rename(columns = {'Close':'nasdaq_close'}, inplace = True)\n"
     ]
    },
    {
     "data": {
      "text/html": [
       "<div>\n",
       "<style scoped>\n",
       "    .dataframe tbody tr th:only-of-type {\n",
       "        vertical-align: middle;\n",
       "    }\n",
       "\n",
       "    .dataframe tbody tr th {\n",
       "        vertical-align: top;\n",
       "    }\n",
       "\n",
       "    .dataframe thead th {\n",
       "        text-align: right;\n",
       "    }\n",
       "</style>\n",
       "<table border=\"1\" class=\"dataframe\">\n",
       "  <thead>\n",
       "    <tr style=\"text-align: right;\">\n",
       "      <th></th>\n",
       "      <th>Date</th>\n",
       "      <th>nasdaq_close</th>\n",
       "    </tr>\n",
       "  </thead>\n",
       "  <tbody>\n",
       "    <tr>\n",
       "      <th>0</th>\n",
       "      <td>1985-01-31</td>\n",
       "      <td>278.700012</td>\n",
       "    </tr>\n",
       "    <tr>\n",
       "      <th>1</th>\n",
       "      <td>1985-02-01</td>\n",
       "      <td>278.399994</td>\n",
       "    </tr>\n",
       "    <tr>\n",
       "      <th>2</th>\n",
       "      <td>1985-02-04</td>\n",
       "      <td>280.799988</td>\n",
       "    </tr>\n",
       "    <tr>\n",
       "      <th>3</th>\n",
       "      <td>1985-02-05</td>\n",
       "      <td>282.600006</td>\n",
       "    </tr>\n",
       "    <tr>\n",
       "      <th>4</th>\n",
       "      <td>1985-02-06</td>\n",
       "      <td>284.500000</td>\n",
       "    </tr>\n",
       "    <tr>\n",
       "      <th>...</th>\n",
       "      <td>...</td>\n",
       "      <td>...</td>\n",
       "    </tr>\n",
       "    <tr>\n",
       "      <th>8850</th>\n",
       "      <td>2020-03-13</td>\n",
       "      <td>7874.879883</td>\n",
       "    </tr>\n",
       "    <tr>\n",
       "      <th>8851</th>\n",
       "      <td>2020-03-16</td>\n",
       "      <td>6904.589844</td>\n",
       "    </tr>\n",
       "    <tr>\n",
       "      <th>8852</th>\n",
       "      <td>2020-03-17</td>\n",
       "      <td>7334.779785</td>\n",
       "    </tr>\n",
       "    <tr>\n",
       "      <th>8853</th>\n",
       "      <td>2020-03-18</td>\n",
       "      <td>6989.839844</td>\n",
       "    </tr>\n",
       "    <tr>\n",
       "      <th>8854</th>\n",
       "      <td>2020-03-19</td>\n",
       "      <td>7150.580078</td>\n",
       "    </tr>\n",
       "  </tbody>\n",
       "</table>\n",
       "<p>8855 rows × 2 columns</p>\n",
       "</div>"
      ],
      "text/plain": [
       "            Date  nasdaq_close\n",
       "0     1985-01-31    278.700012\n",
       "1     1985-02-01    278.399994\n",
       "2     1985-02-04    280.799988\n",
       "3     1985-02-05    282.600006\n",
       "4     1985-02-06    284.500000\n",
       "...          ...           ...\n",
       "8850  2020-03-13   7874.879883\n",
       "8851  2020-03-16   6904.589844\n",
       "8852  2020-03-17   7334.779785\n",
       "8853  2020-03-18   6989.839844\n",
       "8854  2020-03-19   7150.580078\n",
       "\n",
       "[8855 rows x 2 columns]"
      ]
     },
     "execution_count": 88,
     "metadata": {},
     "output_type": "execute_result"
    }
   ],
   "source": [
    "nas_close = nas[['Date','Close']]\n",
    "nas_close.rename(columns = {'Close':'nasdaq_close'}, inplace = True)\n",
    "nas_close"
   ]
  },
  {
   "cell_type": "code",
   "execution_count": 89,
   "id": "090bbc45",
   "metadata": {},
   "outputs": [
    {
     "name": "stderr",
     "output_type": "stream",
     "text": [
      "C:\\Users\\rajma\\AppData\\Local\\Temp\\ipykernel_11208\\3223871914.py:1: SettingWithCopyWarning: \n",
      "A value is trying to be set on a copy of a slice from a DataFrame.\n",
      "Try using .loc[row_indexer,col_indexer] = value instead\n",
      "\n",
      "See the caveats in the documentation: https://pandas.pydata.org/pandas-docs/stable/user_guide/indexing.html#returning-a-view-versus-a-copy\n",
      "  nas_close['Date'] = pd.to_datetime(nas_close['Date'])\n"
     ]
    }
   ],
   "source": [
    "nas_close['Date'] = pd.to_datetime(nas_close['Date'])"
   ]
  },
  {
   "cell_type": "code",
   "execution_count": 90,
   "id": "bae24f59",
   "metadata": {},
   "outputs": [
    {
     "data": {
      "text/plain": [
       "Timestamp('1985-01-31 00:00:00')"
      ]
     },
     "execution_count": 90,
     "metadata": {},
     "output_type": "execute_result"
    }
   ],
   "source": [
    "nas_close.Date.min()"
   ]
  },
  {
   "cell_type": "code",
   "execution_count": 91,
   "id": "b1f0483e",
   "metadata": {},
   "outputs": [
    {
     "data": {
      "text/plain": [
       "Timestamp('2020-03-19 00:00:00')"
      ]
     },
     "execution_count": 91,
     "metadata": {},
     "output_type": "execute_result"
    }
   ],
   "source": [
    "nas_close.Date.max()"
   ]
  },
  {
   "cell_type": "code",
   "execution_count": 92,
   "id": "3e3c93c2",
   "metadata": {},
   "outputs": [
    {
     "data": {
      "text/html": [
       "<div>\n",
       "<style scoped>\n",
       "    .dataframe tbody tr th:only-of-type {\n",
       "        vertical-align: middle;\n",
       "    }\n",
       "\n",
       "    .dataframe tbody tr th {\n",
       "        vertical-align: top;\n",
       "    }\n",
       "\n",
       "    .dataframe thead th {\n",
       "        text-align: right;\n",
       "    }\n",
       "</style>\n",
       "<table border=\"1\" class=\"dataframe\">\n",
       "  <thead>\n",
       "    <tr style=\"text-align: right;\">\n",
       "      <th></th>\n",
       "      <th>Date</th>\n",
       "      <th>nasdaq_close</th>\n",
       "    </tr>\n",
       "  </thead>\n",
       "  <tbody>\n",
       "  </tbody>\n",
       "</table>\n",
       "</div>"
      ],
      "text/plain": [
       "Empty DataFrame\n",
       "Columns: [Date, nasdaq_close]\n",
       "Index: []"
      ]
     },
     "execution_count": 92,
     "metadata": {},
     "output_type": "execute_result"
    }
   ],
   "source": [
    "nas_close[nas_close['nasdaq_close'].isnull() == True]"
   ]
  },
  {
   "cell_type": "markdown",
   "id": "e0f7549f",
   "metadata": {},
   "source": [
    "## S&P500_data.csv"
   ]
  },
  {
   "cell_type": "code",
   "execution_count": 93,
   "id": "27e84ef9",
   "metadata": {},
   "outputs": [
    {
     "data": {
      "text/html": [
       "<div>\n",
       "<style scoped>\n",
       "    .dataframe tbody tr th:only-of-type {\n",
       "        vertical-align: middle;\n",
       "    }\n",
       "\n",
       "    .dataframe tbody tr th {\n",
       "        vertical-align: top;\n",
       "    }\n",
       "\n",
       "    .dataframe thead th {\n",
       "        text-align: right;\n",
       "    }\n",
       "</style>\n",
       "<table border=\"1\" class=\"dataframe\">\n",
       "  <thead>\n",
       "    <tr style=\"text-align: right;\">\n",
       "      <th></th>\n",
       "      <th>Date</th>\n",
       "      <th>Open</th>\n",
       "      <th>High</th>\n",
       "      <th>Low</th>\n",
       "      <th>Close</th>\n",
       "      <th>Adj Close</th>\n",
       "      <th>Volume</th>\n",
       "    </tr>\n",
       "  </thead>\n",
       "  <tbody>\n",
       "    <tr>\n",
       "      <th>0</th>\n",
       "      <td>1985-01-31</td>\n",
       "      <td>179.389999</td>\n",
       "      <td>179.830002</td>\n",
       "      <td>178.559998</td>\n",
       "      <td>179.630005</td>\n",
       "      <td>179.630005</td>\n",
       "      <td>132500000</td>\n",
       "    </tr>\n",
       "    <tr>\n",
       "      <th>1</th>\n",
       "      <td>1985-02-01</td>\n",
       "      <td>179.630005</td>\n",
       "      <td>179.630005</td>\n",
       "      <td>178.440002</td>\n",
       "      <td>178.630005</td>\n",
       "      <td>178.630005</td>\n",
       "      <td>105400000</td>\n",
       "    </tr>\n",
       "    <tr>\n",
       "      <th>2</th>\n",
       "      <td>1985-02-04</td>\n",
       "      <td>178.630005</td>\n",
       "      <td>180.350006</td>\n",
       "      <td>177.750000</td>\n",
       "      <td>180.350006</td>\n",
       "      <td>180.350006</td>\n",
       "      <td>113700000</td>\n",
       "    </tr>\n",
       "    <tr>\n",
       "      <th>3</th>\n",
       "      <td>1985-02-05</td>\n",
       "      <td>180.350006</td>\n",
       "      <td>181.529999</td>\n",
       "      <td>180.070007</td>\n",
       "      <td>180.610001</td>\n",
       "      <td>180.610001</td>\n",
       "      <td>143900000</td>\n",
       "    </tr>\n",
       "    <tr>\n",
       "      <th>4</th>\n",
       "      <td>1985-02-06</td>\n",
       "      <td>180.610001</td>\n",
       "      <td>181.500000</td>\n",
       "      <td>180.320007</td>\n",
       "      <td>180.429993</td>\n",
       "      <td>180.429993</td>\n",
       "      <td>141000000</td>\n",
       "    </tr>\n",
       "    <tr>\n",
       "      <th>...</th>\n",
       "      <td>...</td>\n",
       "      <td>...</td>\n",
       "      <td>...</td>\n",
       "      <td>...</td>\n",
       "      <td>...</td>\n",
       "      <td>...</td>\n",
       "      <td>...</td>\n",
       "    </tr>\n",
       "    <tr>\n",
       "      <th>9102</th>\n",
       "      <td>2021-03-15</td>\n",
       "      <td>3942.959961</td>\n",
       "      <td>3970.080078</td>\n",
       "      <td>3923.540039</td>\n",
       "      <td>3968.939941</td>\n",
       "      <td>3968.939941</td>\n",
       "      <td>4882190000</td>\n",
       "    </tr>\n",
       "    <tr>\n",
       "      <th>9103</th>\n",
       "      <td>2021-03-16</td>\n",
       "      <td>3973.590088</td>\n",
       "      <td>3981.040039</td>\n",
       "      <td>3953.439941</td>\n",
       "      <td>3962.709961</td>\n",
       "      <td>3962.709961</td>\n",
       "      <td>4604870000</td>\n",
       "    </tr>\n",
       "    <tr>\n",
       "      <th>9104</th>\n",
       "      <td>2021-03-17</td>\n",
       "      <td>3949.570068</td>\n",
       "      <td>3983.870117</td>\n",
       "      <td>3935.739990</td>\n",
       "      <td>3974.120117</td>\n",
       "      <td>3974.120117</td>\n",
       "      <td>4541620000</td>\n",
       "    </tr>\n",
       "    <tr>\n",
       "      <th>9105</th>\n",
       "      <td>2021-03-18</td>\n",
       "      <td>3953.500000</td>\n",
       "      <td>3969.620117</td>\n",
       "      <td>3910.860107</td>\n",
       "      <td>3915.459961</td>\n",
       "      <td>3915.459961</td>\n",
       "      <td>4043170000</td>\n",
       "    </tr>\n",
       "    <tr>\n",
       "      <th>9106</th>\n",
       "      <td>2021-03-19</td>\n",
       "      <td>3913.139893</td>\n",
       "      <td>3930.120117</td>\n",
       "      <td>3886.750000</td>\n",
       "      <td>3913.100098</td>\n",
       "      <td>3913.100098</td>\n",
       "      <td>7725050000</td>\n",
       "    </tr>\n",
       "  </tbody>\n",
       "</table>\n",
       "<p>9107 rows × 7 columns</p>\n",
       "</div>"
      ],
      "text/plain": [
       "            Date         Open         High          Low        Close  \\\n",
       "0     1985-01-31   179.389999   179.830002   178.559998   179.630005   \n",
       "1     1985-02-01   179.630005   179.630005   178.440002   178.630005   \n",
       "2     1985-02-04   178.630005   180.350006   177.750000   180.350006   \n",
       "3     1985-02-05   180.350006   181.529999   180.070007   180.610001   \n",
       "4     1985-02-06   180.610001   181.500000   180.320007   180.429993   \n",
       "...          ...          ...          ...          ...          ...   \n",
       "9102  2021-03-15  3942.959961  3970.080078  3923.540039  3968.939941   \n",
       "9103  2021-03-16  3973.590088  3981.040039  3953.439941  3962.709961   \n",
       "9104  2021-03-17  3949.570068  3983.870117  3935.739990  3974.120117   \n",
       "9105  2021-03-18  3953.500000  3969.620117  3910.860107  3915.459961   \n",
       "9106  2021-03-19  3913.139893  3930.120117  3886.750000  3913.100098   \n",
       "\n",
       "        Adj Close      Volume  \n",
       "0      179.630005   132500000  \n",
       "1      178.630005   105400000  \n",
       "2      180.350006   113700000  \n",
       "3      180.610001   143900000  \n",
       "4      180.429993   141000000  \n",
       "...           ...         ...  \n",
       "9102  3968.939941  4882190000  \n",
       "9103  3962.709961  4604870000  \n",
       "9104  3974.120117  4541620000  \n",
       "9105  3915.459961  4043170000  \n",
       "9106  3913.100098  7725050000  \n",
       "\n",
       "[9107 rows x 7 columns]"
      ]
     },
     "execution_count": 93,
     "metadata": {},
     "output_type": "execute_result"
    }
   ],
   "source": [
    "sp = pd.read_csv('data/SP500_yahoo.csv')\n",
    "sp"
   ]
  },
  {
   "cell_type": "code",
   "execution_count": 94,
   "id": "47e846e6",
   "metadata": {},
   "outputs": [
    {
     "name": "stderr",
     "output_type": "stream",
     "text": [
      "C:\\Users\\rajma\\AppData\\Local\\Temp\\ipykernel_11208\\737618160.py:2: SettingWithCopyWarning: \n",
      "A value is trying to be set on a copy of a slice from a DataFrame\n",
      "\n",
      "See the caveats in the documentation: https://pandas.pydata.org/pandas-docs/stable/user_guide/indexing.html#returning-a-view-versus-a-copy\n",
      "  sp_close.rename(columns = {'Close':'SP500'}, inplace = True)\n"
     ]
    },
    {
     "data": {
      "text/html": [
       "<div>\n",
       "<style scoped>\n",
       "    .dataframe tbody tr th:only-of-type {\n",
       "        vertical-align: middle;\n",
       "    }\n",
       "\n",
       "    .dataframe tbody tr th {\n",
       "        vertical-align: top;\n",
       "    }\n",
       "\n",
       "    .dataframe thead th {\n",
       "        text-align: right;\n",
       "    }\n",
       "</style>\n",
       "<table border=\"1\" class=\"dataframe\">\n",
       "  <thead>\n",
       "    <tr style=\"text-align: right;\">\n",
       "      <th></th>\n",
       "      <th>Date</th>\n",
       "      <th>SP500</th>\n",
       "    </tr>\n",
       "  </thead>\n",
       "  <tbody>\n",
       "    <tr>\n",
       "      <th>0</th>\n",
       "      <td>1985-01-31</td>\n",
       "      <td>179.630005</td>\n",
       "    </tr>\n",
       "    <tr>\n",
       "      <th>1</th>\n",
       "      <td>1985-02-01</td>\n",
       "      <td>178.630005</td>\n",
       "    </tr>\n",
       "    <tr>\n",
       "      <th>2</th>\n",
       "      <td>1985-02-04</td>\n",
       "      <td>180.350006</td>\n",
       "    </tr>\n",
       "    <tr>\n",
       "      <th>3</th>\n",
       "      <td>1985-02-05</td>\n",
       "      <td>180.610001</td>\n",
       "    </tr>\n",
       "    <tr>\n",
       "      <th>4</th>\n",
       "      <td>1985-02-06</td>\n",
       "      <td>180.429993</td>\n",
       "    </tr>\n",
       "    <tr>\n",
       "      <th>...</th>\n",
       "      <td>...</td>\n",
       "      <td>...</td>\n",
       "    </tr>\n",
       "    <tr>\n",
       "      <th>9102</th>\n",
       "      <td>2021-03-15</td>\n",
       "      <td>3968.939941</td>\n",
       "    </tr>\n",
       "    <tr>\n",
       "      <th>9103</th>\n",
       "      <td>2021-03-16</td>\n",
       "      <td>3962.709961</td>\n",
       "    </tr>\n",
       "    <tr>\n",
       "      <th>9104</th>\n",
       "      <td>2021-03-17</td>\n",
       "      <td>3974.120117</td>\n",
       "    </tr>\n",
       "    <tr>\n",
       "      <th>9105</th>\n",
       "      <td>2021-03-18</td>\n",
       "      <td>3915.459961</td>\n",
       "    </tr>\n",
       "    <tr>\n",
       "      <th>9106</th>\n",
       "      <td>2021-03-19</td>\n",
       "      <td>3913.100098</td>\n",
       "    </tr>\n",
       "  </tbody>\n",
       "</table>\n",
       "<p>9107 rows × 2 columns</p>\n",
       "</div>"
      ],
      "text/plain": [
       "            Date        SP500\n",
       "0     1985-01-31   179.630005\n",
       "1     1985-02-01   178.630005\n",
       "2     1985-02-04   180.350006\n",
       "3     1985-02-05   180.610001\n",
       "4     1985-02-06   180.429993\n",
       "...          ...          ...\n",
       "9102  2021-03-15  3968.939941\n",
       "9103  2021-03-16  3962.709961\n",
       "9104  2021-03-17  3974.120117\n",
       "9105  2021-03-18  3915.459961\n",
       "9106  2021-03-19  3913.100098\n",
       "\n",
       "[9107 rows x 2 columns]"
      ]
     },
     "execution_count": 94,
     "metadata": {},
     "output_type": "execute_result"
    }
   ],
   "source": [
    "sp_close = sp[['Date','Close']]\n",
    "sp_close.rename(columns = {'Close':'SP500'}, inplace = True)\n",
    "sp_close"
   ]
  },
  {
   "cell_type": "code",
   "execution_count": 95,
   "id": "f3add8ed",
   "metadata": {},
   "outputs": [
    {
     "name": "stderr",
     "output_type": "stream",
     "text": [
      "C:\\Users\\rajma\\AppData\\Local\\Temp\\ipykernel_11208\\1797486908.py:1: SettingWithCopyWarning: \n",
      "A value is trying to be set on a copy of a slice from a DataFrame.\n",
      "Try using .loc[row_indexer,col_indexer] = value instead\n",
      "\n",
      "See the caveats in the documentation: https://pandas.pydata.org/pandas-docs/stable/user_guide/indexing.html#returning-a-view-versus-a-copy\n",
      "  sp_close['Date'] = pd.to_datetime(sp_close['Date'])\n"
     ]
    }
   ],
   "source": [
    "sp_close['Date'] = pd.to_datetime(sp_close['Date'])"
   ]
  },
  {
   "cell_type": "code",
   "execution_count": 96,
   "id": "052e467c",
   "metadata": {},
   "outputs": [
    {
     "name": "stdout",
     "output_type": "stream",
     "text": [
      "<class 'pandas.core.frame.DataFrame'>\n",
      "RangeIndex: 9107 entries, 0 to 9106\n",
      "Data columns (total 2 columns):\n",
      " #   Column  Non-Null Count  Dtype         \n",
      "---  ------  --------------  -----         \n",
      " 0   Date    9107 non-null   datetime64[ns]\n",
      " 1   SP500   9107 non-null   float64       \n",
      "dtypes: datetime64[ns](1), float64(1)\n",
      "memory usage: 142.4 KB\n"
     ]
    }
   ],
   "source": [
    "sp_close.info()"
   ]
  },
  {
   "cell_type": "code",
   "execution_count": 97,
   "id": "03425a62",
   "metadata": {},
   "outputs": [
    {
     "data": {
      "text/plain": [
       "Timestamp('1985-01-31 00:00:00')"
      ]
     },
     "execution_count": 97,
     "metadata": {},
     "output_type": "execute_result"
    }
   ],
   "source": [
    "sp_close.Date.min()"
   ]
  },
  {
   "cell_type": "code",
   "execution_count": 98,
   "id": "bb38790c",
   "metadata": {},
   "outputs": [
    {
     "data": {
      "text/plain": [
       "Timestamp('2021-03-19 00:00:00')"
      ]
     },
     "execution_count": 98,
     "metadata": {},
     "output_type": "execute_result"
    }
   ],
   "source": [
    "sp_close.Date.max()"
   ]
  },
  {
   "cell_type": "code",
   "execution_count": 99,
   "id": "88ea1d19",
   "metadata": {},
   "outputs": [
    {
     "data": {
      "text/html": [
       "<div>\n",
       "<style scoped>\n",
       "    .dataframe tbody tr th:only-of-type {\n",
       "        vertical-align: middle;\n",
       "    }\n",
       "\n",
       "    .dataframe tbody tr th {\n",
       "        vertical-align: top;\n",
       "    }\n",
       "\n",
       "    .dataframe thead th {\n",
       "        text-align: right;\n",
       "    }\n",
       "</style>\n",
       "<table border=\"1\" class=\"dataframe\">\n",
       "  <thead>\n",
       "    <tr style=\"text-align: right;\">\n",
       "      <th></th>\n",
       "      <th>Date</th>\n",
       "      <th>SP500</th>\n",
       "    </tr>\n",
       "  </thead>\n",
       "  <tbody>\n",
       "  </tbody>\n",
       "</table>\n",
       "</div>"
      ],
      "text/plain": [
       "Empty DataFrame\n",
       "Columns: [Date, SP500]\n",
       "Index: []"
      ]
     },
     "execution_count": 99,
     "metadata": {},
     "output_type": "execute_result"
    }
   ],
   "source": [
    "sp_close[sp_close['SP500'].isnull() == True]"
   ]
  },
  {
   "cell_type": "markdown",
   "id": "84695518",
   "metadata": {},
   "source": [
    "## silver.csv"
   ]
  },
  {
   "cell_type": "code",
   "execution_count": 100,
   "id": "9facee21",
   "metadata": {},
   "outputs": [
    {
     "data": {
      "text/html": [
       "<div>\n",
       "<style scoped>\n",
       "    .dataframe tbody tr th:only-of-type {\n",
       "        vertical-align: middle;\n",
       "    }\n",
       "\n",
       "    .dataframe tbody tr th {\n",
       "        vertical-align: top;\n",
       "    }\n",
       "\n",
       "    .dataframe thead th {\n",
       "        text-align: right;\n",
       "    }\n",
       "</style>\n",
       "<table border=\"1\" class=\"dataframe\">\n",
       "  <thead>\n",
       "    <tr style=\"text-align: right;\">\n",
       "      <th></th>\n",
       "      <th>Date</th>\n",
       "      <th>Open</th>\n",
       "      <th>High</th>\n",
       "      <th>Low</th>\n",
       "      <th>Close</th>\n",
       "      <th>Adj Close</th>\n",
       "      <th>Volume</th>\n",
       "    </tr>\n",
       "  </thead>\n",
       "  <tbody>\n",
       "    <tr>\n",
       "      <th>0</th>\n",
       "      <td>2000-08-30</td>\n",
       "      <td>4.950</td>\n",
       "      <td>4.950</td>\n",
       "      <td>4.895</td>\n",
       "      <td>4.930</td>\n",
       "      <td>4.930</td>\n",
       "      <td>2319</td>\n",
       "    </tr>\n",
       "    <tr>\n",
       "      <th>1</th>\n",
       "      <td>2000-08-31</td>\n",
       "      <td>4.920</td>\n",
       "      <td>5.045</td>\n",
       "      <td>4.920</td>\n",
       "      <td>5.003</td>\n",
       "      <td>5.003</td>\n",
       "      <td>1612</td>\n",
       "    </tr>\n",
       "    <tr>\n",
       "      <th>2</th>\n",
       "      <td>2000-09-01</td>\n",
       "      <td>5.035</td>\n",
       "      <td>5.035</td>\n",
       "      <td>4.985</td>\n",
       "      <td>5.004</td>\n",
       "      <td>5.004</td>\n",
       "      <td>1375</td>\n",
       "    </tr>\n",
       "    <tr>\n",
       "      <th>3</th>\n",
       "      <td>2000-09-05</td>\n",
       "      <td>4.990</td>\n",
       "      <td>5.005</td>\n",
       "      <td>4.975</td>\n",
       "      <td>4.998</td>\n",
       "      <td>4.998</td>\n",
       "      <td>856</td>\n",
       "    </tr>\n",
       "    <tr>\n",
       "      <th>4</th>\n",
       "      <td>2000-09-06</td>\n",
       "      <td>5.000</td>\n",
       "      <td>5.000</td>\n",
       "      <td>4.980</td>\n",
       "      <td>4.983</td>\n",
       "      <td>4.983</td>\n",
       "      <td>232</td>\n",
       "    </tr>\n",
       "    <tr>\n",
       "      <th>...</th>\n",
       "      <td>...</td>\n",
       "      <td>...</td>\n",
       "      <td>...</td>\n",
       "      <td>...</td>\n",
       "      <td>...</td>\n",
       "      <td>...</td>\n",
       "      <td>...</td>\n",
       "    </tr>\n",
       "    <tr>\n",
       "      <th>4899</th>\n",
       "      <td>2020-03-13</td>\n",
       "      <td>15.755</td>\n",
       "      <td>15.765</td>\n",
       "      <td>14.425</td>\n",
       "      <td>14.456</td>\n",
       "      <td>14.456</td>\n",
       "      <td>506</td>\n",
       "    </tr>\n",
       "    <tr>\n",
       "      <th>4900</th>\n",
       "      <td>2020-03-16</td>\n",
       "      <td>14.885</td>\n",
       "      <td>14.885</td>\n",
       "      <td>11.850</td>\n",
       "      <td>12.772</td>\n",
       "      <td>12.772</td>\n",
       "      <td>104</td>\n",
       "    </tr>\n",
       "    <tr>\n",
       "      <th>4901</th>\n",
       "      <td>2020-03-17</td>\n",
       "      <td>12.550</td>\n",
       "      <td>12.710</td>\n",
       "      <td>12.415</td>\n",
       "      <td>12.469</td>\n",
       "      <td>12.469</td>\n",
       "      <td>194</td>\n",
       "    </tr>\n",
       "    <tr>\n",
       "      <th>4902</th>\n",
       "      <td>2020-03-18</td>\n",
       "      <td>12.560</td>\n",
       "      <td>12.825</td>\n",
       "      <td>11.735</td>\n",
       "      <td>11.735</td>\n",
       "      <td>11.735</td>\n",
       "      <td>184</td>\n",
       "    </tr>\n",
       "    <tr>\n",
       "      <th>4903</th>\n",
       "      <td>2020-03-19</td>\n",
       "      <td>12.070</td>\n",
       "      <td>12.205</td>\n",
       "      <td>11.895</td>\n",
       "      <td>12.097</td>\n",
       "      <td>12.097</td>\n",
       "      <td>45</td>\n",
       "    </tr>\n",
       "  </tbody>\n",
       "</table>\n",
       "<p>4904 rows × 7 columns</p>\n",
       "</div>"
      ],
      "text/plain": [
       "            Date    Open    High     Low   Close  Adj Close  Volume\n",
       "0     2000-08-30   4.950   4.950   4.895   4.930      4.930    2319\n",
       "1     2000-08-31   4.920   5.045   4.920   5.003      5.003    1612\n",
       "2     2000-09-01   5.035   5.035   4.985   5.004      5.004    1375\n",
       "3     2000-09-05   4.990   5.005   4.975   4.998      4.998     856\n",
       "4     2000-09-06   5.000   5.000   4.980   4.983      4.983     232\n",
       "...          ...     ...     ...     ...     ...        ...     ...\n",
       "4899  2020-03-13  15.755  15.765  14.425  14.456     14.456     506\n",
       "4900  2020-03-16  14.885  14.885  11.850  12.772     12.772     104\n",
       "4901  2020-03-17  12.550  12.710  12.415  12.469     12.469     194\n",
       "4902  2020-03-18  12.560  12.825  11.735  11.735     11.735     184\n",
       "4903  2020-03-19  12.070  12.205  11.895  12.097     12.097      45\n",
       "\n",
       "[4904 rows x 7 columns]"
      ]
     },
     "execution_count": 100,
     "metadata": {},
     "output_type": "execute_result"
    }
   ],
   "source": [
    "sil = pd.read_csv('data/silver.csv')\n",
    "sil"
   ]
  },
  {
   "cell_type": "code",
   "execution_count": 101,
   "id": "27e51988",
   "metadata": {},
   "outputs": [
    {
     "name": "stderr",
     "output_type": "stream",
     "text": [
      "C:\\Users\\rajma\\AppData\\Local\\Temp\\ipykernel_11208\\3297253989.py:2: SettingWithCopyWarning: \n",
      "A value is trying to be set on a copy of a slice from a DataFrame\n",
      "\n",
      "See the caveats in the documentation: https://pandas.pydata.org/pandas-docs/stable/user_guide/indexing.html#returning-a-view-versus-a-copy\n",
      "  sil_close.rename(columns = {'Close':'silver_close'}, inplace = True)\n"
     ]
    },
    {
     "data": {
      "text/html": [
       "<div>\n",
       "<style scoped>\n",
       "    .dataframe tbody tr th:only-of-type {\n",
       "        vertical-align: middle;\n",
       "    }\n",
       "\n",
       "    .dataframe tbody tr th {\n",
       "        vertical-align: top;\n",
       "    }\n",
       "\n",
       "    .dataframe thead th {\n",
       "        text-align: right;\n",
       "    }\n",
       "</style>\n",
       "<table border=\"1\" class=\"dataframe\">\n",
       "  <thead>\n",
       "    <tr style=\"text-align: right;\">\n",
       "      <th></th>\n",
       "      <th>Date</th>\n",
       "      <th>silver_close</th>\n",
       "    </tr>\n",
       "  </thead>\n",
       "  <tbody>\n",
       "    <tr>\n",
       "      <th>0</th>\n",
       "      <td>2000-08-30</td>\n",
       "      <td>4.930</td>\n",
       "    </tr>\n",
       "    <tr>\n",
       "      <th>1</th>\n",
       "      <td>2000-08-31</td>\n",
       "      <td>5.003</td>\n",
       "    </tr>\n",
       "    <tr>\n",
       "      <th>2</th>\n",
       "      <td>2000-09-01</td>\n",
       "      <td>5.004</td>\n",
       "    </tr>\n",
       "    <tr>\n",
       "      <th>3</th>\n",
       "      <td>2000-09-05</td>\n",
       "      <td>4.998</td>\n",
       "    </tr>\n",
       "    <tr>\n",
       "      <th>4</th>\n",
       "      <td>2000-09-06</td>\n",
       "      <td>4.983</td>\n",
       "    </tr>\n",
       "    <tr>\n",
       "      <th>...</th>\n",
       "      <td>...</td>\n",
       "      <td>...</td>\n",
       "    </tr>\n",
       "    <tr>\n",
       "      <th>4899</th>\n",
       "      <td>2020-03-13</td>\n",
       "      <td>14.456</td>\n",
       "    </tr>\n",
       "    <tr>\n",
       "      <th>4900</th>\n",
       "      <td>2020-03-16</td>\n",
       "      <td>12.772</td>\n",
       "    </tr>\n",
       "    <tr>\n",
       "      <th>4901</th>\n",
       "      <td>2020-03-17</td>\n",
       "      <td>12.469</td>\n",
       "    </tr>\n",
       "    <tr>\n",
       "      <th>4902</th>\n",
       "      <td>2020-03-18</td>\n",
       "      <td>11.735</td>\n",
       "    </tr>\n",
       "    <tr>\n",
       "      <th>4903</th>\n",
       "      <td>2020-03-19</td>\n",
       "      <td>12.097</td>\n",
       "    </tr>\n",
       "  </tbody>\n",
       "</table>\n",
       "<p>4904 rows × 2 columns</p>\n",
       "</div>"
      ],
      "text/plain": [
       "            Date  silver_close\n",
       "0     2000-08-30         4.930\n",
       "1     2000-08-31         5.003\n",
       "2     2000-09-01         5.004\n",
       "3     2000-09-05         4.998\n",
       "4     2000-09-06         4.983\n",
       "...          ...           ...\n",
       "4899  2020-03-13        14.456\n",
       "4900  2020-03-16        12.772\n",
       "4901  2020-03-17        12.469\n",
       "4902  2020-03-18        11.735\n",
       "4903  2020-03-19        12.097\n",
       "\n",
       "[4904 rows x 2 columns]"
      ]
     },
     "execution_count": 101,
     "metadata": {},
     "output_type": "execute_result"
    }
   ],
   "source": [
    "sil_close = sil[['Date','Close']]\n",
    "sil_close.rename(columns = {'Close':'silver_close'}, inplace = True)\n",
    "sil_close"
   ]
  },
  {
   "cell_type": "code",
   "execution_count": 102,
   "id": "8042fa29",
   "metadata": {},
   "outputs": [
    {
     "name": "stderr",
     "output_type": "stream",
     "text": [
      "C:\\Users\\rajma\\AppData\\Local\\Temp\\ipykernel_11208\\1371323969.py:1: SettingWithCopyWarning: \n",
      "A value is trying to be set on a copy of a slice from a DataFrame.\n",
      "Try using .loc[row_indexer,col_indexer] = value instead\n",
      "\n",
      "See the caveats in the documentation: https://pandas.pydata.org/pandas-docs/stable/user_guide/indexing.html#returning-a-view-versus-a-copy\n",
      "  sil_close['Date'] = pd.to_datetime(sil_close['Date'])\n"
     ]
    }
   ],
   "source": [
    "sil_close['Date'] = pd.to_datetime(sil_close['Date'])"
   ]
  },
  {
   "cell_type": "code",
   "execution_count": 103,
   "id": "403a554b",
   "metadata": {},
   "outputs": [
    {
     "name": "stdout",
     "output_type": "stream",
     "text": [
      "<class 'pandas.core.frame.DataFrame'>\n",
      "RangeIndex: 4904 entries, 0 to 4903\n",
      "Data columns (total 2 columns):\n",
      " #   Column        Non-Null Count  Dtype         \n",
      "---  ------        --------------  -----         \n",
      " 0   Date          4904 non-null   datetime64[ns]\n",
      " 1   silver_close  4904 non-null   float64       \n",
      "dtypes: datetime64[ns](1), float64(1)\n",
      "memory usage: 76.8 KB\n"
     ]
    }
   ],
   "source": [
    "sil_close.info()"
   ]
  },
  {
   "cell_type": "code",
   "execution_count": 104,
   "id": "0f73e0a5",
   "metadata": {},
   "outputs": [
    {
     "data": {
      "text/plain": [
       "Timestamp('2000-08-30 00:00:00')"
      ]
     },
     "execution_count": 104,
     "metadata": {},
     "output_type": "execute_result"
    }
   ],
   "source": [
    "sil_close.Date.min()"
   ]
  },
  {
   "cell_type": "code",
   "execution_count": 105,
   "id": "d7728c96",
   "metadata": {},
   "outputs": [
    {
     "data": {
      "text/plain": [
       "Timestamp('2020-03-19 00:00:00')"
      ]
     },
     "execution_count": 105,
     "metadata": {},
     "output_type": "execute_result"
    }
   ],
   "source": [
    "sil_close.Date.max()"
   ]
  },
  {
   "cell_type": "code",
   "execution_count": 106,
   "id": "fe47b272",
   "metadata": {},
   "outputs": [
    {
     "data": {
      "text/html": [
       "<div>\n",
       "<style scoped>\n",
       "    .dataframe tbody tr th:only-of-type {\n",
       "        vertical-align: middle;\n",
       "    }\n",
       "\n",
       "    .dataframe tbody tr th {\n",
       "        vertical-align: top;\n",
       "    }\n",
       "\n",
       "    .dataframe thead th {\n",
       "        text-align: right;\n",
       "    }\n",
       "</style>\n",
       "<table border=\"1\" class=\"dataframe\">\n",
       "  <thead>\n",
       "    <tr style=\"text-align: right;\">\n",
       "      <th></th>\n",
       "      <th>Date</th>\n",
       "      <th>silver_close</th>\n",
       "    </tr>\n",
       "  </thead>\n",
       "  <tbody>\n",
       "  </tbody>\n",
       "</table>\n",
       "</div>"
      ],
      "text/plain": [
       "Empty DataFrame\n",
       "Columns: [Date, silver_close]\n",
       "Index: []"
      ]
     },
     "execution_count": 106,
     "metadata": {},
     "output_type": "execute_result"
    }
   ],
   "source": [
    "sil_close[sil_close['silver_close'].isnull() == True]"
   ]
  },
  {
   "cell_type": "markdown",
   "id": "295febbd",
   "metadata": {},
   "source": [
    "## Euro"
   ]
  },
  {
   "cell_type": "code",
   "execution_count": 107,
   "id": "f0b1477d",
   "metadata": {},
   "outputs": [
    {
     "data": {
      "text/html": [
       "<div>\n",
       "<style scoped>\n",
       "    .dataframe tbody tr th:only-of-type {\n",
       "        vertical-align: middle;\n",
       "    }\n",
       "\n",
       "    .dataframe tbody tr th {\n",
       "        vertical-align: top;\n",
       "    }\n",
       "\n",
       "    .dataframe thead th {\n",
       "        text-align: right;\n",
       "    }\n",
       "</style>\n",
       "<table border=\"1\" class=\"dataframe\">\n",
       "  <thead>\n",
       "    <tr style=\"text-align: right;\">\n",
       "      <th></th>\n",
       "      <th>Date</th>\n",
       "      <th>Open</th>\n",
       "      <th>High</th>\n",
       "      <th>Low</th>\n",
       "      <th>Close</th>\n",
       "      <th>Adj Close</th>\n",
       "      <th>Volume</th>\n",
       "    </tr>\n",
       "  </thead>\n",
       "  <tbody>\n",
       "    <tr>\n",
       "      <th>0</th>\n",
       "      <td>2003-12-01</td>\n",
       "      <td>0.83098</td>\n",
       "      <td>0.83724</td>\n",
       "      <td>0.830560</td>\n",
       "      <td>0.83577</td>\n",
       "      <td>0.83577</td>\n",
       "      <td>0</td>\n",
       "    </tr>\n",
       "    <tr>\n",
       "      <th>1</th>\n",
       "      <td>2003-12-02</td>\n",
       "      <td>0.83605</td>\n",
       "      <td>0.83710</td>\n",
       "      <td>0.825830</td>\n",
       "      <td>0.82720</td>\n",
       "      <td>0.82720</td>\n",
       "      <td>0</td>\n",
       "    </tr>\n",
       "    <tr>\n",
       "      <th>2</th>\n",
       "      <td>2003-12-03</td>\n",
       "      <td>0.82713</td>\n",
       "      <td>0.82802</td>\n",
       "      <td>0.824400</td>\n",
       "      <td>0.82488</td>\n",
       "      <td>0.82488</td>\n",
       "      <td>0</td>\n",
       "    </tr>\n",
       "    <tr>\n",
       "      <th>3</th>\n",
       "      <td>2003-12-04</td>\n",
       "      <td>0.82508</td>\n",
       "      <td>0.83029</td>\n",
       "      <td>0.823450</td>\n",
       "      <td>0.82775</td>\n",
       "      <td>0.82775</td>\n",
       "      <td>0</td>\n",
       "    </tr>\n",
       "    <tr>\n",
       "      <th>4</th>\n",
       "      <td>2003-12-05</td>\n",
       "      <td>0.82795</td>\n",
       "      <td>0.82878</td>\n",
       "      <td>0.820280</td>\n",
       "      <td>0.82055</td>\n",
       "      <td>0.82055</td>\n",
       "      <td>0</td>\n",
       "    </tr>\n",
       "    <tr>\n",
       "      <th>...</th>\n",
       "      <td>...</td>\n",
       "      <td>...</td>\n",
       "      <td>...</td>\n",
       "      <td>...</td>\n",
       "      <td>...</td>\n",
       "      <td>...</td>\n",
       "      <td>...</td>\n",
       "    </tr>\n",
       "    <tr>\n",
       "      <th>4220</th>\n",
       "      <td>2020-03-13</td>\n",
       "      <td>0.89417</td>\n",
       "      <td>0.90372</td>\n",
       "      <td>0.891160</td>\n",
       "      <td>0.89406</td>\n",
       "      <td>0.89406</td>\n",
       "      <td>0</td>\n",
       "    </tr>\n",
       "    <tr>\n",
       "      <th>4221</th>\n",
       "      <td>2020-03-16</td>\n",
       "      <td>0.89609</td>\n",
       "      <td>0.90182</td>\n",
       "      <td>0.890044</td>\n",
       "      <td>0.89643</td>\n",
       "      <td>0.89643</td>\n",
       "      <td>0</td>\n",
       "    </tr>\n",
       "    <tr>\n",
       "      <th>4222</th>\n",
       "      <td>2020-03-17</td>\n",
       "      <td>0.89579</td>\n",
       "      <td>0.91258</td>\n",
       "      <td>0.893730</td>\n",
       "      <td>0.89580</td>\n",
       "      <td>0.89580</td>\n",
       "      <td>0</td>\n",
       "    </tr>\n",
       "    <tr>\n",
       "      <th>4223</th>\n",
       "      <td>2020-03-18</td>\n",
       "      <td>0.90770</td>\n",
       "      <td>0.92320</td>\n",
       "      <td>0.905387</td>\n",
       "      <td>0.90781</td>\n",
       "      <td>0.90781</td>\n",
       "      <td>0</td>\n",
       "    </tr>\n",
       "    <tr>\n",
       "      <th>4224</th>\n",
       "      <td>2020-03-19</td>\n",
       "      <td>0.91379</td>\n",
       "      <td>0.93476</td>\n",
       "      <td>0.913610</td>\n",
       "      <td>0.91228</td>\n",
       "      <td>0.91228</td>\n",
       "      <td>0</td>\n",
       "    </tr>\n",
       "  </tbody>\n",
       "</table>\n",
       "<p>4225 rows × 7 columns</p>\n",
       "</div>"
      ],
      "text/plain": [
       "            Date     Open     High       Low    Close  Adj Close  Volume\n",
       "0     2003-12-01  0.83098  0.83724  0.830560  0.83577    0.83577       0\n",
       "1     2003-12-02  0.83605  0.83710  0.825830  0.82720    0.82720       0\n",
       "2     2003-12-03  0.82713  0.82802  0.824400  0.82488    0.82488       0\n",
       "3     2003-12-04  0.82508  0.83029  0.823450  0.82775    0.82775       0\n",
       "4     2003-12-05  0.82795  0.82878  0.820280  0.82055    0.82055       0\n",
       "...          ...      ...      ...       ...      ...        ...     ...\n",
       "4220  2020-03-13  0.89417  0.90372  0.891160  0.89406    0.89406       0\n",
       "4221  2020-03-16  0.89609  0.90182  0.890044  0.89643    0.89643       0\n",
       "4222  2020-03-17  0.89579  0.91258  0.893730  0.89580    0.89580       0\n",
       "4223  2020-03-18  0.90770  0.92320  0.905387  0.90781    0.90781       0\n",
       "4224  2020-03-19  0.91379  0.93476  0.913610  0.91228    0.91228       0\n",
       "\n",
       "[4225 rows x 7 columns]"
      ]
     },
     "execution_count": 107,
     "metadata": {},
     "output_type": "execute_result"
    }
   ],
   "source": [
    "eur = pd.read_csv('data/USD_EURO.csv')\n",
    "eur"
   ]
  },
  {
   "cell_type": "code",
   "execution_count": 108,
   "id": "cb0a1300",
   "metadata": {},
   "outputs": [
    {
     "name": "stderr",
     "output_type": "stream",
     "text": [
      "C:\\Users\\rajma\\AppData\\Local\\Temp\\ipykernel_11208\\1053380841.py:2: SettingWithCopyWarning: \n",
      "A value is trying to be set on a copy of a slice from a DataFrame\n",
      "\n",
      "See the caveats in the documentation: https://pandas.pydata.org/pandas-docs/stable/user_guide/indexing.html#returning-a-view-versus-a-copy\n",
      "  eur_close.rename(columns = {'Close':'eur_close'}, inplace = True)\n"
     ]
    },
    {
     "data": {
      "text/html": [
       "<div>\n",
       "<style scoped>\n",
       "    .dataframe tbody tr th:only-of-type {\n",
       "        vertical-align: middle;\n",
       "    }\n",
       "\n",
       "    .dataframe tbody tr th {\n",
       "        vertical-align: top;\n",
       "    }\n",
       "\n",
       "    .dataframe thead th {\n",
       "        text-align: right;\n",
       "    }\n",
       "</style>\n",
       "<table border=\"1\" class=\"dataframe\">\n",
       "  <thead>\n",
       "    <tr style=\"text-align: right;\">\n",
       "      <th></th>\n",
       "      <th>Date</th>\n",
       "      <th>eur_close</th>\n",
       "    </tr>\n",
       "  </thead>\n",
       "  <tbody>\n",
       "    <tr>\n",
       "      <th>0</th>\n",
       "      <td>2003-12-01</td>\n",
       "      <td>0.83577</td>\n",
       "    </tr>\n",
       "    <tr>\n",
       "      <th>1</th>\n",
       "      <td>2003-12-02</td>\n",
       "      <td>0.82720</td>\n",
       "    </tr>\n",
       "    <tr>\n",
       "      <th>2</th>\n",
       "      <td>2003-12-03</td>\n",
       "      <td>0.82488</td>\n",
       "    </tr>\n",
       "    <tr>\n",
       "      <th>3</th>\n",
       "      <td>2003-12-04</td>\n",
       "      <td>0.82775</td>\n",
       "    </tr>\n",
       "    <tr>\n",
       "      <th>4</th>\n",
       "      <td>2003-12-05</td>\n",
       "      <td>0.82055</td>\n",
       "    </tr>\n",
       "    <tr>\n",
       "      <th>...</th>\n",
       "      <td>...</td>\n",
       "      <td>...</td>\n",
       "    </tr>\n",
       "    <tr>\n",
       "      <th>4220</th>\n",
       "      <td>2020-03-13</td>\n",
       "      <td>0.89406</td>\n",
       "    </tr>\n",
       "    <tr>\n",
       "      <th>4221</th>\n",
       "      <td>2020-03-16</td>\n",
       "      <td>0.89643</td>\n",
       "    </tr>\n",
       "    <tr>\n",
       "      <th>4222</th>\n",
       "      <td>2020-03-17</td>\n",
       "      <td>0.89580</td>\n",
       "    </tr>\n",
       "    <tr>\n",
       "      <th>4223</th>\n",
       "      <td>2020-03-18</td>\n",
       "      <td>0.90781</td>\n",
       "    </tr>\n",
       "    <tr>\n",
       "      <th>4224</th>\n",
       "      <td>2020-03-19</td>\n",
       "      <td>0.91228</td>\n",
       "    </tr>\n",
       "  </tbody>\n",
       "</table>\n",
       "<p>4225 rows × 2 columns</p>\n",
       "</div>"
      ],
      "text/plain": [
       "            Date  eur_close\n",
       "0     2003-12-01    0.83577\n",
       "1     2003-12-02    0.82720\n",
       "2     2003-12-03    0.82488\n",
       "3     2003-12-04    0.82775\n",
       "4     2003-12-05    0.82055\n",
       "...          ...        ...\n",
       "4220  2020-03-13    0.89406\n",
       "4221  2020-03-16    0.89643\n",
       "4222  2020-03-17    0.89580\n",
       "4223  2020-03-18    0.90781\n",
       "4224  2020-03-19    0.91228\n",
       "\n",
       "[4225 rows x 2 columns]"
      ]
     },
     "execution_count": 108,
     "metadata": {},
     "output_type": "execute_result"
    }
   ],
   "source": [
    "eur_close = eur[['Date','Close']] \n",
    "eur_close.rename(columns = {'Close':'eur_close'}, inplace = True)\n",
    "eur_close"
   ]
  },
  {
   "cell_type": "code",
   "execution_count": 109,
   "id": "2f3908b6",
   "metadata": {},
   "outputs": [
    {
     "name": "stderr",
     "output_type": "stream",
     "text": [
      "C:\\Users\\rajma\\AppData\\Local\\Temp\\ipykernel_11208\\3958437590.py:1: SettingWithCopyWarning: \n",
      "A value is trying to be set on a copy of a slice from a DataFrame.\n",
      "Try using .loc[row_indexer,col_indexer] = value instead\n",
      "\n",
      "See the caveats in the documentation: https://pandas.pydata.org/pandas-docs/stable/user_guide/indexing.html#returning-a-view-versus-a-copy\n",
      "  eur_close['Date'] = pd.to_datetime(eur_close['Date'])\n"
     ]
    }
   ],
   "source": [
    "eur_close['Date'] = pd.to_datetime(eur_close['Date'])"
   ]
  },
  {
   "cell_type": "code",
   "execution_count": 110,
   "id": "a33077ed",
   "metadata": {},
   "outputs": [
    {
     "name": "stdout",
     "output_type": "stream",
     "text": [
      "<class 'pandas.core.frame.DataFrame'>\n",
      "RangeIndex: 4225 entries, 0 to 4224\n",
      "Data columns (total 2 columns):\n",
      " #   Column     Non-Null Count  Dtype         \n",
      "---  ------     --------------  -----         \n",
      " 0   Date       4225 non-null   datetime64[ns]\n",
      " 1   eur_close  4225 non-null   float64       \n",
      "dtypes: datetime64[ns](1), float64(1)\n",
      "memory usage: 66.1 KB\n"
     ]
    }
   ],
   "source": [
    "eur_close.info()"
   ]
  },
  {
   "cell_type": "code",
   "execution_count": 111,
   "id": "95747f5c",
   "metadata": {},
   "outputs": [
    {
     "data": {
      "text/plain": [
       "Timestamp('2003-12-01 00:00:00')"
      ]
     },
     "execution_count": 111,
     "metadata": {},
     "output_type": "execute_result"
    }
   ],
   "source": [
    "eur_close.Date.min()"
   ]
  },
  {
   "cell_type": "code",
   "execution_count": 112,
   "id": "5e3b7457",
   "metadata": {},
   "outputs": [
    {
     "data": {
      "text/plain": [
       "Timestamp('2020-03-19 00:00:00')"
      ]
     },
     "execution_count": 112,
     "metadata": {},
     "output_type": "execute_result"
    }
   ],
   "source": [
    "eur_close.Date.max()"
   ]
  },
  {
   "cell_type": "code",
   "execution_count": 113,
   "id": "094865e0",
   "metadata": {},
   "outputs": [
    {
     "data": {
      "text/html": [
       "<div>\n",
       "<style scoped>\n",
       "    .dataframe tbody tr th:only-of-type {\n",
       "        vertical-align: middle;\n",
       "    }\n",
       "\n",
       "    .dataframe tbody tr th {\n",
       "        vertical-align: top;\n",
       "    }\n",
       "\n",
       "    .dataframe thead th {\n",
       "        text-align: right;\n",
       "    }\n",
       "</style>\n",
       "<table border=\"1\" class=\"dataframe\">\n",
       "  <thead>\n",
       "    <tr style=\"text-align: right;\">\n",
       "      <th></th>\n",
       "      <th>Date</th>\n",
       "      <th>eur_close</th>\n",
       "    </tr>\n",
       "  </thead>\n",
       "  <tbody>\n",
       "  </tbody>\n",
       "</table>\n",
       "</div>"
      ],
      "text/plain": [
       "Empty DataFrame\n",
       "Columns: [Date, eur_close]\n",
       "Index: []"
      ]
     },
     "execution_count": 113,
     "metadata": {},
     "output_type": "execute_result"
    }
   ],
   "source": [
    "eur_close[eur_close['eur_close'].isnull() == True]"
   ]
  },
  {
   "cell_type": "markdown",
   "id": "9552ffe4",
   "metadata": {},
   "source": [
    "## RUB"
   ]
  },
  {
   "cell_type": "code",
   "execution_count": 114,
   "id": "f8cb05e8",
   "metadata": {},
   "outputs": [
    {
     "data": {
      "text/html": [
       "<div>\n",
       "<style scoped>\n",
       "    .dataframe tbody tr th:only-of-type {\n",
       "        vertical-align: middle;\n",
       "    }\n",
       "\n",
       "    .dataframe tbody tr th {\n",
       "        vertical-align: top;\n",
       "    }\n",
       "\n",
       "    .dataframe thead th {\n",
       "        text-align: right;\n",
       "    }\n",
       "</style>\n",
       "<table border=\"1\" class=\"dataframe\">\n",
       "  <thead>\n",
       "    <tr style=\"text-align: right;\">\n",
       "      <th></th>\n",
       "      <th>Date</th>\n",
       "      <th>Open</th>\n",
       "      <th>High</th>\n",
       "      <th>Low</th>\n",
       "      <th>Close</th>\n",
       "      <th>Adj Close</th>\n",
       "      <th>Volume</th>\n",
       "    </tr>\n",
       "  </thead>\n",
       "  <tbody>\n",
       "    <tr>\n",
       "      <th>0</th>\n",
       "      <td>2003-12-01</td>\n",
       "      <td>29.730000</td>\n",
       "      <td>29.730000</td>\n",
       "      <td>29.690001</td>\n",
       "      <td>29.700001</td>\n",
       "      <td>29.700001</td>\n",
       "      <td>0</td>\n",
       "    </tr>\n",
       "    <tr>\n",
       "      <th>1</th>\n",
       "      <td>2003-12-02</td>\n",
       "      <td>29.690001</td>\n",
       "      <td>29.700001</td>\n",
       "      <td>29.690001</td>\n",
       "      <td>29.690001</td>\n",
       "      <td>29.690001</td>\n",
       "      <td>0</td>\n",
       "    </tr>\n",
       "    <tr>\n",
       "      <th>2</th>\n",
       "      <td>2003-12-03</td>\n",
       "      <td>29.690001</td>\n",
       "      <td>29.690001</td>\n",
       "      <td>29.690001</td>\n",
       "      <td>29.690001</td>\n",
       "      <td>29.690001</td>\n",
       "      <td>0</td>\n",
       "    </tr>\n",
       "    <tr>\n",
       "      <th>3</th>\n",
       "      <td>2003-12-04</td>\n",
       "      <td>29.680000</td>\n",
       "      <td>29.680000</td>\n",
       "      <td>29.680000</td>\n",
       "      <td>29.680000</td>\n",
       "      <td>29.680000</td>\n",
       "      <td>0</td>\n",
       "    </tr>\n",
       "    <tr>\n",
       "      <th>4</th>\n",
       "      <td>2003-12-05</td>\n",
       "      <td>29.629999</td>\n",
       "      <td>29.629999</td>\n",
       "      <td>29.629999</td>\n",
       "      <td>29.620001</td>\n",
       "      <td>29.620001</td>\n",
       "      <td>0</td>\n",
       "    </tr>\n",
       "    <tr>\n",
       "      <th>...</th>\n",
       "      <td>...</td>\n",
       "      <td>...</td>\n",
       "      <td>...</td>\n",
       "      <td>...</td>\n",
       "      <td>...</td>\n",
       "      <td>...</td>\n",
       "      <td>...</td>\n",
       "    </tr>\n",
       "    <tr>\n",
       "      <th>4111</th>\n",
       "      <td>2020-03-13</td>\n",
       "      <td>74.879700</td>\n",
       "      <td>74.882599</td>\n",
       "      <td>72.053001</td>\n",
       "      <td>74.898102</td>\n",
       "      <td>74.898102</td>\n",
       "      <td>0</td>\n",
       "    </tr>\n",
       "    <tr>\n",
       "      <th>4112</th>\n",
       "      <td>2020-03-16</td>\n",
       "      <td>73.204697</td>\n",
       "      <td>75.389000</td>\n",
       "      <td>72.833099</td>\n",
       "      <td>73.237999</td>\n",
       "      <td>73.237999</td>\n",
       "      <td>0</td>\n",
       "    </tr>\n",
       "    <tr>\n",
       "      <th>4113</th>\n",
       "      <td>2020-03-17</td>\n",
       "      <td>74.356300</td>\n",
       "      <td>75.205002</td>\n",
       "      <td>73.446999</td>\n",
       "      <td>74.356300</td>\n",
       "      <td>74.356300</td>\n",
       "      <td>0</td>\n",
       "    </tr>\n",
       "    <tr>\n",
       "      <th>4114</th>\n",
       "      <td>2020-03-18</td>\n",
       "      <td>75.147903</td>\n",
       "      <td>80.231003</td>\n",
       "      <td>75.102097</td>\n",
       "      <td>75.297501</td>\n",
       "      <td>75.297501</td>\n",
       "      <td>0</td>\n",
       "    </tr>\n",
       "    <tr>\n",
       "      <th>4115</th>\n",
       "      <td>2020-03-19</td>\n",
       "      <td>80.921303</td>\n",
       "      <td>82.073799</td>\n",
       "      <td>79.242996</td>\n",
       "      <td>80.919998</td>\n",
       "      <td>80.919998</td>\n",
       "      <td>0</td>\n",
       "    </tr>\n",
       "  </tbody>\n",
       "</table>\n",
       "<p>4116 rows × 7 columns</p>\n",
       "</div>"
      ],
      "text/plain": [
       "            Date       Open       High        Low      Close  Adj Close  \\\n",
       "0     2003-12-01  29.730000  29.730000  29.690001  29.700001  29.700001   \n",
       "1     2003-12-02  29.690001  29.700001  29.690001  29.690001  29.690001   \n",
       "2     2003-12-03  29.690001  29.690001  29.690001  29.690001  29.690001   \n",
       "3     2003-12-04  29.680000  29.680000  29.680000  29.680000  29.680000   \n",
       "4     2003-12-05  29.629999  29.629999  29.629999  29.620001  29.620001   \n",
       "...          ...        ...        ...        ...        ...        ...   \n",
       "4111  2020-03-13  74.879700  74.882599  72.053001  74.898102  74.898102   \n",
       "4112  2020-03-16  73.204697  75.389000  72.833099  73.237999  73.237999   \n",
       "4113  2020-03-17  74.356300  75.205002  73.446999  74.356300  74.356300   \n",
       "4114  2020-03-18  75.147903  80.231003  75.102097  75.297501  75.297501   \n",
       "4115  2020-03-19  80.921303  82.073799  79.242996  80.919998  80.919998   \n",
       "\n",
       "      Volume  \n",
       "0          0  \n",
       "1          0  \n",
       "2          0  \n",
       "3          0  \n",
       "4          0  \n",
       "...      ...  \n",
       "4111       0  \n",
       "4112       0  \n",
       "4113       0  \n",
       "4114       0  \n",
       "4115       0  \n",
       "\n",
       "[4116 rows x 7 columns]"
      ]
     },
     "execution_count": 114,
     "metadata": {},
     "output_type": "execute_result"
    }
   ],
   "source": [
    "rub = pd.read_csv('data/USD_RUB.csv')\n",
    "rub"
   ]
  },
  {
   "cell_type": "code",
   "execution_count": 115,
   "id": "9d7106fb",
   "metadata": {},
   "outputs": [
    {
     "name": "stderr",
     "output_type": "stream",
     "text": [
      "C:\\Users\\rajma\\AppData\\Local\\Temp\\ipykernel_11208\\27337608.py:2: SettingWithCopyWarning: \n",
      "A value is trying to be set on a copy of a slice from a DataFrame\n",
      "\n",
      "See the caveats in the documentation: https://pandas.pydata.org/pandas-docs/stable/user_guide/indexing.html#returning-a-view-versus-a-copy\n",
      "  rub_close.rename(columns = {'Close':'rub_close'}, inplace = True)\n"
     ]
    },
    {
     "data": {
      "text/html": [
       "<div>\n",
       "<style scoped>\n",
       "    .dataframe tbody tr th:only-of-type {\n",
       "        vertical-align: middle;\n",
       "    }\n",
       "\n",
       "    .dataframe tbody tr th {\n",
       "        vertical-align: top;\n",
       "    }\n",
       "\n",
       "    .dataframe thead th {\n",
       "        text-align: right;\n",
       "    }\n",
       "</style>\n",
       "<table border=\"1\" class=\"dataframe\">\n",
       "  <thead>\n",
       "    <tr style=\"text-align: right;\">\n",
       "      <th></th>\n",
       "      <th>Date</th>\n",
       "      <th>rub_close</th>\n",
       "    </tr>\n",
       "  </thead>\n",
       "  <tbody>\n",
       "    <tr>\n",
       "      <th>0</th>\n",
       "      <td>2003-12-01</td>\n",
       "      <td>29.700001</td>\n",
       "    </tr>\n",
       "    <tr>\n",
       "      <th>1</th>\n",
       "      <td>2003-12-02</td>\n",
       "      <td>29.690001</td>\n",
       "    </tr>\n",
       "    <tr>\n",
       "      <th>2</th>\n",
       "      <td>2003-12-03</td>\n",
       "      <td>29.690001</td>\n",
       "    </tr>\n",
       "    <tr>\n",
       "      <th>3</th>\n",
       "      <td>2003-12-04</td>\n",
       "      <td>29.680000</td>\n",
       "    </tr>\n",
       "    <tr>\n",
       "      <th>4</th>\n",
       "      <td>2003-12-05</td>\n",
       "      <td>29.620001</td>\n",
       "    </tr>\n",
       "    <tr>\n",
       "      <th>...</th>\n",
       "      <td>...</td>\n",
       "      <td>...</td>\n",
       "    </tr>\n",
       "    <tr>\n",
       "      <th>4111</th>\n",
       "      <td>2020-03-13</td>\n",
       "      <td>74.898102</td>\n",
       "    </tr>\n",
       "    <tr>\n",
       "      <th>4112</th>\n",
       "      <td>2020-03-16</td>\n",
       "      <td>73.237999</td>\n",
       "    </tr>\n",
       "    <tr>\n",
       "      <th>4113</th>\n",
       "      <td>2020-03-17</td>\n",
       "      <td>74.356300</td>\n",
       "    </tr>\n",
       "    <tr>\n",
       "      <th>4114</th>\n",
       "      <td>2020-03-18</td>\n",
       "      <td>75.297501</td>\n",
       "    </tr>\n",
       "    <tr>\n",
       "      <th>4115</th>\n",
       "      <td>2020-03-19</td>\n",
       "      <td>80.919998</td>\n",
       "    </tr>\n",
       "  </tbody>\n",
       "</table>\n",
       "<p>4116 rows × 2 columns</p>\n",
       "</div>"
      ],
      "text/plain": [
       "            Date  rub_close\n",
       "0     2003-12-01  29.700001\n",
       "1     2003-12-02  29.690001\n",
       "2     2003-12-03  29.690001\n",
       "3     2003-12-04  29.680000\n",
       "4     2003-12-05  29.620001\n",
       "...          ...        ...\n",
       "4111  2020-03-13  74.898102\n",
       "4112  2020-03-16  73.237999\n",
       "4113  2020-03-17  74.356300\n",
       "4114  2020-03-18  75.297501\n",
       "4115  2020-03-19  80.919998\n",
       "\n",
       "[4116 rows x 2 columns]"
      ]
     },
     "execution_count": 115,
     "metadata": {},
     "output_type": "execute_result"
    }
   ],
   "source": [
    "rub_close = rub[['Date','Close']]\n",
    "rub_close.rename(columns = {'Close':'rub_close'}, inplace = True)\n",
    "rub_close"
   ]
  },
  {
   "cell_type": "code",
   "execution_count": 116,
   "id": "8bb2c1c5",
   "metadata": {},
   "outputs": [
    {
     "name": "stderr",
     "output_type": "stream",
     "text": [
      "C:\\Users\\rajma\\AppData\\Local\\Temp\\ipykernel_11208\\2770490134.py:1: SettingWithCopyWarning: \n",
      "A value is trying to be set on a copy of a slice from a DataFrame.\n",
      "Try using .loc[row_indexer,col_indexer] = value instead\n",
      "\n",
      "See the caveats in the documentation: https://pandas.pydata.org/pandas-docs/stable/user_guide/indexing.html#returning-a-view-versus-a-copy\n",
      "  rub_close['Date'] = pd.to_datetime(rub_close['Date'])\n"
     ]
    }
   ],
   "source": [
    "rub_close['Date'] = pd.to_datetime(rub_close['Date'])"
   ]
  },
  {
   "cell_type": "code",
   "execution_count": 117,
   "id": "422aa43a",
   "metadata": {},
   "outputs": [
    {
     "name": "stdout",
     "output_type": "stream",
     "text": [
      "<class 'pandas.core.frame.DataFrame'>\n",
      "RangeIndex: 4116 entries, 0 to 4115\n",
      "Data columns (total 2 columns):\n",
      " #   Column     Non-Null Count  Dtype         \n",
      "---  ------     --------------  -----         \n",
      " 0   Date       4116 non-null   datetime64[ns]\n",
      " 1   rub_close  4116 non-null   float64       \n",
      "dtypes: datetime64[ns](1), float64(1)\n",
      "memory usage: 64.4 KB\n"
     ]
    }
   ],
   "source": [
    "rub_close.info()"
   ]
  },
  {
   "cell_type": "code",
   "execution_count": 118,
   "id": "941ee060",
   "metadata": {},
   "outputs": [
    {
     "data": {
      "text/plain": [
       "Timestamp('2003-12-01 00:00:00')"
      ]
     },
     "execution_count": 118,
     "metadata": {},
     "output_type": "execute_result"
    }
   ],
   "source": [
    "rub_close.Date.min()"
   ]
  },
  {
   "cell_type": "code",
   "execution_count": 119,
   "id": "e20a4160",
   "metadata": {},
   "outputs": [
    {
     "data": {
      "text/plain": [
       "Timestamp('2020-03-19 00:00:00')"
      ]
     },
     "execution_count": 119,
     "metadata": {},
     "output_type": "execute_result"
    }
   ],
   "source": [
    "rub_close.Date.max()"
   ]
  },
  {
   "cell_type": "code",
   "execution_count": 120,
   "id": "2d8eb80a",
   "metadata": {},
   "outputs": [
    {
     "data": {
      "text/html": [
       "<div>\n",
       "<style scoped>\n",
       "    .dataframe tbody tr th:only-of-type {\n",
       "        vertical-align: middle;\n",
       "    }\n",
       "\n",
       "    .dataframe tbody tr th {\n",
       "        vertical-align: top;\n",
       "    }\n",
       "\n",
       "    .dataframe thead th {\n",
       "        text-align: right;\n",
       "    }\n",
       "</style>\n",
       "<table border=\"1\" class=\"dataframe\">\n",
       "  <thead>\n",
       "    <tr style=\"text-align: right;\">\n",
       "      <th></th>\n",
       "      <th>Date</th>\n",
       "      <th>rub_close</th>\n",
       "    </tr>\n",
       "  </thead>\n",
       "  <tbody>\n",
       "  </tbody>\n",
       "</table>\n",
       "</div>"
      ],
      "text/plain": [
       "Empty DataFrame\n",
       "Columns: [Date, rub_close]\n",
       "Index: []"
      ]
     },
     "execution_count": 120,
     "metadata": {},
     "output_type": "execute_result"
    }
   ],
   "source": [
    "rub_close[rub_close['rub_close'].isnull() == True]"
   ]
  },
  {
   "cell_type": "markdown",
   "id": "e54bc8cd",
   "metadata": {},
   "source": [
    "## brent_oil_future.csv"
   ]
  },
  {
   "cell_type": "code",
   "execution_count": 121,
   "id": "96961b9c",
   "metadata": {},
   "outputs": [
    {
     "data": {
      "text/html": [
       "<div>\n",
       "<style scoped>\n",
       "    .dataframe tbody tr th:only-of-type {\n",
       "        vertical-align: middle;\n",
       "    }\n",
       "\n",
       "    .dataframe tbody tr th {\n",
       "        vertical-align: top;\n",
       "    }\n",
       "\n",
       "    .dataframe thead th {\n",
       "        text-align: right;\n",
       "    }\n",
       "</style>\n",
       "<table border=\"1\" class=\"dataframe\">\n",
       "  <thead>\n",
       "    <tr style=\"text-align: right;\">\n",
       "      <th></th>\n",
       "      <th>Date</th>\n",
       "      <th>Open</th>\n",
       "      <th>High</th>\n",
       "      <th>Low</th>\n",
       "      <th>Close</th>\n",
       "      <th>Adj Close</th>\n",
       "      <th>Volume</th>\n",
       "    </tr>\n",
       "  </thead>\n",
       "  <tbody>\n",
       "    <tr>\n",
       "      <th>0</th>\n",
       "      <td>2007-07-30</td>\n",
       "      <td>75.849998</td>\n",
       "      <td>76.529999</td>\n",
       "      <td>75.440002</td>\n",
       "      <td>75.739998</td>\n",
       "      <td>75.739998</td>\n",
       "      <td>2575</td>\n",
       "    </tr>\n",
       "    <tr>\n",
       "      <th>1</th>\n",
       "      <td>2007-07-31</td>\n",
       "      <td>75.699997</td>\n",
       "      <td>77.169998</td>\n",
       "      <td>75.669998</td>\n",
       "      <td>77.050003</td>\n",
       "      <td>77.050003</td>\n",
       "      <td>3513</td>\n",
       "    </tr>\n",
       "    <tr>\n",
       "      <th>2</th>\n",
       "      <td>2007-08-01</td>\n",
       "      <td>77.000000</td>\n",
       "      <td>77.059998</td>\n",
       "      <td>74.860001</td>\n",
       "      <td>75.349998</td>\n",
       "      <td>75.349998</td>\n",
       "      <td>3930</td>\n",
       "    </tr>\n",
       "    <tr>\n",
       "      <th>3</th>\n",
       "      <td>2007-08-02</td>\n",
       "      <td>75.220001</td>\n",
       "      <td>76.209999</td>\n",
       "      <td>74.269997</td>\n",
       "      <td>75.760002</td>\n",
       "      <td>75.760002</td>\n",
       "      <td>6180</td>\n",
       "    </tr>\n",
       "    <tr>\n",
       "      <th>4</th>\n",
       "      <td>2007-08-03</td>\n",
       "      <td>75.389999</td>\n",
       "      <td>76.000000</td>\n",
       "      <td>74.529999</td>\n",
       "      <td>74.750000</td>\n",
       "      <td>74.750000</td>\n",
       "      <td>4387</td>\n",
       "    </tr>\n",
       "    <tr>\n",
       "      <th>...</th>\n",
       "      <td>...</td>\n",
       "      <td>...</td>\n",
       "      <td>...</td>\n",
       "      <td>...</td>\n",
       "      <td>...</td>\n",
       "      <td>...</td>\n",
       "      <td>...</td>\n",
       "    </tr>\n",
       "    <tr>\n",
       "      <th>3121</th>\n",
       "      <td>2020-03-13</td>\n",
       "      <td>32.860001</td>\n",
       "      <td>35.990002</td>\n",
       "      <td>32.169998</td>\n",
       "      <td>33.849998</td>\n",
       "      <td>33.849998</td>\n",
       "      <td>50707</td>\n",
       "    </tr>\n",
       "    <tr>\n",
       "      <th>3122</th>\n",
       "      <td>2020-03-16</td>\n",
       "      <td>34.459999</td>\n",
       "      <td>34.549999</td>\n",
       "      <td>29.340000</td>\n",
       "      <td>30.049999</td>\n",
       "      <td>30.049999</td>\n",
       "      <td>43527</td>\n",
       "    </tr>\n",
       "    <tr>\n",
       "      <th>3123</th>\n",
       "      <td>2020-03-17</td>\n",
       "      <td>29.700001</td>\n",
       "      <td>31.219999</td>\n",
       "      <td>28.459999</td>\n",
       "      <td>28.730000</td>\n",
       "      <td>28.730000</td>\n",
       "      <td>32969</td>\n",
       "    </tr>\n",
       "    <tr>\n",
       "      <th>3124</th>\n",
       "      <td>2020-03-18</td>\n",
       "      <td>28.660000</td>\n",
       "      <td>29.190001</td>\n",
       "      <td>24.510000</td>\n",
       "      <td>24.879999</td>\n",
       "      <td>24.879999</td>\n",
       "      <td>47500</td>\n",
       "    </tr>\n",
       "    <tr>\n",
       "      <th>3125</th>\n",
       "      <td>2020-03-19</td>\n",
       "      <td>26.440001</td>\n",
       "      <td>29.379999</td>\n",
       "      <td>24.980000</td>\n",
       "      <td>28.469999</td>\n",
       "      <td>28.469999</td>\n",
       "      <td>41724</td>\n",
       "    </tr>\n",
       "  </tbody>\n",
       "</table>\n",
       "<p>3126 rows × 7 columns</p>\n",
       "</div>"
      ],
      "text/plain": [
       "            Date       Open       High        Low      Close  Adj Close  \\\n",
       "0     2007-07-30  75.849998  76.529999  75.440002  75.739998  75.739998   \n",
       "1     2007-07-31  75.699997  77.169998  75.669998  77.050003  77.050003   \n",
       "2     2007-08-01  77.000000  77.059998  74.860001  75.349998  75.349998   \n",
       "3     2007-08-02  75.220001  76.209999  74.269997  75.760002  75.760002   \n",
       "4     2007-08-03  75.389999  76.000000  74.529999  74.750000  74.750000   \n",
       "...          ...        ...        ...        ...        ...        ...   \n",
       "3121  2020-03-13  32.860001  35.990002  32.169998  33.849998  33.849998   \n",
       "3122  2020-03-16  34.459999  34.549999  29.340000  30.049999  30.049999   \n",
       "3123  2020-03-17  29.700001  31.219999  28.459999  28.730000  28.730000   \n",
       "3124  2020-03-18  28.660000  29.190001  24.510000  24.879999  24.879999   \n",
       "3125  2020-03-19  26.440001  29.379999  24.980000  28.469999  28.469999   \n",
       "\n",
       "      Volume  \n",
       "0       2575  \n",
       "1       3513  \n",
       "2       3930  \n",
       "3       6180  \n",
       "4       4387  \n",
       "...      ...  \n",
       "3121   50707  \n",
       "3122   43527  \n",
       "3123   32969  \n",
       "3124   47500  \n",
       "3125   41724  \n",
       "\n",
       "[3126 rows x 7 columns]"
      ]
     },
     "execution_count": 121,
     "metadata": {},
     "output_type": "execute_result"
    }
   ],
   "source": [
    "brent = pd.read_csv('data/brent_oil_future.csv')\n",
    "brent"
   ]
  },
  {
   "cell_type": "code",
   "execution_count": 122,
   "id": "b7fcf7e3",
   "metadata": {},
   "outputs": [
    {
     "name": "stderr",
     "output_type": "stream",
     "text": [
      "C:\\Users\\rajma\\AppData\\Local\\Temp\\ipykernel_11208\\2296026202.py:2: SettingWithCopyWarning: \n",
      "A value is trying to be set on a copy of a slice from a DataFrame\n",
      "\n",
      "See the caveats in the documentation: https://pandas.pydata.org/pandas-docs/stable/user_guide/indexing.html#returning-a-view-versus-a-copy\n",
      "  brent_close.rename(columns = {'Close':'brent_oil_future'}, inplace = True)\n"
     ]
    },
    {
     "data": {
      "text/html": [
       "<div>\n",
       "<style scoped>\n",
       "    .dataframe tbody tr th:only-of-type {\n",
       "        vertical-align: middle;\n",
       "    }\n",
       "\n",
       "    .dataframe tbody tr th {\n",
       "        vertical-align: top;\n",
       "    }\n",
       "\n",
       "    .dataframe thead th {\n",
       "        text-align: right;\n",
       "    }\n",
       "</style>\n",
       "<table border=\"1\" class=\"dataframe\">\n",
       "  <thead>\n",
       "    <tr style=\"text-align: right;\">\n",
       "      <th></th>\n",
       "      <th>Date</th>\n",
       "      <th>brent_oil_future</th>\n",
       "    </tr>\n",
       "  </thead>\n",
       "  <tbody>\n",
       "    <tr>\n",
       "      <th>0</th>\n",
       "      <td>2007-07-30</td>\n",
       "      <td>75.739998</td>\n",
       "    </tr>\n",
       "    <tr>\n",
       "      <th>1</th>\n",
       "      <td>2007-07-31</td>\n",
       "      <td>77.050003</td>\n",
       "    </tr>\n",
       "    <tr>\n",
       "      <th>2</th>\n",
       "      <td>2007-08-01</td>\n",
       "      <td>75.349998</td>\n",
       "    </tr>\n",
       "    <tr>\n",
       "      <th>3</th>\n",
       "      <td>2007-08-02</td>\n",
       "      <td>75.760002</td>\n",
       "    </tr>\n",
       "    <tr>\n",
       "      <th>4</th>\n",
       "      <td>2007-08-03</td>\n",
       "      <td>74.750000</td>\n",
       "    </tr>\n",
       "    <tr>\n",
       "      <th>...</th>\n",
       "      <td>...</td>\n",
       "      <td>...</td>\n",
       "    </tr>\n",
       "    <tr>\n",
       "      <th>3121</th>\n",
       "      <td>2020-03-13</td>\n",
       "      <td>33.849998</td>\n",
       "    </tr>\n",
       "    <tr>\n",
       "      <th>3122</th>\n",
       "      <td>2020-03-16</td>\n",
       "      <td>30.049999</td>\n",
       "    </tr>\n",
       "    <tr>\n",
       "      <th>3123</th>\n",
       "      <td>2020-03-17</td>\n",
       "      <td>28.730000</td>\n",
       "    </tr>\n",
       "    <tr>\n",
       "      <th>3124</th>\n",
       "      <td>2020-03-18</td>\n",
       "      <td>24.879999</td>\n",
       "    </tr>\n",
       "    <tr>\n",
       "      <th>3125</th>\n",
       "      <td>2020-03-19</td>\n",
       "      <td>28.469999</td>\n",
       "    </tr>\n",
       "  </tbody>\n",
       "</table>\n",
       "<p>3126 rows × 2 columns</p>\n",
       "</div>"
      ],
      "text/plain": [
       "            Date  brent_oil_future\n",
       "0     2007-07-30         75.739998\n",
       "1     2007-07-31         77.050003\n",
       "2     2007-08-01         75.349998\n",
       "3     2007-08-02         75.760002\n",
       "4     2007-08-03         74.750000\n",
       "...          ...               ...\n",
       "3121  2020-03-13         33.849998\n",
       "3122  2020-03-16         30.049999\n",
       "3123  2020-03-17         28.730000\n",
       "3124  2020-03-18         24.879999\n",
       "3125  2020-03-19         28.469999\n",
       "\n",
       "[3126 rows x 2 columns]"
      ]
     },
     "execution_count": 122,
     "metadata": {},
     "output_type": "execute_result"
    }
   ],
   "source": [
    "brent_close = brent[['Date','Close']]\n",
    "brent_close.rename(columns = {'Close':'brent_oil_future'}, inplace = True)\n",
    "brent_close"
   ]
  },
  {
   "cell_type": "code",
   "execution_count": 123,
   "id": "26fa4295",
   "metadata": {},
   "outputs": [
    {
     "name": "stderr",
     "output_type": "stream",
     "text": [
      "C:\\Users\\rajma\\AppData\\Local\\Temp\\ipykernel_11208\\154349038.py:1: SettingWithCopyWarning: \n",
      "A value is trying to be set on a copy of a slice from a DataFrame.\n",
      "Try using .loc[row_indexer,col_indexer] = value instead\n",
      "\n",
      "See the caveats in the documentation: https://pandas.pydata.org/pandas-docs/stable/user_guide/indexing.html#returning-a-view-versus-a-copy\n",
      "  brent_close['Date'] = pd.to_datetime(brent_close['Date'])\n"
     ]
    }
   ],
   "source": [
    "brent_close['Date'] = pd.to_datetime(brent_close['Date'])"
   ]
  },
  {
   "cell_type": "code",
   "execution_count": 124,
   "id": "95838c3b",
   "metadata": {},
   "outputs": [
    {
     "name": "stdout",
     "output_type": "stream",
     "text": [
      "<class 'pandas.core.frame.DataFrame'>\n",
      "RangeIndex: 3126 entries, 0 to 3125\n",
      "Data columns (total 2 columns):\n",
      " #   Column            Non-Null Count  Dtype         \n",
      "---  ------            --------------  -----         \n",
      " 0   Date              3126 non-null   datetime64[ns]\n",
      " 1   brent_oil_future  3126 non-null   float64       \n",
      "dtypes: datetime64[ns](1), float64(1)\n",
      "memory usage: 49.0 KB\n"
     ]
    }
   ],
   "source": [
    "brent_close.info()"
   ]
  },
  {
   "cell_type": "code",
   "execution_count": 125,
   "id": "513cd4fa",
   "metadata": {},
   "outputs": [
    {
     "data": {
      "text/plain": [
       "Timestamp('2007-07-30 00:00:00')"
      ]
     },
     "execution_count": 125,
     "metadata": {},
     "output_type": "execute_result"
    }
   ],
   "source": [
    "brent_close.Date.min()"
   ]
  },
  {
   "cell_type": "code",
   "execution_count": 126,
   "id": "259a282a",
   "metadata": {},
   "outputs": [
    {
     "data": {
      "text/plain": [
       "Timestamp('2020-03-19 00:00:00')"
      ]
     },
     "execution_count": 126,
     "metadata": {},
     "output_type": "execute_result"
    }
   ],
   "source": [
    "brent_close.Date.max()"
   ]
  },
  {
   "cell_type": "code",
   "execution_count": null,
   "id": "e55e938f-798e-4b3a-8f75-c093094c72eb",
   "metadata": {},
   "outputs": [],
   "source": []
  },
  {
   "cell_type": "code",
   "execution_count": 129,
   "id": "6de30f7b",
   "metadata": {},
   "outputs": [
    {
     "data": {
      "text/html": [
       "<div>\n",
       "<style scoped>\n",
       "    .dataframe tbody tr th:only-of-type {\n",
       "        vertical-align: middle;\n",
       "    }\n",
       "\n",
       "    .dataframe tbody tr th {\n",
       "        vertical-align: top;\n",
       "    }\n",
       "\n",
       "    .dataframe thead th {\n",
       "        text-align: right;\n",
       "    }\n",
       "</style>\n",
       "<table border=\"1\" class=\"dataframe\">\n",
       "  <thead>\n",
       "    <tr style=\"text-align: right;\">\n",
       "      <th></th>\n",
       "      <th>Date</th>\n",
       "      <th>brent_oil_future</th>\n",
       "    </tr>\n",
       "  </thead>\n",
       "  <tbody>\n",
       "  </tbody>\n",
       "</table>\n",
       "</div>"
      ],
      "text/plain": [
       "Empty DataFrame\n",
       "Columns: [Date, brent_oil_future]\n",
       "Index: []"
      ]
     },
     "execution_count": 129,
     "metadata": {},
     "output_type": "execute_result"
    }
   ],
   "source": [
    "brent_close[brent_close['brent_oil_future'].isnull() == True]"
   ]
  },
  {
   "cell_type": "code",
   "execution_count": 130,
   "id": "3e17012f-3f32-4303-8d93-3eea7a4aebda",
   "metadata": {},
   "outputs": [
    {
     "data": {
      "text/html": [
       "<div>\n",
       "<style scoped>\n",
       "    .dataframe tbody tr th:only-of-type {\n",
       "        vertical-align: middle;\n",
       "    }\n",
       "\n",
       "    .dataframe tbody tr th {\n",
       "        vertical-align: top;\n",
       "    }\n",
       "\n",
       "    .dataframe thead th {\n",
       "        text-align: right;\n",
       "    }\n",
       "</style>\n",
       "<table border=\"1\" class=\"dataframe\">\n",
       "  <thead>\n",
       "    <tr style=\"text-align: right;\">\n",
       "      <th></th>\n",
       "      <th>Date</th>\n",
       "      <th>brent_oil_future</th>\n",
       "    </tr>\n",
       "  </thead>\n",
       "  <tbody>\n",
       "    <tr>\n",
       "      <th>0</th>\n",
       "      <td>2007-07-30</td>\n",
       "      <td>75.739998</td>\n",
       "    </tr>\n",
       "    <tr>\n",
       "      <th>1</th>\n",
       "      <td>2007-07-31</td>\n",
       "      <td>77.050003</td>\n",
       "    </tr>\n",
       "    <tr>\n",
       "      <th>2</th>\n",
       "      <td>2007-08-01</td>\n",
       "      <td>75.349998</td>\n",
       "    </tr>\n",
       "    <tr>\n",
       "      <th>3</th>\n",
       "      <td>2007-08-02</td>\n",
       "      <td>75.760002</td>\n",
       "    </tr>\n",
       "    <tr>\n",
       "      <th>4</th>\n",
       "      <td>2007-08-03</td>\n",
       "      <td>74.750000</td>\n",
       "    </tr>\n",
       "    <tr>\n",
       "      <th>...</th>\n",
       "      <td>...</td>\n",
       "      <td>...</td>\n",
       "    </tr>\n",
       "    <tr>\n",
       "      <th>3121</th>\n",
       "      <td>2020-03-13</td>\n",
       "      <td>33.849998</td>\n",
       "    </tr>\n",
       "    <tr>\n",
       "      <th>3122</th>\n",
       "      <td>2020-03-16</td>\n",
       "      <td>30.049999</td>\n",
       "    </tr>\n",
       "    <tr>\n",
       "      <th>3123</th>\n",
       "      <td>2020-03-17</td>\n",
       "      <td>28.730000</td>\n",
       "    </tr>\n",
       "    <tr>\n",
       "      <th>3124</th>\n",
       "      <td>2020-03-18</td>\n",
       "      <td>24.879999</td>\n",
       "    </tr>\n",
       "    <tr>\n",
       "      <th>3125</th>\n",
       "      <td>2020-03-19</td>\n",
       "      <td>28.469999</td>\n",
       "    </tr>\n",
       "  </tbody>\n",
       "</table>\n",
       "<p>3126 rows × 2 columns</p>\n",
       "</div>"
      ],
      "text/plain": [
       "           Date  brent_oil_future\n",
       "0    2007-07-30         75.739998\n",
       "1    2007-07-31         77.050003\n",
       "2    2007-08-01         75.349998\n",
       "3    2007-08-02         75.760002\n",
       "4    2007-08-03         74.750000\n",
       "...         ...               ...\n",
       "3121 2020-03-13         33.849998\n",
       "3122 2020-03-16         30.049999\n",
       "3123 2020-03-17         28.730000\n",
       "3124 2020-03-18         24.879999\n",
       "3125 2020-03-19         28.469999\n",
       "\n",
       "[3126 rows x 2 columns]"
      ]
     },
     "execution_count": 130,
     "metadata": {},
     "output_type": "execute_result"
    }
   ],
   "source": [
    "brent_close"
   ]
  },
  {
   "cell_type": "code",
   "execution_count": null,
   "id": "34c09a98-6ec6-4b02-81bc-c9b613685e71",
   "metadata": {},
   "outputs": [],
   "source": []
  },
  {
   "cell_type": "code",
   "execution_count": null,
   "id": "8b6b2ca8-f552-438e-8b7b-ce5abbb19c78",
   "metadata": {},
   "outputs": [],
   "source": []
  },
  {
   "cell_type": "code",
   "execution_count": 128,
   "id": "a85dd7b4",
   "metadata": {},
   "outputs": [],
   "source": [
    "# wti_close.rename(columns = {'Day':'Date'}, inplace = True)\n",
    "\n",
    "# cop_close = cop[['Date','Close']]\n",
    "# cop_close\n",
    "\n",
    "# cop_close['Date'] = pd.to_datetime(cop_close['Date'])\n",
    "\n",
    "# dji_close.Date.min()"
   ]
  },
  {
   "cell_type": "markdown",
   "id": "b5ffd9f4",
   "metadata": {},
   "source": [
    "# Merging all dataframes"
   ]
  },
  {
   "cell_type": "code",
   "execution_count": 140,
   "id": "adcc24ab",
   "metadata": {},
   "outputs": [],
   "source": [
    "df_list = [wti_close,cop_close,dji_close, fed, gold_close, hen, nas_close, sp_close, sil_close, eur_close,rub_close]"
   ]
  },
  {
   "cell_type": "markdown",
   "id": "f0785b23",
   "metadata": {},
   "source": [
    "### Merging only those dataframes that have daily values, so removing FEDFUNDS"
   ]
  },
  {
   "cell_type": "code",
   "execution_count": 153,
   "id": "895fc258",
   "metadata": {},
   "outputs": [
    {
     "data": {
      "text/html": [
       "<div>\n",
       "<style scoped>\n",
       "    .dataframe tbody tr th:only-of-type {\n",
       "        vertical-align: middle;\n",
       "    }\n",
       "\n",
       "    .dataframe tbody tr th {\n",
       "        vertical-align: top;\n",
       "    }\n",
       "\n",
       "    .dataframe thead th {\n",
       "        text-align: right;\n",
       "    }\n",
       "</style>\n",
       "<table border=\"1\" class=\"dataframe\">\n",
       "  <thead>\n",
       "    <tr style=\"text-align: right;\">\n",
       "      <th></th>\n",
       "      <th>WTI_dollar_per_barrel</th>\n",
       "      <th>copper_close</th>\n",
       "      <th>dji_index</th>\n",
       "      <th>gold_close</th>\n",
       "      <th>eur_close</th>\n",
       "      <th>Henry Hub Natural Gas Spot Price Dollars per Million Btu</th>\n",
       "      <th>rub_close</th>\n",
       "      <th>silver_close</th>\n",
       "      <th>nasdaq_close</th>\n",
       "      <th>SP500</th>\n",
       "      <th>heat_close</th>\n",
       "      <th>wheat_close</th>\n",
       "    </tr>\n",
       "    <tr>\n",
       "      <th>Date</th>\n",
       "      <th></th>\n",
       "      <th></th>\n",
       "      <th></th>\n",
       "      <th></th>\n",
       "      <th></th>\n",
       "      <th></th>\n",
       "      <th></th>\n",
       "      <th></th>\n",
       "      <th></th>\n",
       "      <th></th>\n",
       "      <th></th>\n",
       "      <th></th>\n",
       "    </tr>\n",
       "  </thead>\n",
       "  <tbody>\n",
       "    <tr>\n",
       "      <th>2020-03-19</th>\n",
       "      <td>25.09</td>\n",
       "      <td>2.2000</td>\n",
       "      <td>20087.199219</td>\n",
       "      <td>1478.599976</td>\n",
       "      <td>0.91228</td>\n",
       "      <td>1.68</td>\n",
       "      <td>80.919998</td>\n",
       "      <td>12.097</td>\n",
       "      <td>7150.580078</td>\n",
       "      <td>2409.389893</td>\n",
       "      <td>1.0417</td>\n",
       "      <td>535.00</td>\n",
       "    </tr>\n",
       "    <tr>\n",
       "      <th>2020-03-18</th>\n",
       "      <td>20.48</td>\n",
       "      <td>2.1605</td>\n",
       "      <td>19898.900391</td>\n",
       "      <td>1477.300049</td>\n",
       "      <td>0.90781</td>\n",
       "      <td>1.73</td>\n",
       "      <td>75.297501</td>\n",
       "      <td>11.735</td>\n",
       "      <td>6989.839844</td>\n",
       "      <td>2398.100098</td>\n",
       "      <td>0.9542</td>\n",
       "      <td>508.25</td>\n",
       "    </tr>\n",
       "    <tr>\n",
       "      <th>2020-03-17</th>\n",
       "      <td>26.96</td>\n",
       "      <td>2.3155</td>\n",
       "      <td>21237.400391</td>\n",
       "      <td>1524.900024</td>\n",
       "      <td>0.89580</td>\n",
       "      <td>1.89</td>\n",
       "      <td>74.356300</td>\n",
       "      <td>12.469</td>\n",
       "      <td>7334.779785</td>\n",
       "      <td>2529.189941</td>\n",
       "      <td>1.0357</td>\n",
       "      <td>499.25</td>\n",
       "    </tr>\n",
       "    <tr>\n",
       "      <th>2020-03-16</th>\n",
       "      <td>28.96</td>\n",
       "      <td>2.3985</td>\n",
       "      <td>20188.500000</td>\n",
       "      <td>1485.900024</td>\n",
       "      <td>0.89643</td>\n",
       "      <td>1.89</td>\n",
       "      <td>73.237999</td>\n",
       "      <td>12.772</td>\n",
       "      <td>6904.589844</td>\n",
       "      <td>2386.129883</td>\n",
       "      <td>1.0466</td>\n",
       "      <td>498.00</td>\n",
       "    </tr>\n",
       "    <tr>\n",
       "      <th>2020-03-13</th>\n",
       "      <td>31.72</td>\n",
       "      <td>2.4740</td>\n",
       "      <td>23185.599609</td>\n",
       "      <td>1515.699951</td>\n",
       "      <td>0.89406</td>\n",
       "      <td>1.94</td>\n",
       "      <td>74.898102</td>\n",
       "      <td>14.456</td>\n",
       "      <td>7874.879883</td>\n",
       "      <td>2711.020020</td>\n",
       "      <td>1.1374</td>\n",
       "      <td>514.75</td>\n",
       "    </tr>\n",
       "    <tr>\n",
       "      <th>...</th>\n",
       "      <td>...</td>\n",
       "      <td>...</td>\n",
       "      <td>...</td>\n",
       "      <td>...</td>\n",
       "      <td>...</td>\n",
       "      <td>...</td>\n",
       "      <td>...</td>\n",
       "      <td>...</td>\n",
       "      <td>...</td>\n",
       "      <td>...</td>\n",
       "      <td>...</td>\n",
       "      <td>...</td>\n",
       "    </tr>\n",
       "    <tr>\n",
       "      <th>2004-01-07</th>\n",
       "      <td>33.57</td>\n",
       "      <td>1.0625</td>\n",
       "      <td>10529.000000</td>\n",
       "      <td>421.899994</td>\n",
       "      <td>0.79108</td>\n",
       "      <td>6.61</td>\n",
       "      <td>29.240000</td>\n",
       "      <td>6.251</td>\n",
       "      <td>2077.679932</td>\n",
       "      <td>1126.329956</td>\n",
       "      <td>0.9661</td>\n",
       "      <td>395.50</td>\n",
       "    </tr>\n",
       "    <tr>\n",
       "      <th>2004-01-06</th>\n",
       "      <td>33.54</td>\n",
       "      <td>1.0670</td>\n",
       "      <td>10538.700195</td>\n",
       "      <td>422.799988</td>\n",
       "      <td>0.78610</td>\n",
       "      <td>7.04</td>\n",
       "      <td>29.250000</td>\n",
       "      <td>6.316</td>\n",
       "      <td>2057.370117</td>\n",
       "      <td>1123.670044</td>\n",
       "      <td>0.9774</td>\n",
       "      <td>394.50</td>\n",
       "    </tr>\n",
       "    <tr>\n",
       "      <th>2004-01-05</th>\n",
       "      <td>33.71</td>\n",
       "      <td>1.0830</td>\n",
       "      <td>10544.099609</td>\n",
       "      <td>424.399994</td>\n",
       "      <td>0.78821</td>\n",
       "      <td>6.28</td>\n",
       "      <td>29.230000</td>\n",
       "      <td>6.233</td>\n",
       "      <td>2047.359985</td>\n",
       "      <td>1122.219971</td>\n",
       "      <td>0.9684</td>\n",
       "      <td>398.50</td>\n",
       "    </tr>\n",
       "    <tr>\n",
       "      <th>2003-12-31</th>\n",
       "      <td>32.51</td>\n",
       "      <td>1.0430</td>\n",
       "      <td>10453.900391</td>\n",
       "      <td>415.700012</td>\n",
       "      <td>0.79428</td>\n",
       "      <td>5.76</td>\n",
       "      <td>29.230000</td>\n",
       "      <td>5.953</td>\n",
       "      <td>2003.369995</td>\n",
       "      <td>1111.920044</td>\n",
       "      <td>0.9127</td>\n",
       "      <td>377.00</td>\n",
       "    </tr>\n",
       "    <tr>\n",
       "      <th>2003-12-30</th>\n",
       "      <td>33.01</td>\n",
       "      <td>1.0400</td>\n",
       "      <td>10425.000000</td>\n",
       "      <td>416.899994</td>\n",
       "      <td>0.79688</td>\n",
       "      <td>5.96</td>\n",
       "      <td>29.240000</td>\n",
       "      <td>5.983</td>\n",
       "      <td>2009.880005</td>\n",
       "      <td>1109.640015</td>\n",
       "      <td>0.9294</td>\n",
       "      <td>396.25</td>\n",
       "    </tr>\n",
       "  </tbody>\n",
       "</table>\n",
       "<p>3771 rows × 12 columns</p>\n",
       "</div>"
      ],
      "text/plain": [
       "            WTI_dollar_per_barrel  copper_close     dji_index   gold_close  \\\n",
       "Date                                                                         \n",
       "2020-03-19                  25.09        2.2000  20087.199219  1478.599976   \n",
       "2020-03-18                  20.48        2.1605  19898.900391  1477.300049   \n",
       "2020-03-17                  26.96        2.3155  21237.400391  1524.900024   \n",
       "2020-03-16                  28.96        2.3985  20188.500000  1485.900024   \n",
       "2020-03-13                  31.72        2.4740  23185.599609  1515.699951   \n",
       "...                           ...           ...           ...          ...   \n",
       "2004-01-07                  33.57        1.0625  10529.000000   421.899994   \n",
       "2004-01-06                  33.54        1.0670  10538.700195   422.799988   \n",
       "2004-01-05                  33.71        1.0830  10544.099609   424.399994   \n",
       "2003-12-31                  32.51        1.0430  10453.900391   415.700012   \n",
       "2003-12-30                  33.01        1.0400  10425.000000   416.899994   \n",
       "\n",
       "            eur_close  \\\n",
       "Date                    \n",
       "2020-03-19    0.91228   \n",
       "2020-03-18    0.90781   \n",
       "2020-03-17    0.89580   \n",
       "2020-03-16    0.89643   \n",
       "2020-03-13    0.89406   \n",
       "...               ...   \n",
       "2004-01-07    0.79108   \n",
       "2004-01-06    0.78610   \n",
       "2004-01-05    0.78821   \n",
       "2003-12-31    0.79428   \n",
       "2003-12-30    0.79688   \n",
       "\n",
       "            Henry Hub Natural Gas Spot Price Dollars per Million Btu  \\\n",
       "Date                                                                   \n",
       "2020-03-19                                               1.68          \n",
       "2020-03-18                                               1.73          \n",
       "2020-03-17                                               1.89          \n",
       "2020-03-16                                               1.89          \n",
       "2020-03-13                                               1.94          \n",
       "...                                                       ...          \n",
       "2004-01-07                                               6.61          \n",
       "2004-01-06                                               7.04          \n",
       "2004-01-05                                               6.28          \n",
       "2003-12-31                                               5.76          \n",
       "2003-12-30                                               5.96          \n",
       "\n",
       "            rub_close  silver_close  nasdaq_close        SP500  heat_close  \\\n",
       "Date                                                                         \n",
       "2020-03-19  80.919998        12.097   7150.580078  2409.389893      1.0417   \n",
       "2020-03-18  75.297501        11.735   6989.839844  2398.100098      0.9542   \n",
       "2020-03-17  74.356300        12.469   7334.779785  2529.189941      1.0357   \n",
       "2020-03-16  73.237999        12.772   6904.589844  2386.129883      1.0466   \n",
       "2020-03-13  74.898102        14.456   7874.879883  2711.020020      1.1374   \n",
       "...               ...           ...           ...          ...         ...   \n",
       "2004-01-07  29.240000         6.251   2077.679932  1126.329956      0.9661   \n",
       "2004-01-06  29.250000         6.316   2057.370117  1123.670044      0.9774   \n",
       "2004-01-05  29.230000         6.233   2047.359985  1122.219971      0.9684   \n",
       "2003-12-31  29.230000         5.953   2003.369995  1111.920044      0.9127   \n",
       "2003-12-30  29.240000         5.983   2009.880005  1109.640015      0.9294   \n",
       "\n",
       "            wheat_close  \n",
       "Date                     \n",
       "2020-03-19       535.00  \n",
       "2020-03-18       508.25  \n",
       "2020-03-17       499.25  \n",
       "2020-03-16       498.00  \n",
       "2020-03-13       514.75  \n",
       "...                 ...  \n",
       "2004-01-07       395.50  \n",
       "2004-01-06       394.50  \n",
       "2004-01-05       398.50  \n",
       "2003-12-31       377.00  \n",
       "2003-12-30       396.25  \n",
       "\n",
       "[3771 rows x 12 columns]"
      ]
     },
     "execution_count": 153,
     "metadata": {},
     "output_type": "execute_result"
    }
   ],
   "source": [
    "\n",
    "from functools import reduce\n",
    "df2_merge = reduce(lambda  left,right: pd.merge(left,right,on=['Date'],\n",
    "                                            how='outer'), [wti_close,cop_close,dji_close, gold_close,eur_close,hen,rub_close,sil_close,nas_close,sp_close, heat_close, wheat_close])\n",
    "df2_merge = df2_merge.dropna()\n",
    "df2_merge = df2_merge.set_index('Date')\n",
    "df2_merge\n",
    "# df2_merge.to_csv('oil_top_10.csv')"
   ]
  },
  {
   "cell_type": "code",
   "execution_count": 154,
   "id": "79540c43",
   "metadata": {},
   "outputs": [
    {
     "data": {
      "text/plain": [
       "Timestamp('2003-12-30 00:00:00')"
      ]
     },
     "execution_count": 154,
     "metadata": {},
     "output_type": "execute_result"
    }
   ],
   "source": [
    "df2_merge.index.min()"
   ]
  },
  {
   "cell_type": "code",
   "execution_count": 155,
   "id": "fe381448-fafb-46e6-a2fd-3c3904fef784",
   "metadata": {},
   "outputs": [
    {
     "data": {
      "text/plain": [
       "Timestamp('2020-03-19 00:00:00')"
      ]
     },
     "execution_count": 155,
     "metadata": {},
     "output_type": "execute_result"
    }
   ],
   "source": [
    "df2_merge.index.max()"
   ]
  },
  {
   "cell_type": "code",
   "execution_count": 156,
   "id": "71870443-08ef-4376-8abe-e9d133afd0dc",
   "metadata": {},
   "outputs": [
    {
     "data": {
      "text/html": [
       "<div>\n",
       "<style scoped>\n",
       "    .dataframe tbody tr th:only-of-type {\n",
       "        vertical-align: middle;\n",
       "    }\n",
       "\n",
       "    .dataframe tbody tr th {\n",
       "        vertical-align: top;\n",
       "    }\n",
       "\n",
       "    .dataframe thead th {\n",
       "        text-align: right;\n",
       "    }\n",
       "</style>\n",
       "<table border=\"1\" class=\"dataframe\">\n",
       "  <thead>\n",
       "    <tr style=\"text-align: right;\">\n",
       "      <th></th>\n",
       "      <th>WTI_dollar_per_barrel</th>\n",
       "      <th>copper_close</th>\n",
       "      <th>dji_index</th>\n",
       "      <th>gold_close</th>\n",
       "      <th>eur_close</th>\n",
       "      <th>Henry Hub Natural Gas Spot Price Dollars per Million Btu</th>\n",
       "      <th>rub_close</th>\n",
       "      <th>silver_close</th>\n",
       "      <th>nasdaq_close</th>\n",
       "      <th>SP500</th>\n",
       "      <th>heat_close</th>\n",
       "      <th>wheat_close</th>\n",
       "    </tr>\n",
       "    <tr>\n",
       "      <th>Date</th>\n",
       "      <th></th>\n",
       "      <th></th>\n",
       "      <th></th>\n",
       "      <th></th>\n",
       "      <th></th>\n",
       "      <th></th>\n",
       "      <th></th>\n",
       "      <th></th>\n",
       "      <th></th>\n",
       "      <th></th>\n",
       "      <th></th>\n",
       "      <th></th>\n",
       "    </tr>\n",
       "  </thead>\n",
       "  <tbody>\n",
       "    <tr>\n",
       "      <th>2020-03-19</th>\n",
       "      <td>25.09</td>\n",
       "      <td>2.2000</td>\n",
       "      <td>20087.199219</td>\n",
       "      <td>1478.599976</td>\n",
       "      <td>0.91228</td>\n",
       "      <td>1.68</td>\n",
       "      <td>80.919998</td>\n",
       "      <td>12.097</td>\n",
       "      <td>7150.580078</td>\n",
       "      <td>2409.389893</td>\n",
       "      <td>1.0417</td>\n",
       "      <td>535.00</td>\n",
       "    </tr>\n",
       "    <tr>\n",
       "      <th>2020-03-18</th>\n",
       "      <td>20.48</td>\n",
       "      <td>2.1605</td>\n",
       "      <td>19898.900391</td>\n",
       "      <td>1477.300049</td>\n",
       "      <td>0.90781</td>\n",
       "      <td>1.73</td>\n",
       "      <td>75.297501</td>\n",
       "      <td>11.735</td>\n",
       "      <td>6989.839844</td>\n",
       "      <td>2398.100098</td>\n",
       "      <td>0.9542</td>\n",
       "      <td>508.25</td>\n",
       "    </tr>\n",
       "    <tr>\n",
       "      <th>2020-03-17</th>\n",
       "      <td>26.96</td>\n",
       "      <td>2.3155</td>\n",
       "      <td>21237.400391</td>\n",
       "      <td>1524.900024</td>\n",
       "      <td>0.89580</td>\n",
       "      <td>1.89</td>\n",
       "      <td>74.356300</td>\n",
       "      <td>12.469</td>\n",
       "      <td>7334.779785</td>\n",
       "      <td>2529.189941</td>\n",
       "      <td>1.0357</td>\n",
       "      <td>499.25</td>\n",
       "    </tr>\n",
       "    <tr>\n",
       "      <th>2020-03-16</th>\n",
       "      <td>28.96</td>\n",
       "      <td>2.3985</td>\n",
       "      <td>20188.500000</td>\n",
       "      <td>1485.900024</td>\n",
       "      <td>0.89643</td>\n",
       "      <td>1.89</td>\n",
       "      <td>73.237999</td>\n",
       "      <td>12.772</td>\n",
       "      <td>6904.589844</td>\n",
       "      <td>2386.129883</td>\n",
       "      <td>1.0466</td>\n",
       "      <td>498.00</td>\n",
       "    </tr>\n",
       "    <tr>\n",
       "      <th>2020-03-13</th>\n",
       "      <td>31.72</td>\n",
       "      <td>2.4740</td>\n",
       "      <td>23185.599609</td>\n",
       "      <td>1515.699951</td>\n",
       "      <td>0.89406</td>\n",
       "      <td>1.94</td>\n",
       "      <td>74.898102</td>\n",
       "      <td>14.456</td>\n",
       "      <td>7874.879883</td>\n",
       "      <td>2711.020020</td>\n",
       "      <td>1.1374</td>\n",
       "      <td>514.75</td>\n",
       "    </tr>\n",
       "    <tr>\n",
       "      <th>...</th>\n",
       "      <td>...</td>\n",
       "      <td>...</td>\n",
       "      <td>...</td>\n",
       "      <td>...</td>\n",
       "      <td>...</td>\n",
       "      <td>...</td>\n",
       "      <td>...</td>\n",
       "      <td>...</td>\n",
       "      <td>...</td>\n",
       "      <td>...</td>\n",
       "      <td>...</td>\n",
       "      <td>...</td>\n",
       "    </tr>\n",
       "    <tr>\n",
       "      <th>2004-01-07</th>\n",
       "      <td>33.57</td>\n",
       "      <td>1.0625</td>\n",
       "      <td>10529.000000</td>\n",
       "      <td>421.899994</td>\n",
       "      <td>0.79108</td>\n",
       "      <td>6.61</td>\n",
       "      <td>29.240000</td>\n",
       "      <td>6.251</td>\n",
       "      <td>2077.679932</td>\n",
       "      <td>1126.329956</td>\n",
       "      <td>0.9661</td>\n",
       "      <td>395.50</td>\n",
       "    </tr>\n",
       "    <tr>\n",
       "      <th>2004-01-06</th>\n",
       "      <td>33.54</td>\n",
       "      <td>1.0670</td>\n",
       "      <td>10538.700195</td>\n",
       "      <td>422.799988</td>\n",
       "      <td>0.78610</td>\n",
       "      <td>7.04</td>\n",
       "      <td>29.250000</td>\n",
       "      <td>6.316</td>\n",
       "      <td>2057.370117</td>\n",
       "      <td>1123.670044</td>\n",
       "      <td>0.9774</td>\n",
       "      <td>394.50</td>\n",
       "    </tr>\n",
       "    <tr>\n",
       "      <th>2004-01-05</th>\n",
       "      <td>33.71</td>\n",
       "      <td>1.0830</td>\n",
       "      <td>10544.099609</td>\n",
       "      <td>424.399994</td>\n",
       "      <td>0.78821</td>\n",
       "      <td>6.28</td>\n",
       "      <td>29.230000</td>\n",
       "      <td>6.233</td>\n",
       "      <td>2047.359985</td>\n",
       "      <td>1122.219971</td>\n",
       "      <td>0.9684</td>\n",
       "      <td>398.50</td>\n",
       "    </tr>\n",
       "    <tr>\n",
       "      <th>2003-12-31</th>\n",
       "      <td>32.51</td>\n",
       "      <td>1.0430</td>\n",
       "      <td>10453.900391</td>\n",
       "      <td>415.700012</td>\n",
       "      <td>0.79428</td>\n",
       "      <td>5.76</td>\n",
       "      <td>29.230000</td>\n",
       "      <td>5.953</td>\n",
       "      <td>2003.369995</td>\n",
       "      <td>1111.920044</td>\n",
       "      <td>0.9127</td>\n",
       "      <td>377.00</td>\n",
       "    </tr>\n",
       "    <tr>\n",
       "      <th>2003-12-30</th>\n",
       "      <td>33.01</td>\n",
       "      <td>1.0400</td>\n",
       "      <td>10425.000000</td>\n",
       "      <td>416.899994</td>\n",
       "      <td>0.79688</td>\n",
       "      <td>5.96</td>\n",
       "      <td>29.240000</td>\n",
       "      <td>5.983</td>\n",
       "      <td>2009.880005</td>\n",
       "      <td>1109.640015</td>\n",
       "      <td>0.9294</td>\n",
       "      <td>396.25</td>\n",
       "    </tr>\n",
       "  </tbody>\n",
       "</table>\n",
       "<p>3771 rows × 12 columns</p>\n",
       "</div>"
      ],
      "text/plain": [
       "            WTI_dollar_per_barrel  copper_close     dji_index   gold_close  \\\n",
       "Date                                                                         \n",
       "2020-03-19                  25.09        2.2000  20087.199219  1478.599976   \n",
       "2020-03-18                  20.48        2.1605  19898.900391  1477.300049   \n",
       "2020-03-17                  26.96        2.3155  21237.400391  1524.900024   \n",
       "2020-03-16                  28.96        2.3985  20188.500000  1485.900024   \n",
       "2020-03-13                  31.72        2.4740  23185.599609  1515.699951   \n",
       "...                           ...           ...           ...          ...   \n",
       "2004-01-07                  33.57        1.0625  10529.000000   421.899994   \n",
       "2004-01-06                  33.54        1.0670  10538.700195   422.799988   \n",
       "2004-01-05                  33.71        1.0830  10544.099609   424.399994   \n",
       "2003-12-31                  32.51        1.0430  10453.900391   415.700012   \n",
       "2003-12-30                  33.01        1.0400  10425.000000   416.899994   \n",
       "\n",
       "            eur_close  \\\n",
       "Date                    \n",
       "2020-03-19    0.91228   \n",
       "2020-03-18    0.90781   \n",
       "2020-03-17    0.89580   \n",
       "2020-03-16    0.89643   \n",
       "2020-03-13    0.89406   \n",
       "...               ...   \n",
       "2004-01-07    0.79108   \n",
       "2004-01-06    0.78610   \n",
       "2004-01-05    0.78821   \n",
       "2003-12-31    0.79428   \n",
       "2003-12-30    0.79688   \n",
       "\n",
       "            Henry Hub Natural Gas Spot Price Dollars per Million Btu  \\\n",
       "Date                                                                   \n",
       "2020-03-19                                               1.68          \n",
       "2020-03-18                                               1.73          \n",
       "2020-03-17                                               1.89          \n",
       "2020-03-16                                               1.89          \n",
       "2020-03-13                                               1.94          \n",
       "...                                                       ...          \n",
       "2004-01-07                                               6.61          \n",
       "2004-01-06                                               7.04          \n",
       "2004-01-05                                               6.28          \n",
       "2003-12-31                                               5.76          \n",
       "2003-12-30                                               5.96          \n",
       "\n",
       "            rub_close  silver_close  nasdaq_close        SP500  heat_close  \\\n",
       "Date                                                                         \n",
       "2020-03-19  80.919998        12.097   7150.580078  2409.389893      1.0417   \n",
       "2020-03-18  75.297501        11.735   6989.839844  2398.100098      0.9542   \n",
       "2020-03-17  74.356300        12.469   7334.779785  2529.189941      1.0357   \n",
       "2020-03-16  73.237999        12.772   6904.589844  2386.129883      1.0466   \n",
       "2020-03-13  74.898102        14.456   7874.879883  2711.020020      1.1374   \n",
       "...               ...           ...           ...          ...         ...   \n",
       "2004-01-07  29.240000         6.251   2077.679932  1126.329956      0.9661   \n",
       "2004-01-06  29.250000         6.316   2057.370117  1123.670044      0.9774   \n",
       "2004-01-05  29.230000         6.233   2047.359985  1122.219971      0.9684   \n",
       "2003-12-31  29.230000         5.953   2003.369995  1111.920044      0.9127   \n",
       "2003-12-30  29.240000         5.983   2009.880005  1109.640015      0.9294   \n",
       "\n",
       "            wheat_close  \n",
       "Date                     \n",
       "2020-03-19       535.00  \n",
       "2020-03-18       508.25  \n",
       "2020-03-17       499.25  \n",
       "2020-03-16       498.00  \n",
       "2020-03-13       514.75  \n",
       "...                 ...  \n",
       "2004-01-07       395.50  \n",
       "2004-01-06       394.50  \n",
       "2004-01-05       398.50  \n",
       "2003-12-31       377.00  \n",
       "2003-12-30       396.25  \n",
       "\n",
       "[3771 rows x 12 columns]"
      ]
     },
     "execution_count": 156,
     "metadata": {},
     "output_type": "execute_result"
    }
   ],
   "source": [
    "df2_merge"
   ]
  },
  {
   "cell_type": "code",
   "execution_count": null,
   "id": "24d5d0b3-3f1f-4d93-9b3e-de4b3c405ccb",
   "metadata": {},
   "outputs": [],
   "source": []
  },
  {
   "cell_type": "code",
   "execution_count": null,
   "id": "e61679cc-12c2-4a8a-b255-0043492a901e",
   "metadata": {},
   "outputs": [],
   "source": []
  }
 ],
 "metadata": {
  "kernelspec": {
   "display_name": "Python 3 (ipykernel)",
   "language": "python",
   "name": "python3"
  },
  "language_info": {
   "codemirror_mode": {
    "name": "ipython",
    "version": 3
   },
   "file_extension": ".py",
   "mimetype": "text/x-python",
   "name": "python",
   "nbconvert_exporter": "python",
   "pygments_lexer": "ipython3",
   "version": "3.11.5"
  }
 },
 "nbformat": 4,
 "nbformat_minor": 5
}
