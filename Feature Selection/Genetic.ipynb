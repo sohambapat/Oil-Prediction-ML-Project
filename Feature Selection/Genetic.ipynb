{
 "cells": [
  {
   "cell_type": "code",
   "execution_count": 2,
   "id": "initial_id",
   "metadata": {
    "collapsed": true,
    "ExecuteTime": {
     "end_time": "2023-10-18T03:13:03.195085600Z",
     "start_time": "2023-10-18T03:13:01.829844Z"
    }
   },
   "outputs": [],
   "source": [
    "import random\n",
    "\n",
    "import pandas as pd\n",
    "from sklearn.preprocessing import MinMaxScaler\n",
    "import random\n",
    "from deap import base, creator, tools, algorithms\n",
    "from sklearn.ensemble import RandomForestRegressor\n",
    "from sklearn.model_selection import cross_val_score\n",
    "import numpy as np\n",
    "from tqdm import tqdm, trange"
   ]
  },
  {
   "cell_type": "code",
   "execution_count": 3,
   "outputs": [
    {
     "data": {
      "text/plain": "array([[0.        , 0.14571157, 0.01842924, ..., 0.01041586, 0.09341085,\n        0.        ],\n       [0.00381731, 0.14373759, 0.01908978, ..., 0.01186788, 0.09224806,\n        0.00874084],\n       [0.00558964, 0.14459744, 0.01922188, ..., 0.011713  , 0.09767442,\n        0.00984107],\n       ...,\n       [0.33933197, 0.58859081, 0.72911025, ..., 0.54108264, 0.24689922,\n        0.063478  ],\n       [0.33933197, 0.58859081, 0.72911025, ..., 0.54108264, 0.24689922,\n        0.063478  ],\n       [0.33933197, 0.58859081, 0.72911025, ..., 0.54108264, 0.24689922,\n        0.063478  ]])"
     },
     "execution_count": 3,
     "metadata": {},
     "output_type": "execute_result"
    }
   ],
   "source": [
    "df = pd.read_csv('data/oil_merge_13.csv')\n",
    "FEATURES = [\"copper_close\", \"dji_index\", \"gold_close\", \"eur_close\",\n",
    "            \"Henry Hub Natural Gas Spot Price Dollars per Million Btu\", \"rub_close\", \"silver_close\", \"nasdaq_close\",\n",
    "            \"SP500\", \"pal_close\", \"corn_close\", \"heat_close\"]\n",
    "TARGET = \"WTI_dollar_per_barrel\"\n",
    "X = df[FEATURES]\n",
    "y = df[TARGET]\n",
    "\n",
    "scaler = MinMaxScaler()\n",
    "X = scaler.fit_transform(X)\n",
    "X"
   ],
   "metadata": {
    "collapsed": false,
    "ExecuteTime": {
     "end_time": "2023-10-18T03:13:03.236826200Z",
     "start_time": "2023-10-18T03:13:03.196091300Z"
    }
   },
   "id": "c8ed369597c0158e"
  },
  {
   "cell_type": "code",
   "execution_count": 4,
   "outputs": [],
   "source": [
    "# Define the evaluation function (fitness function)\n",
    "def evaluate(individual):\n",
    "    # Create a mask for selected features\n",
    "    mask = np.array(individual, dtype=bool)\n",
    "    # Use only selected features for regression\n",
    "    X_selected = X[:, mask]\n",
    "\n",
    "    # Use RandomForestRegressor for regression task\n",
    "    reg = RandomForestRegressor(n_estimators=100, random_state=42)\n",
    "    scores = cross_val_score(reg, X_selected, y, cv=3, scoring='neg_mean_squared_error')\n",
    "    rmse = np.sqrt(-scores.mean())  # Root Mean Squared Error\n",
    "    return rmse"
   ],
   "metadata": {
    "collapsed": false,
    "ExecuteTime": {
     "end_time": "2023-10-18T03:13:03.241357800Z",
     "start_time": "2023-10-18T03:13:03.224780Z"
    }
   },
   "id": "b4803a86f190264"
  },
  {
   "cell_type": "code",
   "execution_count": 5,
   "outputs": [],
   "source": [
    "# Create the fitness and individual classes using DEAP\n",
    "creator.create(\"FitnessMin\", base.Fitness, weights=(-1.0,))\n",
    "creator.create(\"Individual\", list, fitness=creator.FitnessMin)\n",
    "\n",
    "# Create a toolbox for creating individuals and populations\n",
    "toolbox = base.Toolbox()\n",
    "toolbox.register(\"attr_bool\", random.randint, 0, 1)\n",
    "toolbox.register(\"individual\", tools.initRepeat, creator.Individual, toolbox.attr_bool, n=12)  # 2 features in the CSV file\n",
    "toolbox.register(\"population\", tools.initRepeat, list, toolbox.individual)\n",
    "\n",
    "# Register the evaluation function, crossover, mutation, and selection operators\n",
    "toolbox.register(\"evaluate\", evaluate)\n",
    "toolbox.register(\"mate\", tools.cxTwoPoint)\n",
    "toolbox.register(\"mutate\", tools.mutFlipBit, indpb=0.05)\n",
    "toolbox.register(\"select\", tools.selTournament, tournsize=3)"
   ],
   "metadata": {
    "collapsed": false,
    "ExecuteTime": {
     "end_time": "2023-10-18T03:13:03.317258400Z",
     "start_time": "2023-10-18T03:13:03.301065300Z"
    }
   },
   "id": "f6ce463e59b62117"
  },
  {
   "cell_type": "code",
   "execution_count": 6,
   "outputs": [],
   "source": [
    "# Define the population size, number of generations, crossover probability, and mutation probability\n",
    "POP_SIZE = 30\n",
    "NUM_GENERATIONS = 25\n",
    "CXPB = 0.6  # Crossover probability\n",
    "MUTPB = 0.2  # Mutation probability\n",
    "\n",
    "# Create an initial population\n",
    "population = toolbox.population(n=POP_SIZE)"
   ],
   "metadata": {
    "collapsed": false,
    "ExecuteTime": {
     "end_time": "2023-10-18T03:13:03.999019700Z",
     "start_time": "2023-10-18T03:13:03.990982400Z"
    }
   },
   "id": "f9dc6857dd22d1b"
  },
  {
   "cell_type": "code",
   "execution_count": 7,
   "outputs": [
    {
     "name": "stderr",
     "output_type": "stream",
     "text": [
      "100%|██████████| 30/30 [04:17<00:00,  8.59s/it]\n"
     ]
    }
   ],
   "source": [
    "# Evaluate the entire population\n",
    "fitnesses = list(map(toolbox.evaluate, tqdm(population)))\n",
    "for ind, fit in zip(population, fitnesses):\n",
    "    ind.fitness.values = (fit,)"
   ],
   "metadata": {
    "collapsed": false,
    "ExecuteTime": {
     "end_time": "2023-10-18T03:17:22.689739500Z",
     "start_time": "2023-10-18T03:13:04.891286900Z"
    }
   },
   "id": "a53b224e9d98d6bd"
  },
  {
   "cell_type": "code",
   "execution_count": 8,
   "outputs": [
    {
     "name": "stderr",
     "output_type": "stream",
     "text": [
      "100%|██████████| 25/25 [1:45:01<00:00, 252.05s/it]\n"
     ]
    }
   ],
   "source": [
    "# Run the genetic algorithm\n",
    "for gen in trange(NUM_GENERATIONS):\n",
    "    # Select the next generation individuals\n",
    "    offspring = algorithms.varAnd(population, toolbox, cxpb=CXPB, mutpb=MUTPB)\n",
    "    # print(offspring)\n",
    "    fits = toolbox.map(toolbox.evaluate, offspring)\n",
    "    for ind, fit in zip(offspring, fits):\n",
    "        ind.fitness.values = (fit,)\n",
    "\n",
    "    # Replace the old population with the offspring\n",
    "    population[:] = offspring"
   ],
   "metadata": {
    "collapsed": false,
    "ExecuteTime": {
     "end_time": "2023-10-17T15:54:10.156377100Z",
     "start_time": "2023-10-17T14:09:08.800742Z"
    }
   },
   "id": "e0038b3a9847dfc"
  },
  {
   "cell_type": "code",
   "execution_count": 10,
   "outputs": [
    {
     "name": "stdout",
     "output_type": "stream",
     "text": [
      "Selected Features: [0, 1, 7, 9, 11]\n",
      "['copper_close', 'dji_index', 'nasdaq_close', 'pal_close', 'heat_close']\n"
     ]
    }
   ],
   "source": [
    "# Find the best individual in the final population\n",
    "best_individual = tools.selBest(population, k=1)[0]\n",
    "selected_features = [i for i in range(len(best_individual)) if best_individual[i] == 1]\n",
    "\n",
    "print(\"Selected Features:\", selected_features)\n",
    "print([FEATURES[i] for i in selected_features])"
   ],
   "metadata": {
    "collapsed": false,
    "ExecuteTime": {
     "end_time": "2023-10-17T17:32:59.108709200Z",
     "start_time": "2023-10-17T17:32:59.103725Z"
    }
   },
   "id": "eeb985de623d80ec"
  },
  {
   "cell_type": "code",
   "execution_count": null,
   "outputs": [],
   "source": [],
   "metadata": {
    "collapsed": false
   },
   "id": "a546f709436c00e0"
  }
 ],
 "metadata": {
  "kernelspec": {
   "display_name": "Python 3",
   "language": "python",
   "name": "python3"
  },
  "language_info": {
   "codemirror_mode": {
    "name": "ipython",
    "version": 2
   },
   "file_extension": ".py",
   "mimetype": "text/x-python",
   "name": "python",
   "nbconvert_exporter": "python",
   "pygments_lexer": "ipython2",
   "version": "2.7.6"
  }
 },
 "nbformat": 4,
 "nbformat_minor": 5
}
